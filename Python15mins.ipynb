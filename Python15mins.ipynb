{
 "cells": [
  {
   "cell_type": "markdown",
   "metadata": {},
   "source": [
    "# PYTHON ΣΕ 15 ΛΕΠΤΑ"
   ]
  },
  {
   "cell_type": "markdown",
   "metadata": {},
   "source": [
    "## 1. Αριθμοί και Αριθμητικές Πράξεις"
   ]
  },
  {
   "cell_type": "code",
   "execution_count": 9,
   "metadata": {
    "collapsed": false
   },
   "outputs": [
    {
     "name": "stdout",
     "output_type": "stream",
     "text": [
      "<type 'int'> <type 'float'>\n",
      "3.0 4\n",
      "7.5 -1.5 13.5 91.125 1.5 1 1.33333333333 1.0 1.5\n",
      "5\n",
      "30\n"
     ]
    }
   ],
   "source": [
    "a = 3\n",
    "b = 4.5\n",
    "print type(a), type(b)\n",
    "print float(a), int(b)\n",
    "print a+b, a-b, a*b, b**a, b/a, int(b)/a, int(b)/float(a), b//a, b%a\n",
    "a += 2\n",
    "print a\n",
    "a *= 6\n",
    "print a\n",
    "print(a)"
   ]
  },
  {
   "cell_type": "markdown",
   "metadata": {},
   "source": [
    "## 2. Συμβολοσειρές και Μετασχηματισμοί"
   ]
  },
  {
   "cell_type": "code",
   "execution_count": 61,
   "metadata": {
    "collapsed": false
   },
   "outputs": [
    {
     "name": "stdout",
     "output_type": "stream",
     "text": [
      "<type 'str'> 5\n",
      "<type 'str'> 6\n",
      "hello world! hello World! hello World!\n",
      "Hello world! Hello world! Hello world!\n",
      "Yellow sword\n"
     ]
    }
   ],
   "source": [
    "s = 'hello'\n",
    "t = 'World!'\n",
    "print type(s), len(s)\n",
    "print type(t), len(t)\n",
    "print 'hello world!', s + ' ' + t, '%s %s' %(s,t)\n",
    "print 'Hello world!', s.capitalize() + ' ' + t.lower(), '%s %s' %(s.capitalize(),t.lower())\n",
    "print s.replace('h','Y').replace('o','ow') + ' ' + t.replace('W','sw').replace('rl','r').replace('d!','d')"
   ]
  },
  {
   "cell_type": "markdown",
   "metadata": {},
   "source": [
    "## 3. Λίστες"
   ]
  },
  {
   "cell_type": "code",
   "execution_count": 142,
   "metadata": {
    "collapsed": false
   },
   "outputs": [
    {
     "name": "stdout",
     "output_type": "stream",
     "text": [
      "[]\n",
      "[0, 1, 2, 3]\n",
      "[1, 2, 3, 4]\n",
      "[1, 3, 5, 7, 9]\n",
      "[10, 15.6, 'A', 5]\n",
      "4\n",
      "15.6\n",
      "[10, 15, -3, 5]\n",
      "[10, 15, -3, 5, 2]\n",
      "[10, 15, -3, 5, 2, 0, 1]\n",
      "1 0 2\n",
      "[10, 15, -3, 5, 2, 0]\n",
      "[10, 15, -3, 5, 0]\n",
      "[15, -3, 5, 0] [10, 15] [15, -3] [15, -3, 5] [10, 15, -3, 5, 0]\n",
      "[10, 'A', 'B', 'C', 5, 0]\n",
      "Στοιχείο 1: 10\n",
      "Στοιχείο 2: A\n",
      "Στοιχείο 3: B\n",
      "Στοιχείο 4: C\n",
      "Στοιχείο 5: 5\n",
      "Στοιχείο 6: 0\n",
      "[20, 'AA', 'BB', 'CC', 10, 0]\n",
      "[100, 25, 0]\n"
     ]
    }
   ],
   "source": [
    "null = []\n",
    "print null\n",
    "n = range(4)\n",
    "print n\n",
    "m = range(1,5)\n",
    "print m\n",
    "k = range(1,11,2)\n",
    "print k\n",
    "x = [10, 15.6, 'A', len(n)*len(k)/4]\n",
    "print x\n",
    "print len(x)\n",
    "print x[1]\n",
    "x[1] = int(x[1])\n",
    "x[2] = -3\n",
    "print x\n",
    "x.append(2)\n",
    "print x\n",
    "x.extend(range(2))\n",
    "print x\n",
    "print x[-1], x[-2], x[-3]\n",
    "x.pop()\n",
    "print x\n",
    "x.pop(-2)\n",
    "print x\n",
    "print x[1:], x[:2], x[1:3], x[-4:-1], x[:]\n",
    "x[1:3] = ['A','B','C']\n",
    "print x\n",
    "for i, v in enumerate(x):\n",
    "    print 'Στοιχείο %d: %s' % (i + 1, v)\n",
    "xx = [i*2 for i in x]\n",
    "print xx\n",
    "xx1 = [i**2 for i in x if type(i) == int]\n",
    "print xx1"
   ]
  },
  {
   "cell_type": "code",
   "execution_count": 3,
   "metadata": {
    "collapsed": false
   },
   "outputs": [
    {
     "name": "stdout",
     "output_type": "stream",
     "text": [
      "Στοιχείο 1: 10\n",
      "Στοιχείο 2: 15.6\n",
      "Στοιχείο 3: A\n",
      "Στοιχείο 4: b\n"
     ]
    }
   ],
   "source": [
    "x = [10, 15.6, 'A', 'b']\n",
    "for i, v in enumerate(x):\n",
    "    \n",
    "    print 'Στοιχείο %d: %s' % (i + 1, v)"
   ]
  },
  {
   "cell_type": "code",
   "execution_count": null,
   "metadata": {
    "collapsed": true
   },
   "outputs": [],
   "source": []
  },
  {
   "cell_type": "markdown",
   "metadata": {},
   "source": [
    "## 4. Πλειάδες (Tuples)"
   ]
  },
  {
   "cell_type": "code",
   "execution_count": 135,
   "metadata": {
    "collapsed": false
   },
   "outputs": [
    {
     "name": "stdout",
     "output_type": "stream",
     "text": [
      "('physics', 'chemistry', 1997, 2000) (50,) ('a', 'b', 'c', 'd') (1, 2, 3, 4, 5)\n",
      "1997\n",
      "2000\n",
      "{0: 1, 1: 1, 2: 4, 3: 27, 4: 256, 5: 3125}\n"
     ]
    }
   ],
   "source": [
    "tup0 = ()\n",
    "tup1 =(50,)\n",
    "tup = ('physics', 'chemistry', 1997, 2000)\n",
    "tup2 = \"a\", \"b\", \"c\", \"d\"\n",
    "tup3 = tuple(range(1,6))\n",
    "print tup, tup1, tup2, tup3\n",
    "x,y = tup[2:4]\n",
    "print x\n",
    "y,x = x,y\n",
    "print x\n",
    "d = {x: x**x for x in range(6)}\n",
    "print d"
   ]
  },
  {
   "cell_type": "markdown",
   "metadata": {},
   "source": [
    "## 5. Λεξικά"
   ]
  },
  {
   "cell_type": "code",
   "execution_count": 104,
   "metadata": {
    "collapsed": false
   },
   "outputs": [
    {
     "name": "stdout",
     "output_type": "stream",
     "text": [
      "Greece\n",
      "{'Takis': 'Greece', 'Jean': 'France', 'Jim': 'USA', 'Johan': 'Sweden'}\n",
      "N/A\n",
      "Sweden\n",
      "{'Takis': 'Greece', 'Jean': 'Belgium', 'Jim': 'USA', 'Johan': 'Sweden'}\n",
      "{'Takis': 'Greece', 'Jim': 'USA', 'Johan': 'Sweden'}\n",
      "Takis is from Greece\n",
      "Jim is from USA\n",
      "Johan is from Sweden\n",
      "{0: 0, 2: 4, 4: 16, 6: 36, 8: 64, 10: 100}\n"
     ]
    }
   ],
   "source": [
    "d = {'Jim':'USA', 'Takis':'Greece', 'Jean':'France'}\n",
    "print d['Takis']\n",
    "d['Johan'] = 'Sweden'\n",
    "print d\n",
    "# print d['George']\n",
    "print d.get('George', 'N/A')\n",
    "print d.get('Johan', 'N/A')\n",
    "d['Jean'] = 'Belgium'\n",
    "print d\n",
    "del d['Jean']\n",
    "print d\n",
    "for key, value in d.iteritems():\n",
    "    print '%s is from %s' % (key, value)\n",
    "dsquares = {x: x ** 2 for x in range(11) if x % 2 == 0}\n",
    "print dsquares"
   ]
  },
  {
   "cell_type": "markdown",
   "metadata": {},
   "source": [
    "## 6. Σύνολα"
   ]
  },
  {
   "cell_type": "code",
   "execution_count": 138,
   "metadata": {
    "collapsed": false
   },
   "outputs": [
    {
     "name": "stdout",
     "output_type": "stream",
     "text": [
      "set(['fish', 'dog', 'cat'])\n",
      "set(['fish', 'dog', 'cat'])\n",
      "set(['fish', 'dog'])\n"
     ]
    }
   ],
   "source": [
    "animals = {'cat', 'dog'}\n",
    "animals.add('fish')\n",
    "print animals\n",
    "animals.add('cat')\n",
    "print animals\n",
    "animals.remove('cat')\n",
    "print animals"
   ]
  },
  {
   "cell_type": "markdown",
   "metadata": {},
   "source": [
    "## 7. Συναρτήσεις"
   ]
  },
  {
   "cell_type": "code",
   "execution_count": 139,
   "metadata": {
    "collapsed": false
   },
   "outputs": [
    {
     "name": "stdout",
     "output_type": "stream",
     "text": [
      "Hello, Bob\n",
      "HELLO, FRED!\n"
     ]
    }
   ],
   "source": [
    "def hello(name, loud=False):\n",
    "    if loud:\n",
    "        print 'HELLO, %s!' % name.upper()\n",
    "    else:\n",
    "        print 'Hello, %s' % name\n",
    "        \n",
    "hello('Bob')\n",
    "hello('Fred', loud=True)"
   ]
  },
  {
   "cell_type": "code",
   "execution_count": 141,
   "metadata": {
    "collapsed": false
   },
   "outputs": [
    {
     "data": {
      "text/plain": [
       "[1, 1, 2, 3, 6, 8, 10]"
      ]
     },
     "execution_count": 141,
     "metadata": {},
     "output_type": "execute_result"
    }
   ],
   "source": [
    "def quicksort(list):\n",
    "    if len(list) <= 1:\n",
    "        return list\n",
    "    pivot = list[len(list) / 2]\n",
    "    left = [x for x in list if x < pivot]\n",
    "    middle = [x for x in list if x == pivot]\n",
    "    right = [x for x in list if x > pivot]\n",
    "    return quicksort(left) + middle + quicksort(right)\n",
    "\n",
    "quicksort([3,6,8,10,1,2,1])"
   ]
  },
  {
   "cell_type": "code",
   "execution_count": null,
   "metadata": {
    "collapsed": true
   },
   "outputs": [],
   "source": [
    "l"
   ]
  }
 ],
 "metadata": {
  "kernelspec": {
   "display_name": "Python 2",
   "language": "python",
   "name": "python2"
  },
  "language_info": {
   "codemirror_mode": {
    "name": "ipython",
    "version": 2
   },
   "file_extension": ".py",
   "mimetype": "text/x-python",
   "name": "python",
   "nbconvert_exporter": "python",
   "pygments_lexer": "ipython2",
   "version": "2.7.11"
  }
 },
 "nbformat": 4,
 "nbformat_minor": 0
}
