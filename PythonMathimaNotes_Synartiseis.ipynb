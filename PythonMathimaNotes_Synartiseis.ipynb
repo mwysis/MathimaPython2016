{
 "cells": [
  {
   "cell_type": "markdown",
   "metadata": {},
   "source": [
    "# Συναρτήσεις"
   ]
  },
  {
   "cell_type": "markdown",
   "metadata": {
    "collapsed": true
   },
   "source": [
    "Μια **συνάρτηση** έχει: \n",
    "\n",
    "* ένα **όνομα** (με τους περιορισμούς για τα ονόματα μεταβλητών)\n",
    "* δέχεται ένα input (**ορίσματα**), που μπορεί να είναι κενό\n",
    "* και βγάζει ένα output, το οποίο μπορεί να είναι\n",
    "    * έξοδος με το **print**\n",
    "    * έξοδος με το **return**\n",
    "    * καμία έξοδος (**None**)\n",
    "\n",
    "Η συνάρτηση εκτελείται γράφοντας το όνομά της και δίνοντας τα ορίσματά της"
   ]
  },
  {
   "cell_type": "markdown",
   "metadata": {},
   "source": [
    "## 1. Έξοδοι Συναρτήσεων"
   ]
  },
  {
   "cell_type": "markdown",
   "metadata": {},
   "source": [
    "### Παράδειγμα συνάρτησης χωρίς ορίσματα που δεν κάνει τίποτε"
   ]
  },
  {
   "cell_type": "code",
   "execution_count": 1,
   "metadata": {
    "collapsed": false
   },
   "outputs": [],
   "source": [
    "def do_nothing():\n",
    "    pass\n",
    "\n",
    "# Apevtheias ektelesi tis synartisis:\n",
    "do_nothing()\n",
    "\n",
    "# Ektypwsi tis eksodou tis synartisis:\n",
    "# print do_nothing()\n",
    "\n",
    "# do_nothing() == None"
   ]
  },
  {
   "cell_type": "markdown",
   "metadata": {},
   "source": [
    "### Παράδειγμα συνάρτησης χωρίς ορίσματα με έξοδο return κάτι"
   ]
  },
  {
   "cell_type": "code",
   "execution_count": 2,
   "metadata": {
    "collapsed": false
   },
   "outputs": [
    {
     "data": {
      "text/plain": [
       "'Triti'"
      ]
     },
     "execution_count": 2,
     "metadata": {},
     "output_type": "execute_result"
    }
   ],
   "source": [
    "def ti_mera_einai():\n",
    "    return 'Triti'\n",
    "\n",
    "# Apevtheias ektelesi tis synartisis:\n",
    "ti_mera_einai()\n",
    "\n",
    "# Ektypwsi tis eksodou tis synartisis:\n",
    "# print ti_mera_einai()\n",
    "\n",
    "# ti_mera_einai() == 'Triti'"
   ]
  },
  {
   "cell_type": "markdown",
   "metadata": {},
   "source": [
    "### Παράδειγμα συνάρτησης χωρίς ορίσματα με έξοδο print κάτι"
   ]
  },
  {
   "cell_type": "code",
   "execution_count": 3,
   "metadata": {
    "collapsed": false
   },
   "outputs": [
    {
     "name": "stdout",
     "output_type": "stream",
     "text": [
      "Triti\n"
     ]
    }
   ],
   "source": [
    "def ti_mera_einai():\n",
    "    print 'Triti'\n",
    "\n",
    "# Apevtheias ektelesi tis synartisis:\n",
    "ti_mera_einai()\n",
    "\n",
    "# Ektypwsi tis eksodou tis synartisis:\n",
    "# print ti_mera_einai()\n",
    "\n",
    "# ti_mera_einai() == 'Triti'"
   ]
  },
  {
   "cell_type": "markdown",
   "metadata": {},
   "source": [
    "#### *Ποια είναι η διαφορά της εξόδου με ή χωρίς το return;*\n",
    "\n",
    "**Όταν μια συνάρτηση δεν καλεί το return στην έξοδό της, βγάζει None με το print!**"
   ]
  },
  {
   "cell_type": "markdown",
   "metadata": {},
   "source": [
    "### Παράδειγμα συνάρτησης χωρίς ορίσματα με έξοδο return μια (λογική) τιμή"
   ]
  },
  {
   "cell_type": "code",
   "execution_count": 5,
   "metadata": {
    "collapsed": false
   },
   "outputs": [
    {
     "data": {
      "text/plain": [
       "True"
      ]
     },
     "execution_count": 5,
     "metadata": {},
     "output_type": "execute_result"
    }
   ],
   "source": [
    "def agree():\n",
    "    return True\n",
    "\n",
    "# Apevtheias ektelesi tis synartisis:\n",
    "agree()\n",
    "\n",
    "# Ektypwsi tis eksodou tis synartisis:\n",
    "# print agree()"
   ]
  },
  {
   "cell_type": "code",
   "execution_count": 5,
   "metadata": {
    "collapsed": false
   },
   "outputs": [
    {
     "name": "stdout",
     "output_type": "stream",
     "text": [
      "Cool!\n"
     ]
    }
   ],
   "source": [
    "# H proigoumeni synartisi mporei na kaleitai apo ena broxo, opws:\n",
    "\n",
    "if agree():\n",
    "    print 'Cool!'\n",
    "else:\n",
    "    print 'WTF?'"
   ]
  },
  {
   "cell_type": "code",
   "execution_count": 6,
   "metadata": {
    "collapsed": false
   },
   "outputs": [
    {
     "name": "stdout",
     "output_type": "stream",
     "text": [
      "WTF?\n"
     ]
    }
   ],
   "source": [
    "if not agree():\n",
    "    print 'Cool!'\n",
    "else:\n",
    "    print 'WTF?'"
   ]
  },
  {
   "cell_type": "markdown",
   "metadata": {},
   "source": [
    "### Παράδειγμα συνάρτησης με ένα όρισμα και με έξοδο return κάτι σε σχέση με αυτό το όρισμα"
   ]
  },
  {
   "cell_type": "code",
   "execution_count": 7,
   "metadata": {
    "collapsed": false
   },
   "outputs": [
    {
     "data": {
      "text/plain": [
       "'Anything is whatever'"
      ]
     },
     "execution_count": 7,
     "metadata": {},
     "output_type": "execute_result"
    }
   ],
   "source": [
    "def echo(anything):\n",
    "    return anything.capitalize() + ' ' + 'is whatever'\n",
    "\n",
    "# Apevtheias ektelesi tis synartisis:\n",
    "# echo('something')\n",
    "echo('anything')"
   ]
  },
  {
   "cell_type": "markdown",
   "metadata": {},
   "source": [
    "### Παράδειγμα συνάρτησης με ένα όρισμα και με έξοδο print κάτι σε σχέση με αυτό το όρισμα"
   ]
  },
  {
   "cell_type": "code",
   "execution_count": 7,
   "metadata": {
    "collapsed": false
   },
   "outputs": [
    {
     "name": "stdout",
     "output_type": "stream",
     "text": [
      "Anything is whatever\n"
     ]
    }
   ],
   "source": [
    "def echo(anything):\n",
    "    print anything.capitalize() + ' ' + 'is whatever'\n",
    "\n",
    "# Apevtheias ektelesi tis synartisis:\n",
    "# echo('something')\n",
    "echo('anything')"
   ]
  },
  {
   "cell_type": "markdown",
   "metadata": {},
   "source": [
    "### Η συνάρτηση Fibonacci"
   ]
  },
  {
   "cell_type": "code",
   "execution_count": 14,
   "metadata": {
    "collapsed": false
   },
   "outputs": [
    {
     "name": "stdout",
     "output_type": "stream",
     "text": [
      "<function fib at 0x104897de8>\n",
      "<type 'function'>\n",
      "0 1 1 2 3 5 8 13 21 None\n"
     ]
    }
   ],
   "source": [
    "def fib(n):    \n",
    "    a, b = 0, 1\n",
    "    while a < n:\n",
    "        print a,\n",
    "        a, b = b, a+b\n",
    "        \n",
    "print fib\n",
    "print type(fib)\n",
    "\n",
    "# Για να εκτελέσουμε τη συνάρτηση fib πρέπει να βάλουμε ένα όρισμα, \n",
    "# π.χ., n = 30\n",
    "\n",
    "# fib(30)\n",
    "print fib(30)"
   ]
  },
  {
   "cell_type": "markdown",
   "metadata": {},
   "source": [
    "#### Μια λίγο διαφορετική συνάρηση Fibonacci"
   ]
  },
  {
   "cell_type": "code",
   "execution_count": 20,
   "metadata": {
    "collapsed": false
   },
   "outputs": [
    {
     "name": "stdout",
     "output_type": "stream",
     "text": [
      "[0, 1, 1, 2, 3, 5, 8, 13, 21]\n"
     ]
    }
   ],
   "source": [
    "def fib1(n):    \n",
    "    result = []\n",
    "    a, b = 0, 1\n",
    "    while a < n:\n",
    "        result.append(a)\n",
    "        a, b = b, a+b\n",
    "    return result\n",
    "        \n",
    "print fib1(30)"
   ]
  },
  {
   "cell_type": "markdown",
   "metadata": {},
   "source": [
    "### Παράδειγμα συνάρτησης με ένα όρισμα, με εκτέλεση βρόχου και με έξοδο return τα αποτελέσματα του βρόχου"
   ]
  },
  {
   "cell_type": "code",
   "execution_count": 8,
   "metadata": {
    "collapsed": false
   },
   "outputs": [
    {
     "data": {
      "text/plain": [
       "'Red is the color of a tomato'"
      ]
     },
     "execution_count": 8,
     "metadata": {},
     "output_type": "execute_result"
    }
   ],
   "source": [
    "def commentary(color):\n",
    "    if color == 'red':\n",
    "        return color.capitalize() + ' ' + 'is the color of a tomato'\n",
    "    elif color == 'green':\n",
    "        return color.capitalize() + ' ' + 'is the color of a pepper'\n",
    "    elif color == 'yellow':\n",
    "        return color.capitalize() + ' ' + 'is the color of a lemon'\n",
    "    else:\n",
    "        return \"I don't know anything with color\" + ' ' + color\n",
    "\n",
    "# Apevtheias ektelesi tis synartisis:\n",
    "commentary('red')\n",
    "# commentary('green')\n",
    "# commentary('yellow')\n",
    "# commentary('blue')\n",
    "\n",
    "# Ektypwsi tis eksodou tis synartisis:\n",
    "# print commentary('red')\n",
    "# print commentary('green')\n",
    "# print commentary('yellow')\n",
    "# print commentary('blue')"
   ]
  },
  {
   "cell_type": "code",
   "execution_count": 9,
   "metadata": {
    "collapsed": false
   },
   "outputs": [
    {
     "name": "stdout",
     "output_type": "stream",
     "text": [
      "Red is the color of a tomato\n",
      "None\n"
     ]
    }
   ],
   "source": [
    "def commentary1(color):\n",
    "    if color == 'red':\n",
    "        print color.capitalize() + ' ' + 'is the color of a tomato'\n",
    "    elif color == 'green':\n",
    "        return color.capitalize() + ' ' + 'is the color of a pepper'\n",
    "    elif color == 'yellow':\n",
    "        print color.capitalize() + ' ' + 'is the color of a lemon'\n",
    "    else:\n",
    "        return \"I don't know anything with color\" + ' ' + color\n",
    "\n",
    "# Apevtheias ektelesi tis synartisis:\n",
    "# commentary1('red')\n",
    "# commentary1('green')\n",
    "# commentary1('yellow')\n",
    "# commentary1('blue')\n",
    "\n",
    "# Ektypwsi tis eksodou tis synartisis:\n",
    "print commentary1('red')\n",
    "# print commentary1('green')\n",
    "# print commentary1('yellow')\n",
    "# print commentary1('blue')"
   ]
  },
  {
   "cell_type": "markdown",
   "metadata": {
    "collapsed": false
   },
   "source": [
    "## 2. Ορίσματα Συναρτήσεων"
   ]
  },
  {
   "cell_type": "markdown",
   "metadata": {},
   "source": [
    "**Τα ορίσματα των συναρτήσεων είναι δυο τύπων:**\n",
    "* **Απλά ορίσματα**\n",
    "* **Ορίσματα με λέξεις κλειδιά (Keyward Arguments)**"
   ]
  },
  {
   "cell_type": "markdown",
   "metadata": {
    "collapsed": true
   },
   "source": [
    "### Απλά ορίσματα: Η σειρά τοποθέτησης παίζει ρόλο, όταν αυτά καλούνται (εκτελούνται)!"
   ]
  },
  {
   "cell_type": "code",
   "execution_count": 21,
   "metadata": {
    "collapsed": false
   },
   "outputs": [
    {
     "data": {
      "text/plain": [
       "{'dessert': 'bira', 'entree': 'krema', 'wine': 'soublaki'}"
      ]
     },
     "execution_count": 21,
     "metadata": {},
     "output_type": "execute_result"
    }
   ],
   "source": [
    "# Μια συνάρτηση που επιστρέφει ένα λεξικό\n",
    "\n",
    "def menu(wine, entree, dessert):\n",
    "    return {'wine':wine, 'entree':entree, 'dessert':dessert}\n",
    "\n",
    "print menu('retsina','moussaka','frouta')\n",
    "\n",
    "# ALLA!!!!\n",
    "# menu('soublaki','krema','bira')"
   ]
  },
  {
   "cell_type": "markdown",
   "metadata": {},
   "source": [
    "### Ορίσματα με Λέξεις Κλειδιά: Η σειρά τοποθέτησης ΔΕΝ παίζει ρόλο, όταν αυτά καλούνται (εκτελούνται)!"
   ]
  },
  {
   "cell_type": "code",
   "execution_count": 11,
   "metadata": {
    "collapsed": false
   },
   "outputs": [
    {
     "name": "stdout",
     "output_type": "stream",
     "text": [
      "{'dessert': 'krema', 'entree': 'soublaki', 'wine': 'bira'}\n"
     ]
    },
    {
     "data": {
      "text/plain": [
       "{'dessert': 'frouta', 'entree': 'moussaka', 'wine': 'retsina'}"
      ]
     },
     "execution_count": 11,
     "metadata": {},
     "output_type": "execute_result"
    }
   ],
   "source": [
    "print menu(entree='soublaki', dessert='krema', wine='bira')\n",
    "menu(dessert='frouta', entree='moussaka', wine='retsina')"
   ]
  },
  {
   "cell_type": "markdown",
   "metadata": {},
   "source": [
    "### Μικτά Απλά και Ορίσματα με Λέξεις Κλειδιά: Τα απλά ορίσματα πρέπει να ΓΡΑΦΟΝΤΑΙ ΠΡΩΤΑ!"
   ]
  },
  {
   "cell_type": "code",
   "execution_count": 12,
   "metadata": {
    "collapsed": false
   },
   "outputs": [
    {
     "name": "stdout",
     "output_type": "stream",
     "text": [
      "{'dessert': 'krema', 'entree': 'soublaki', 'wine': 'bira'}\n"
     ]
    }
   ],
   "source": [
    "print menu('bira', entree='soublaki', dessert='krema')"
   ]
  },
  {
   "cell_type": "code",
   "execution_count": 23,
   "metadata": {
    "collapsed": false
   },
   "outputs": [],
   "source": [
    "# ΑΛΛΑ με ανακατεμένη σειρά παίρνουμε λάθος!!!!\n",
    "\n",
    "# menu(wine='retsina', entree='moussaka', 'frouta')"
   ]
  },
  {
   "cell_type": "markdown",
   "metadata": {},
   "source": [
    "### Μικτά Απλά και Ορίσματα με Λέξεις Κλειδιά: Τα ορίσματα με λέξεις κλειδιά είναι ΠΡΟΚΑΘΟΡΙΣΜΕΝΑ (DEFAULT)!"
   ]
  },
  {
   "cell_type": "code",
   "execution_count": 14,
   "metadata": {
    "collapsed": false
   },
   "outputs": [
    {
     "name": "stdout",
     "output_type": "stream",
     "text": [
      "{'dessert': 'glyko', 'entree': 'makaronada', 'wine': 'Agioritiko'}\n"
     ]
    },
    {
     "data": {
      "text/plain": [
       "{'dessert': 'glyko', 'entree': 'makaronada', 'wine': 'ouzo'}"
      ]
     },
     "execution_count": 14,
     "metadata": {},
     "output_type": "execute_result"
    }
   ],
   "source": [
    "def menu1(entree, dessert, wine='Agioritiko'):\n",
    "    return {'wine':wine, 'entree':entree, 'dessert':dessert}\n",
    "\n",
    "print menu1('makaronada','glyko')\n",
    "menu1('makaronada','glyko','ouzo')"
   ]
  },
  {
   "cell_type": "markdown",
   "metadata": {},
   "source": [
    "### ΠΡΟΣΟΧΗ όταν τα προκαθορισμένα ορίσματα είναι μεταβλητού τύπου δεδομένων (π.χ., λίστες ή λεξικά)"
   ]
  },
  {
   "cell_type": "code",
   "execution_count": 15,
   "metadata": {
    "collapsed": false
   },
   "outputs": [
    {
     "name": "stdout",
     "output_type": "stream",
     "text": [
      "['a']\n",
      "['a', 'b']\n"
     ]
    }
   ],
   "source": [
    "# Δείτε ένα πρόβλημα με αυτή τη συνάρτηση:\n",
    "\n",
    "def buggy(arg, result=[]):\n",
    "    result.append(arg)\n",
    "    print result\n",
    "    \n",
    "buggy('a')\n",
    "buggy('b')"
   ]
  },
  {
   "cell_type": "code",
   "execution_count": 16,
   "metadata": {
    "collapsed": false
   },
   "outputs": [
    {
     "name": "stdout",
     "output_type": "stream",
     "text": [
      "['a']\n",
      "['b']\n"
     ]
    }
   ],
   "source": [
    "# Το πρόβλημα (λάθος) είναι ότι την δεύτερη περίπτωση θα θέλαμε να τυπωνόταν μόνο ['b']\n",
    "\n",
    "# Λύση με μόνο ένα (απλό) όρισμα:\n",
    "\n",
    "def works(arg):\n",
    "    result = []\n",
    "    result.append(arg)\n",
    "    print result\n",
    "\n",
    "works('a')\n",
    "works('b')"
   ]
  },
  {
   "cell_type": "code",
   "execution_count": 17,
   "metadata": {
    "collapsed": false
   },
   "outputs": [
    {
     "name": "stdout",
     "output_type": "stream",
     "text": [
      "['a']\n",
      "['b']\n"
     ]
    }
   ],
   "source": [
    "# Λύση με δυο μικτά ορίσματα:\n",
    "\n",
    "def nonbuggy(arg, result=None):\n",
    "    if result is None:\n",
    "        result = []\n",
    "    result.append(arg)\n",
    "    print result\n",
    "\n",
    "nonbuggy('a')\n",
    "nonbuggy('b')"
   ]
  },
  {
   "cell_type": "markdown",
   "metadata": {},
   "source": [
    "#### Παράδειγμα συνάρτησης με λίστα σ' αυτά που εκτελεί"
   ]
  },
  {
   "cell_type": "code",
   "execution_count": 25,
   "metadata": {
    "collapsed": false
   },
   "outputs": [
    {
     "data": {
      "text/plain": [
       "['a', 'b', 'c', 'd']"
      ]
     },
     "execution_count": 25,
     "metadata": {},
     "output_type": "execute_result"
    }
   ],
   "source": [
    "# Μια συνάρτηση με πολλά ορίσματα που τα επιστρέφει ως λίστα\n",
    "\n",
    "def listing(arg1,arg2,arg3,arg4):\n",
    "    return [arg1,arg2,arg3,arg4]\n",
    "\n",
    "listing('a','b','c','d')"
   ]
  },
  {
   "cell_type": "code",
   "execution_count": 26,
   "metadata": {
    "collapsed": false
   },
   "outputs": [
    {
     "data": {
      "text/plain": [
       "['a', 'b', 3, 4]"
      ]
     },
     "execution_count": 26,
     "metadata": {},
     "output_type": "execute_result"
    }
   ],
   "source": [
    "def listing1(arg1,arg2,arg3=3,arg4=4):\n",
    "    return [arg1,arg2,arg3,arg4]\n",
    "\n",
    "listing1('a','b')"
   ]
  },
  {
   "cell_type": "markdown",
   "metadata": {},
   "source": [
    "### Συγκέντρωση όλων των απλών ορισμάτων με *args σε πλειάδα "
   ]
  },
  {
   "cell_type": "code",
   "execution_count": 18,
   "metadata": {
    "collapsed": false
   },
   "outputs": [
    {
     "name": "stdout",
     "output_type": "stream",
     "text": [
      "The tuple of given arguments is (1, 2, 3, 'd', 'e')\n"
     ]
    }
   ],
   "source": [
    "# Έστω ότι είχαμε τη συνάρτηση εκτύπωσης όλων των ορισμάτων της, π.χ.,\n",
    "\n",
    "def print_all(arg1, arg2, arg3, arg4, arg5):\n",
    "    print 'The tuple of given arguments is', (arg1, arg2, arg3, arg4, arg5)\n",
    "\n",
    "print_all(1, 2, 3, 'd', 'e')"
   ]
  },
  {
   "cell_type": "code",
   "execution_count": 27,
   "metadata": {
    "collapsed": false
   },
   "outputs": [
    {
     "name": "stdout",
     "output_type": "stream",
     "text": [
      "The tuple of given arguments is (1, 2, 3, 'd', 'e')\n",
      "None\n",
      "The tuple of given arguments is (10, 200, 3000)\n"
     ]
    }
   ],
   "source": [
    "# Σε συντομία μια τέτοια συνάρτηση γράφεται ως εξής με *args\n",
    "\n",
    "def print_all_args(*args):\n",
    "    print 'The tuple of given arguments is', args\n",
    "\n",
    "print print_all_args(1, 2, 3, 'd', 'e')\n",
    "print_all_args(10, 200, 3000)"
   ]
  },
  {
   "cell_type": "code",
   "execution_count": 29,
   "metadata": {
    "collapsed": false
   },
   "outputs": [
    {
     "name": "stdout",
     "output_type": "stream",
     "text": [
      "('a', 'b', 'c')\n"
     ]
    },
    {
     "data": {
      "text/plain": [
       "['a', 'b', 'c']"
      ]
     },
     "execution_count": 29,
     "metadata": {},
     "output_type": "execute_result"
    }
   ],
   "source": [
    "def listing3(*args):\n",
    "    return args\n",
    "\n",
    "def listing2(*args):\n",
    "    return list(args)\n",
    "\n",
    "print listing3('a','b','c')\n",
    "listing2('a','b','c')"
   ]
  },
  {
   "cell_type": "code",
   "execution_count": 20,
   "metadata": {
    "collapsed": false
   },
   "outputs": [
    {
     "name": "stdout",
     "output_type": "stream",
     "text": [
      "The first arguments is 1\n",
      "The second arguments is 2\n",
      "All the remaing arguments are (3, 'd', 'e')\n"
     ]
    }
   ],
   "source": [
    "# Αυτό είναι χρήσιμο για μικτά ορίσματα που θέλουμε να εκτυπώνονται διαδοχικά, π.χ.:\n",
    "\n",
    "def print_more(arg1, arg2, *args):\n",
    "    print 'The first arguments is', arg1\n",
    "    print 'The second arguments is', arg2\n",
    "    print 'All the remaing arguments are', args\n",
    "    \n",
    "print_more(1, 2, 3, 'd', 'e')"
   ]
  },
  {
   "cell_type": "markdown",
   "metadata": {},
   "source": [
    "### Συγκέντρωση όλων των ορισμάτων με λέξεις κλειδιά με **kwargs σε λεξικά"
   ]
  },
  {
   "cell_type": "code",
   "execution_count": 21,
   "metadata": {
    "collapsed": false
   },
   "outputs": [
    {
     "name": "stdout",
     "output_type": "stream",
     "text": [
      "The dictionary of given keyword arguments is {'dessert': 'krema', 'entree': 'soublaki', 'wine': 'bira'}\n"
     ]
    }
   ],
   "source": [
    "def print_kwargs(**kwargs):\n",
    "    print 'The dictionary of given keyword arguments is', kwargs\n",
    "\n",
    "print_kwargs(entree='soublaki', dessert='krema', wine='bira')"
   ]
  },
  {
   "cell_type": "code",
   "execution_count": 30,
   "metadata": {
    "collapsed": false
   },
   "outputs": [
    {
     "data": {
      "text/plain": [
       "{'baros': 70, 'ilikia': 18, 'katagwgi': 'Athina', 'ypsos': 1.76}"
      ]
     },
     "execution_count": 30,
     "metadata": {},
     "output_type": "execute_result"
    }
   ],
   "source": [
    "def dictionarying_kwargs(**kwards):\n",
    "    return kwards\n",
    "\n",
    "dictionarying_kwargs(katagwgi='Athina',ilikia=18,baros=70,ypsos=1.76)"
   ]
  },
  {
   "cell_type": "code",
   "execution_count": 22,
   "metadata": {
    "collapsed": false
   },
   "outputs": [
    {
     "name": "stdout",
     "output_type": "stream",
     "text": [
      "The tuple of given arguments is (1, 2, 3, 'd', 'e')\n",
      "The dictionary of given keyword arguments is {'dessert': 'krema', 'entree': 'soublaki', 'wine': 'bira'}\n"
     ]
    }
   ],
   "source": [
    "# Ανάμειξη *args και **kwargs με τα *args ΠΑΝΤΑ πρώτα:\n",
    "\n",
    "def print_args_kwargs(*args,**kwargs):\n",
    "    print 'The tuple of given arguments is', args\n",
    "    print 'The dictionary of given keyword arguments is', kwargs\n",
    "    \n",
    "print_args_kwargs(1, 2, 3, 'd', 'e', entree='soublaki', dessert='krema', wine='bira')"
   ]
  },
  {
   "cell_type": "markdown",
   "metadata": {},
   "source": [
    "## 3. Σχόλια (Docstrings) Συναρτήσεων"
   ]
  },
  {
   "cell_type": "markdown",
   "metadata": {},
   "source": [
    "** Τα σχόλια (docstrings) συναρτήσεων γράφονται πάντα στην αρχή (μετά τον ορισμό) και περικλέιονται ή σε μονά-διπλά εισαγωγικά, όταν πιάνουν μια γραμμή, ή σε τριπλά εισαγωγικά για περισσότερες της μιας γραμμές.**"
   ]
  },
  {
   "cell_type": "code",
   "execution_count": 33,
   "metadata": {
    "collapsed": false
   },
   "outputs": [
    {
     "name": "stdout",
     "output_type": "stream",
     "text": [
      "Something\n",
      "Something else\n",
      "aa\n",
      "Failed to check\n",
      "a\n",
      "Failed to check\n",
      "Failed to check\n"
     ]
    }
   ],
   "source": [
    "def echo(anything):\n",
    "    'This function returns its argument'\n",
    "    return anything\n",
    "\n",
    "def echo1(anything):\n",
    "    \"This function's role is to return its argument\"\n",
    "    return anything\n",
    "\n",
    "def print_if_true(thing,check):\n",
    "    '''\n",
    "    Prints the first argument if a second argument is true.\n",
    "    In other words:\n",
    "        1. Checker whether the *second* argument is true.\n",
    "        2. If it is, print the *first* argument.\n",
    "    '''\n",
    "    if check:\n",
    "        print thing\n",
    "    else:\n",
    "        print 'Failed to check'\n",
    "\n",
    "print echo('Something')\n",
    "print echo('Something else')\n",
    "print_if_true('aa',len('aa') > 1)\n",
    "print_if_true('a',len('a') > 1)\n",
    "print_if_true('a','whatever')\n",
    "print_if_true('a',0)\n",
    "print_if_true('a','')"
   ]
  },
  {
   "cell_type": "markdown",
   "metadata": {},
   "source": [
    "**ΠΡΟΣΟΧΗ: Στην Python το 0 ή το κενό string '' θεωρούνται FALSE, ενώ κάθε άλλος αριθμός και κάθε άλλο string θεωρούνται TRUE.**"
   ]
  },
  {
   "cell_type": "code",
   "execution_count": 24,
   "metadata": {
    "collapsed": false
   },
   "outputs": [
    {
     "name": "stdout",
     "output_type": "stream",
     "text": [
      "Help on function echo in module __main__:\n",
      "\n",
      "echo(anything)\n",
      "    This function returns its argument\n",
      "\n",
      "- - - - - - - - - - - - - - - - - - -\n",
      "This function returns its argument\n",
      "-----------------------------------------------------------------\n",
      "Help on function echo1 in module __main__:\n",
      "\n",
      "echo1(anything)\n",
      "    This function's role is to return its argument\n",
      "\n",
      "- - - - - - - - - - - - - - - - - - -\n",
      "This function's role is to return its argument\n",
      "-----------------------------------------------------------------\n",
      "Help on function print_if_true in module __main__:\n",
      "\n",
      "print_if_true(thing, check)\n",
      "    Prints the first argument if a second argument is true.\n",
      "    In other words:\n",
      "        1. Checker whether the *second* argument is true.\n",
      "        2. If it is, print the *first* argument.\n",
      "\n",
      "- - - - - - - - - - - - - - - - - - -\n",
      "\n",
      "    Prints the first argument if a second argument is true.\n",
      "    In other words:\n",
      "        1. Checker whether the *second* argument is true.\n",
      "        2. If it is, print the *first* argument.\n",
      "    \n"
     ]
    }
   ],
   "source": [
    "# Για να δούμε το docstring χρησιμοποιούμε το help ή το .__doc__ (χωρίς τη συνάρτηση)\n",
    "\n",
    "help(echo)\n",
    "print '- - - - - - - - - - - - - - - - - - -'\n",
    "print echo.__doc__\n",
    "print '-----------------------------------------------------------------'\n",
    "help(echo1)\n",
    "print '- - - - - - - - - - - - - - - - - - -'\n",
    "print echo1.__doc__\n",
    "print '-----------------------------------------------------------------'\n",
    "help(print_if_true)\n",
    "print '- - - - - - - - - - - - - - - - - - -'\n",
    "print print_if_true.__doc__"
   ]
  },
  {
   "cell_type": "markdown",
   "metadata": {},
   "source": [
    "## 3. Παραδείγματα Αντικειμενοστρεφότητας Συναρτήσεων"
   ]
  },
  {
   "cell_type": "markdown",
   "metadata": {},
   "source": [
    "### Συνάρτηση με Όρισμα μια άλλη Συνάρτηση"
   ]
  },
  {
   "cell_type": "code",
   "execution_count": 25,
   "metadata": {
    "collapsed": false
   },
   "outputs": [
    {
     "name": "stdout",
     "output_type": "stream",
     "text": [
      "<function foo at 0x102e1a758>\n",
      "<type 'function'>\n",
      "3\n"
     ]
    },
    {
     "data": {
      "text/plain": [
       "3"
      ]
     },
     "execution_count": 25,
     "metadata": {},
     "output_type": "execute_result"
    }
   ],
   "source": [
    "# Η συνάρτηση-όρισμα\n",
    "\n",
    "def foo(bar):\n",
    "    return bar + 1\n",
    "\n",
    "print foo\n",
    "print type(foo)\n",
    "print foo(2)\n",
    "\n",
    "# Η έξω συνάρτηση\n",
    "\n",
    "def call_foo_with_arg(foo, arg):\n",
    "    return foo(arg)\n",
    "\n",
    "call_foo_with_arg(foo, 2)"
   ]
  },
  {
   "cell_type": "code",
   "execution_count": 26,
   "metadata": {
    "collapsed": false
   },
   "outputs": [
    {
     "data": {
      "text/plain": [
       "3"
      ]
     },
     "execution_count": 26,
     "metadata": {},
     "output_type": "execute_result"
    }
   ],
   "source": [
    "# Για να σιγουρευτούμε ότι δουλεύουμε μόνο με αριθμούς:\n",
    "\n",
    "def call_foo_with_arg(arg):\n",
    "    if isinstance(arg, (int, long, float, complex)):\n",
    "        return foo(arg)\n",
    "    else:\n",
    "        print 'Sorry, arg has to be a number.'\n",
    "\n",
    "call_foo_with_arg(2)"
   ]
  },
  {
   "cell_type": "code",
   "execution_count": 37,
   "metadata": {
    "collapsed": false
   },
   "outputs": [
    {
     "name": "stdout",
     "output_type": "stream",
     "text": [
      "Whatever\n",
      "String\n",
      "Sorry, arg has to be a string.\n"
     ]
    }
   ],
   "source": [
    "def capitalizing(something):\n",
    "    return something.capitalize()\n",
    "\n",
    "# capitalizing('kati')\n",
    "\n",
    "def cap(capitalizing,arg):\n",
    "    return capitalizing(arg)\n",
    "\n",
    "print cap(capitalizing,'whatever')\n",
    "\n",
    "# Ελεγχος strings:\n",
    "\n",
    "def capc(capitalizing,arg):\n",
    "    if isinstance(arg, str):\n",
    "        return capitalizing(arg)\n",
    "    else:\n",
    "        print 'Sorry, arg has to be a string.'\n",
    "        \n",
    "print capc(capitalizing,'string')\n",
    "capc(capitalizing,1000)"
   ]
  },
  {
   "cell_type": "markdown",
   "metadata": {},
   "source": [
    "### Συνάρτηση στο Εσωτερικό Άλλης Συνάρτησης"
   ]
  },
  {
   "cell_type": "code",
   "execution_count": 27,
   "metadata": {
    "collapsed": false
   },
   "outputs": [
    {
     "name": "stdout",
     "output_type": "stream",
     "text": [
      "46\n",
      "True\n"
     ]
    }
   ],
   "source": [
    "def lin_comb(arg1,arg2,arg3,arg4):\n",
    "    \n",
    "    def addition(arg5,arg6):\n",
    "        return arg5 + arg6\n",
    "    def multiplication(arg7, arg8):\n",
    "        return arg7 * arg8\n",
    "    \n",
    "    return addition(multiplication(arg1,arg3),multiplication(arg2,arg4))\n",
    "\n",
    "print lin_comb(3,5,2,8)\n",
    "\n",
    "print lin_comb(3,5,2,8) == 3*2 + 5*8\n",
    "\n",
    "# Αν καλούσαμε μια εσωτερική συνάρτηση, θα παίρναμε λάθος\n",
    "\n",
    "# multiplication(3,5)"
   ]
  },
  {
   "cell_type": "code",
   "execution_count": 28,
   "metadata": {
    "collapsed": false
   },
   "outputs": [
    {
     "name": "stdout",
     "output_type": "stream",
     "text": [
      "Sorry, all args have to be numbers.\n"
     ]
    }
   ],
   "source": [
    "# Για να σιγουρευτούμε ότι δουλεύουμε μόνο με αριθμούς:\n",
    "\n",
    "def lin_comb(arg1,arg2,arg3,arg4):\n",
    "    args = [arg1,arg2,arg3,arg4]\n",
    "    if args == [arg for arg in args if isinstance(arg, (int, long, float, complex))]:\n",
    "        def addition(arg5,arg6):\n",
    "            return arg5 + arg6\n",
    "        def multiplication(arg7, arg8):\n",
    "            return arg7 * arg8\n",
    "        return addition(multiplication(arg1,arg3),multiplication(arg2,arg4))\n",
    "    else:\n",
    "        print 'Sorry, all args have to be numbers.'\n",
    "            \n",
    "lin_comb(3,5,'a',8)"
   ]
  },
  {
   "cell_type": "markdown",
   "metadata": {},
   "source": [
    "### Η συνάρτηση του παραγοντικού"
   ]
  },
  {
   "cell_type": "code",
   "execution_count": 38,
   "metadata": {
    "collapsed": false
   },
   "outputs": [
    {
     "name": "stdout",
     "output_type": "stream",
     "text": [
      "40320\n",
      "Sorry, number must be an integer\n",
      "Sorry, number must be zero or positive.\n"
     ]
    },
    {
     "data": {
      "text/plain": [
       "'Sorry, number must be an integer'"
      ]
     },
     "execution_count": 38,
     "metadata": {},
     "output_type": "execute_result"
    }
   ],
   "source": [
    "def factorial(number):\n",
    "    \n",
    "    # error handling\n",
    "    if not isinstance(number, int):\n",
    "        return 'Sorry, number must be an integer'           \n",
    "    if not number >= 0:\n",
    "        return 'Sorry, number must be zero or positive.'\n",
    "\n",
    "    def inner_factorial(number):\n",
    "        if number <= 1:\n",
    "            return 1\n",
    "        return number*inner_factorial(number-1)\n",
    "    \n",
    "    return inner_factorial(number)\n",
    "\n",
    "# call the outer function\n",
    "print factorial(8)\n",
    "print factorial(18.)\n",
    "print factorial(-2)\n",
    "factorial('a')"
   ]
  },
  {
   "cell_type": "markdown",
   "metadata": {},
   "source": [
    "** Πώς θα ορίζαμε το παραγοντικό ώστε να καλύπταμε και τους αρνητικούς ακέραιους; **"
   ]
  },
  {
   "cell_type": "markdown",
   "metadata": {},
   "source": [
    "## 4. Η Ανώνυμη Συνάρτηση lambda()"
   ]
  },
  {
   "cell_type": "markdown",
   "metadata": {},
   "source": [
    "**Συνήθως, οι συναρτήσεις lambda(), χρησιμοποιούνται για συναρτήσεις που έχουν ένα όρισμα και καλούν μια απλή εσωτερική συνάρτηση, όπου \"απλή\" σημαίνει να εκτελείται σε μια γραμμή. Να κάποια παραδείγματα. Πρώτα θα γράφουμε την πλήρη συνάρτηση και μετά τη συντόμευσή της με τη συνάρτηση lambda().**"
   ]
  },
  {
   "cell_type": "code",
   "execution_count": 40,
   "metadata": {
    "collapsed": false
   },
   "outputs": [
    {
     "data": {
      "text/plain": [
       "125"
      ]
     },
     "execution_count": 40,
     "metadata": {},
     "output_type": "execute_result"
    }
   ],
   "source": [
    "# Μια συνάρτηση με ένα όρισμα και με κλήση μιας απλής εσωτερικής συνάρτησης:\n",
    "# (Χάρη συντομίας, θα υποθέσουμε ότι όλα τα ορίσματα είναι αριθμοί.)\n",
    "\n",
    "def cubic(arg1, arg2, func):\n",
    "    def addition(ag3,arg4):\n",
    "        return arg3 + arg4\n",
    "    return func(arg1+arg2)\n",
    "\n",
    "# Προσοχή: Αυτό βγάζει λάθος!\n",
    "# cubic(2, 3)\n",
    "\n",
    "def cube(arg):\n",
    "    return arg ** 3\n",
    "\n",
    "cubic(2, 3, cube)"
   ]
  },
  {
   "cell_type": "code",
   "execution_count": 31,
   "metadata": {
    "collapsed": false
   },
   "outputs": [
    {
     "data": {
      "text/plain": [
       "125"
      ]
     },
     "execution_count": 31,
     "metadata": {},
     "output_type": "execute_result"
    }
   ],
   "source": [
    "# Μέσω συνάρτησης lambda(), δεν θα χρειαζόμασταν να ορίσουμε εξωτερικά την cube:\n",
    "\n",
    "cubic(2, 3, lambda arg: arg ** 3)"
   ]
  },
  {
   "cell_type": "code",
   "execution_count": 32,
   "metadata": {
    "collapsed": false
   },
   "outputs": [
    {
     "name": "stdout",
     "output_type": "stream",
     "text": [
      "Banana!\n",
      "Apple!\n",
      "Orange!\n",
      "Cherry!\n"
     ]
    }
   ],
   "source": [
    "# Ένα δεύτερο παράδειγμα:\n",
    "\n",
    "def edit_story(words, func):\n",
    "    for word in words:\n",
    "        print func(word)\n",
    "\n",
    "def enliven(word):\n",
    "    return word.capitalize() + '!'\n",
    "\n",
    "fruits = ['banana', 'apple', 'orange', 'cherry']\n",
    "edit_story(fruits,enliven)"
   ]
  },
  {
   "cell_type": "code",
   "execution_count": 33,
   "metadata": {
    "collapsed": false
   },
   "outputs": [
    {
     "name": "stdout",
     "output_type": "stream",
     "text": [
      "Banana!\n",
      "Apple!\n",
      "Orange!\n",
      "Cherry!\n"
     ]
    }
   ],
   "source": [
    "# Μέσω συνάρτησης lambda(), δεν θα χρειαζόμασταν να ορίσουμε εξωτερικά την enliven:\n",
    "\n",
    "edit_story(fruits, lambda word: word.capitalize() + '!')"
   ]
  },
  {
   "cell_type": "code",
   "execution_count": 34,
   "metadata": {
    "collapsed": false
   },
   "outputs": [
    {
     "name": "stdout",
     "output_type": "stream",
     "text": [
      "[('Elias', 'Greece'), ('Hans', 'Germany'), ('Jean', 'France'), ('John', 'USA')]\n",
      "[('Jean', 'France'), ('Hans', 'Germany'), ('Elias', 'Greece'), ('John', 'USA')]\n"
     ]
    }
   ],
   "source": [
    "# Ένα τρίτο παράδειγμα:\n",
    "\n",
    "pairs = [('John','USA'), ('Hans','Germany'), ('Jean','France'), ('Elias','Greece')]\n",
    "# Sorting wrt the first elements of tuples\n",
    "pairs.sort(key = lambda pair: pair [0])\n",
    "print pairs\n",
    "# Sorting wrt the second elements of tuples\n",
    "pairs.sort(key = lambda pair: pair [1])\n",
    "print pairs"
   ]
  },
  {
   "cell_type": "code",
   "execution_count": 42,
   "metadata": {
    "collapsed": false
   },
   "outputs": [
    {
     "name": "stdout",
     "output_type": "stream",
     "text": [
      "30\n",
      "9\n"
     ]
    },
    {
     "data": {
      "text/plain": [
       "1024"
      ]
     },
     "execution_count": 42,
     "metadata": {},
     "output_type": "execute_result"
    }
   ],
   "source": [
    "# Τρια άλλα παραδείγματα:\n",
    "\n",
    "sum = lambda arg1, arg2: arg1 + arg2\n",
    "print sum(10,20)\n",
    "\n",
    "square = lambda x: x**s2 \n",
    "print square(3)\n",
    "\n",
    "def powering(arg,powerfunc):\n",
    "    return powerfunc(arg)\n",
    "\n",
    "powering(4, lambda x: x**5)"
   ]
  },
  {
   "cell_type": "code",
   "execution_count": null,
   "metadata": {
    "collapsed": true
   },
   "outputs": [],
   "source": []
  }
 ],
 "metadata": {
  "kernelspec": {
   "display_name": "Python 2",
   "language": "python",
   "name": "python2"
  },
  "language_info": {
   "codemirror_mode": {
    "name": "ipython",
    "version": 2
   },
   "file_extension": ".py",
   "mimetype": "text/x-python",
   "name": "python",
   "nbconvert_exporter": "python",
   "pygments_lexer": "ipython2",
   "version": "2.7.11"
  }
 },
 "nbformat": 4,
 "nbformat_minor": 0
}
