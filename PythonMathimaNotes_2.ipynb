{
 "cells": [
  {
   "cell_type": "markdown",
   "metadata": {},
   "source": [
    "## 7. ΒΡΟΧΟΙ"
   ]
  },
  {
   "cell_type": "markdown",
   "metadata": {},
   "source": [
    "### 7.1 if, elif and else"
   ]
  },
  {
   "cell_type": "code",
   "execution_count": 1,
   "metadata": {
    "collapsed": false
   },
   "outputs": [
    {
     "name": "stdout",
     "output_type": "stream",
     "text": [
      "5\n"
     ]
    }
   ],
   "source": [
    "a = 10\n",
    "b = -5\n",
    "\n",
    "if a > 0:\n",
    "    print a + b\n",
    "else:\n",
    "    print -a + b"
   ]
  },
  {
   "cell_type": "code",
   "execution_count": 2,
   "metadata": {
    "collapsed": false
   },
   "outputs": [
    {
     "name": "stdout",
     "output_type": "stream",
     "text": [
      "5\n"
     ]
    }
   ],
   "source": [
    "a = -10\n",
    "b = -5\n",
    "\n",
    "if a > 0:\n",
    "    print a + b\n",
    "else:\n",
    "    print -a + b"
   ]
  },
  {
   "cell_type": "markdown",
   "metadata": {},
   "source": [
    "#### Χρήση του True"
   ]
  },
  {
   "cell_type": "code",
   "execution_count": 3,
   "metadata": {
    "collapsed": false
   },
   "outputs": [
    {
     "name": "stdout",
     "output_type": "stream",
     "text": [
      "Attention\n"
     ]
    }
   ],
   "source": [
    "alarm = True\n",
    "if alarm:    # whatever!!!!\n",
    "    print \"Attention\"\n",
    "else:\n",
    "    print 'No problem'"
   ]
  },
  {
   "cell_type": "code",
   "execution_count": 4,
   "metadata": {
    "collapsed": false
   },
   "outputs": [
    {
     "name": "stdout",
     "output_type": "stream",
     "text": [
      "Attention\n"
     ]
    }
   ],
   "source": [
    "if True:    # whatever!!!!\n",
    "    print \"Attention\"\n",
    "else:\n",
    "    print 'No problem'"
   ]
  },
  {
   "cell_type": "code",
   "execution_count": 5,
   "metadata": {
    "collapsed": false
   },
   "outputs": [
    {
     "name": "stdout",
     "output_type": "stream",
     "text": [
      "It's a white cat\n"
     ]
    }
   ],
   "source": [
    "white = True\n",
    "small = True\n",
    "if white:\n",
    "    if small:\n",
    "        print \"It's a white cat\"\n",
    "    else:\n",
    "        print \"It's a dog\"\n",
    "else:\n",
    "    if small:\n",
    "        print \"It's a bus\"\n",
    "    else:\n",
    "        print \"It's a school\""
   ]
  },
  {
   "cell_type": "code",
   "execution_count": 6,
   "metadata": {
    "collapsed": false
   },
   "outputs": [
    {
     "name": "stdout",
     "output_type": "stream",
     "text": [
      "It's a dog\n"
     ]
    }
   ],
   "source": [
    "white = True\n",
    "small = False\n",
    "if white:\n",
    "    if small:\n",
    "        print \"It's a white cat\"\n",
    "    else:\n",
    "        print \"It's a dog\"\n",
    "else:\n",
    "    if small:\n",
    "        print \"It's a bus\"\n",
    "    else:\n",
    "        print \"It's a school\""
   ]
  },
  {
   "cell_type": "code",
   "execution_count": 7,
   "metadata": {
    "collapsed": false
   },
   "outputs": [
    {
     "name": "stdout",
     "output_type": "stream",
     "text": [
      "It's a bus\n"
     ]
    }
   ],
   "source": [
    "white = False\n",
    "small = True\n",
    "if white:\n",
    "    if small:\n",
    "        print \"It's a white cat\"\n",
    "    else:\n",
    "        print \"It's a dog\"\n",
    "else:\n",
    "    if small:\n",
    "        print \"It's a bus\"\n",
    "    else:\n",
    "        print \"It's a school\""
   ]
  },
  {
   "cell_type": "code",
   "execution_count": 8,
   "metadata": {
    "collapsed": false
   },
   "outputs": [
    {
     "name": "stdout",
     "output_type": "stream",
     "text": [
      "It's a school\n"
     ]
    }
   ],
   "source": [
    "white = False\n",
    "small = False\n",
    "if white:\n",
    "    if small:\n",
    "        print \"It's a white cat\"\n",
    "    else:\n",
    "        print \"It's a dog\"\n",
    "else:\n",
    "    if small:\n",
    "        print \"It's a bus\"\n",
    "    else:\n",
    "        print \"It's a school\""
   ]
  },
  {
   "cell_type": "code",
   "execution_count": 9,
   "metadata": {
    "collapsed": false
   },
   "outputs": [
    {
     "name": "stdout",
     "output_type": "stream",
     "text": [
      "I have not seen the color red\n"
     ]
    }
   ],
   "source": [
    "color = \"red\"\n",
    "if color == \"blue\":\n",
    "    print \"It's the sea\"\n",
    "elif color == \"green\":\n",
    "    print \"It's grass\"\n",
    "elif color == 'orange':\n",
    "    print \"It's a carrot\"\n",
    "else:\n",
    "    print \"I have not seen the color\", color\n"
   ]
  },
  {
   "cell_type": "code",
   "execution_count": 10,
   "metadata": {
    "collapsed": false
   },
   "outputs": [
    {
     "name": "stdout",
     "output_type": "stream",
     "text": [
      "It's grass\n"
     ]
    }
   ],
   "source": [
    "color = \"green\"\n",
    "if color == \"blue\":\n",
    "    print \"It's the sea\"\n",
    "elif color == \"green\":\n",
    "    print \"It's grass\"\n",
    "elif color == 'orange':\n",
    "    print \"It's a carrot\"\n",
    "else:\n",
    "    print \"I have not seen the color\", color"
   ]
  },
  {
   "cell_type": "code",
   "execution_count": 16,
   "metadata": {
    "collapsed": false
   },
   "outputs": [
    {
     "name": "stdout",
     "output_type": "stream",
     "text": [
      "False\n",
      "True\n",
      "True\n",
      "True\n",
      "False\n",
      "True\n"
     ]
    }
   ],
   "source": [
    "x = 7\n",
    "print x == 5\n",
    "print x == 7\n",
    "print x > 5\n",
    "print x >= 7\n",
    "print x < 5\n",
    "print x <= 17"
   ]
  },
  {
   "cell_type": "code",
   "execution_count": 20,
   "metadata": {
    "collapsed": false
   },
   "outputs": [
    {
     "name": "stdout",
     "output_type": "stream",
     "text": [
      "True\n",
      "True\n",
      "True\n",
      "False\n"
     ]
    }
   ],
   "source": [
    "print x > 5 and x < 20\n",
    "print (x > 5) and (x < 20)\n",
    "print x > 5 or x < 2\n",
    "print x > 15 and not x < 2"
   ]
  },
  {
   "cell_type": "markdown",
   "metadata": {},
   "source": [
    "## ΜΑΘΗΜΑ ΠΕΜΠΤΗΣ 24 ΜΑΡΤΙΟΥ 2016"
   ]
  },
  {
   "cell_type": "code",
   "execution_count": 7,
   "metadata": {
    "collapsed": true
   },
   "outputs": [
    {
     "name": "stdout",
     "output_type": "stream",
     "text": [
      "Poso zygizei i balitsa sas; 31\n",
      "Prepei na plirwsete 10 euro\n"
     ]
    }
   ],
   "source": [
    "#1 Elegxos barous balitsas sto aerodromio\n",
    "\n",
    "weight = float(input(\"Poso zygizei i balitsa sas; \"))\n",
    "if 30 < weight <= 50:\n",
    "    print \"Prepei na plirwsete 10 euro\"\n",
    "elif weight > 50:\n",
    "    print \"Den boreite na parete mazi sas tin balitsa sas\"\n",
    "else:\n",
    "    print \"Einai dwrean i metafora tis balitsas sas\""
   ]
  },
  {
   "cell_type": "code",
   "execution_count": 18,
   "metadata": {
    "collapsed": true
   },
   "outputs": [
    {
     "name": "stdout",
     "output_type": "stream",
     "text": [
      "Posa lefta thelete; 2000\n",
      "Den exete tosa lefta sto logariasmo sas. To ypoloipo sas einai: 1000\n"
     ]
    }
   ],
   "source": [
    "#2 Analipsi apo ATM\n",
    "\n",
    "analipsi = float(input(\"Posa lefta thelete; \"))\n",
    "ypoloipo = 1000\n",
    "neoypoloipo = 0\n",
    "if ypoloipo > analipsi:\n",
    "    xrewsi = (2/100.)*analipsi\n",
    "    neoypoloipo = ypoloipo - analipsi - xrewsi\n",
    "    print \"Parte ta lefta sas. To ypoloipo sas egine:\", neoypoloipo\n",
    "else:\n",
    "    ypoloipo = ypoloipo\n",
    "    print \"Den exete tosa lefta sto logariasmo sas. To ypoloipo sas einai:\", ypoloipo"
   ]
  },
  {
   "cell_type": "code",
   "execution_count": 20,
   "metadata": {
    "collapsed": true
   },
   "outputs": [
    {
     "name": "stdout",
     "output_type": "stream",
     "text": [
      "What is the temperature? 77\n",
      "Wear shorts.\n",
      "Get some exercise outside.\n"
     ]
    }
   ],
   "source": [
    "#3 Thermokrasia\n",
    "\n",
    "temperature = float(input('What is the temperature? '))\n",
    "if temperature > 70:\n",
    "    print 'Wear shorts.' \n",
    "else:\n",
    "    print 'Wear long pants.' \n"
   ]
  },
  {
   "cell_type": "code",
   "execution_count": 26,
   "metadata": {
    "collapsed": true
   },
   "outputs": [
    {
     "name": "stdout",
     "output_type": "stream",
     "text": [
      "How many hours have you worked? 5\n",
      "What is the hourly wage? 10\n",
      "What is the threshold for overtime wage? 33\n",
      "Your total wages are: 50\n"
     ]
    }
   ],
   "source": [
    "# 4 Wages\n",
    "\n",
    "totalHours = int(input(\"How many hours have you worked? \"))\n",
    "hourlyWage = int(input(\"What is the hourly wage? \"))\n",
    "overTimeThreshold = int(input(\"What is the threshold for overtime wage? \"))\n",
    "totalWages = 0\n",
    "if totalHours <= overTimeThreshold:\n",
    "    totalWages = hourlyWage*totalHours\n",
    "else:\n",
    "    overtime = totalHours - overTimeThreshold\n",
    "    totalWages = hourlyWage*overTimeThreshold + (1.5*hourlyWage)*overtime\n",
    "print \"Your total wages are:\", totalWages"
   ]
  },
  {
   "cell_type": "markdown",
   "metadata": {},
   "source": [
    "#### Άσκηση Α1:\n",
    "\n",
    "Γράψτε ένα snippet που να ζητά έναν αριθμό και στη συνέχεια να τυπώνει αν ο αριθμός είναι 'positive', 'negative' ή 'zero'."
   ]
  },
  {
   "cell_type": "markdown",
   "metadata": {},
   "source": [
    "#### Άσκηση Α2:\n",
    "\n",
    "Γράψτε ένα snippet που να ρωτά τους φοιτητές (α) πόσες ΔΜ έχουν και (β) ποιο είναι το όριο ΔΜ για αποφοίτηση και να τους λέει αν μπορούν να αποφοιτήσουν ή όχι."
   ]
  },
  {
   "cell_type": "code",
   "execution_count": 28,
   "metadata": {
    "collapsed": true
   },
   "outputs": [
    {
     "name": "stdout",
     "output_type": "stream",
     "text": [
      "What is your score from 0 to 10? 4.55\n",
      "F\n"
     ]
    }
   ],
   "source": [
    "# 5 Grades in Letters\n",
    "\n",
    "score = float(input('What is your score from 0 to 10? '))\n",
    "if score >= 9:\n",
    "    letter = 'A'\n",
    "else:   # grade must be B, C, D or F\n",
    "    if score >= 8:\n",
    "        letter = 'B'\n",
    "    else:  # grade must be C, D or F\n",
    "        if score >= 6.5:\n",
    "            letter = 'C'\n",
    "        else:    # grade must D or F\n",
    "            if score >= 5:\n",
    "                    letter = 'D'\n",
    "            else:\n",
    "                    letter = 'F'\n",
    "print letter"
   ]
  },
  {
   "cell_type": "markdown",
   "metadata": {},
   "source": [
    "#### Άσκηση Α3:\n",
    "\n",
    "Γράψτε ένα snippet που να βγάζει τα αποτελέσματα της ρίψης ενός νομίσματος, τυπώνοντας Heads ή Tails τόσες φορές όσες θα ορίζονται αρχικά. \n",
    "\n",
    "Η ρίψη να γίνεται τυχαία χρησιμοποιώντας την επιλογή του 1 για Heads ή του 0 για Tails από:\n",
    "\n",
    "import range\n",
    "\n",
    "random.randrange(2)\n"
   ]
  },
  {
   "cell_type": "code",
   "execution_count": 34,
   "metadata": {
    "collapsed": false
   },
   "outputs": [
    {
     "name": "stdout",
     "output_type": "stream",
     "text": [
      "-2.15976553734\n",
      "aList = [-5.856312228135707, -9.42644489308464, -8.433842300271317, -6.861814565381826, 4.90206329636484, -2.190071585105633, -1.0861999162285443, 9.926638189332987, -3.0122386897473596, -2.369909592116837]\n",
      "filteredPositiveList = [4.90206329636484, 9.926638189332987]\n",
      "filteredNegativeList = [-5.856312228135707, -9.42644489308464, -8.433842300271317, -6.861814565381826, -2.190071585105633, -1.0861999162285443, -3.0122386897473596, -2.369909592116837]\n"
     ]
    }
   ],
   "source": [
    "# 6 Filtering a list\n",
    "\n",
    "import random\n",
    "print random.uniform(-10,10)\n",
    "\n",
    "aList = []\n",
    "n = 10 # list length\n",
    "for i in range(n):\n",
    "    aList.append(random.uniform(-10,10))\n",
    "print 'aList =', aList\n",
    "\n",
    "filteredPositiveList = []\n",
    "filteredNegativeList = []\n",
    "for i in aList:\n",
    "    if i > 0:\n",
    "        filteredPositiveList.append(i)\n",
    "    elif i < 0:\n",
    "        filteredNegativeList.append(i)\n",
    "    else:\n",
    "        filteredPositiveList = filteredPositiveList\n",
    "        filteredNegativeList = filteredNegativeList\n",
    "print 'filteredPositiveList =', filteredPositiveList\n",
    "print 'filteredNegativeList =', filteredNegativeList"
   ]
  },
  {
   "cell_type": "code",
   "execution_count": 41,
   "metadata": {
    "collapsed": true
   },
   "outputs": [],
   "source": [
    "%matplotlib inline \n",
    "\n",
    "%run graphics.py"
   ]
  },
  {
   "cell_type": "markdown",
   "metadata": {},
   "source": [
    "#### Άσκηση Α4:\n",
    "\n",
    "Γράψτε ένα snippet που να ζητά μια λίστα με ακέραιους αριθμούς και μετά να τυπώνει μόνο εκείνους που είναι άρτιοι."
   ]
  },
  {
   "cell_type": "markdown",
   "metadata": {},
   "source": [
    "#### Άσκηση Α5:\n",
    "\n",
    "Γράψτε ένα snippet που να ζητά μια λίστα με στοιχεία κάποιες λέξεις (strings) και μετά να τυπώνει μόνο εκείνες που έχουν τουλάχιστον 4 χαρακτήρες."
   ]
  },
  {
   "cell_type": "markdown",
   "metadata": {},
   "source": [
    "#### Άσκηση Α6:\n",
    "\n",
    "Γράψτε ένα snippet που να ζητά μια λίστα με στοιχεία κάποιες ενδεχομένως επαναλαμβανόμενες λέξεις (strings) και μετά να τυπώνει μια λίστα που αποτελείται από τις μοναδικές λέξεις."
   ]
  },
  {
   "cell_type": "markdown",
   "metadata": {},
   "source": [
    "#### 'Ασκηση Α7:\n",
    "\n",
    "A person is eligible to be a US Senator who is at least 30 years old and has been a US citizen for at least 9 years. Write an initial version of a program congress.py to obtain age and length of citizenship from the user and print out if a person is eligible to be a Senator or not.\n",
    "\n",
    "A person is eligible to be a US Representative who is at least 25 years old and has been a US citizen for at least 7 years. Elaborate your program congress.py so it obtains age and length of citizenship and prints out just the one of the following three statements that is accurate:\n",
    "\n",
    "* You are eligible for both the House and Senate.\n",
    "* You eligible only for the House.\n",
    "* You are ineligible for Congress."
   ]
  },
  {
   "cell_type": "code",
   "execution_count": null,
   "metadata": {
    "collapsed": true
   },
   "outputs": [],
   "source": []
  },
  {
   "cell_type": "code",
   "execution_count": null,
   "metadata": {
    "collapsed": true
   },
   "outputs": [],
   "source": []
  }
 ],
 "metadata": {
  "kernelspec": {
   "display_name": "Python 2",
   "language": "python",
   "name": "python2"
  },
  "language_info": {
   "codemirror_mode": {
    "name": "ipython",
    "version": 2
   },
   "file_extension": ".py",
   "mimetype": "text/x-python",
   "name": "python",
   "nbconvert_exporter": "python",
   "pygments_lexer": "ipython2",
   "version": "2.7.11"
  }
 },
 "nbformat": 4,
 "nbformat_minor": 0
}
