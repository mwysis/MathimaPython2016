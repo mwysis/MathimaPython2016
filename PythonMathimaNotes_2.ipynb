{
 "cells": [
  {
   "cell_type": "markdown",
   "metadata": {},
   "source": [
    "## 7. ΒΡΟΧΟΙ"
   ]
  },
  {
   "cell_type": "markdown",
   "metadata": {},
   "source": [
    "### 7.1 if, elif and else"
   ]
  },
  {
   "cell_type": "code",
   "execution_count": 1,
   "metadata": {
    "collapsed": true
   },
   "outputs": [
    {
     "name": "stdout",
     "output_type": "stream",
     "text": [
      "5\n"
     ]
    }
   ],
   "source": [
    "a = 10\n",
    "b = -5\n",
    "\n",
    "if a > 0:\n",
    "    print a + b\n",
    "else:\n",
    "    print -a + b"
   ]
  },
  {
   "cell_type": "code",
   "execution_count": 2,
   "metadata": {
    "collapsed": true
   },
   "outputs": [
    {
     "name": "stdout",
     "output_type": "stream",
     "text": [
      "5\n"
     ]
    }
   ],
   "source": [
    "a = -10\n",
    "b = -5\n",
    "\n",
    "if a > 0:\n",
    "    print a + b\n",
    "else:\n",
    "    print -a + b"
   ]
  },
  {
   "cell_type": "markdown",
   "metadata": {},
   "source": [
    "#### Χρήση του True"
   ]
  },
  {
   "cell_type": "code",
   "execution_count": 3,
   "metadata": {
    "collapsed": true
   },
   "outputs": [
    {
     "name": "stdout",
     "output_type": "stream",
     "text": [
      "Attention\n"
     ]
    }
   ],
   "source": [
    "alarm = True\n",
    "if alarm:    # whatever!!!!\n",
    "    print \"Attention\"\n",
    "else:\n",
    "    print 'No problem'"
   ]
  },
  {
   "cell_type": "code",
   "execution_count": 4,
   "metadata": {
    "collapsed": true
   },
   "outputs": [
    {
     "name": "stdout",
     "output_type": "stream",
     "text": [
      "Attention\n"
     ]
    }
   ],
   "source": [
    "if True:    # whatever!!!!\n",
    "    print \"Attention\"\n",
    "else:\n",
    "    print 'No problem'"
   ]
  },
  {
   "cell_type": "code",
   "execution_count": 5,
   "metadata": {
    "collapsed": true
   },
   "outputs": [
    {
     "name": "stdout",
     "output_type": "stream",
     "text": [
      "It's a white cat\n"
     ]
    }
   ],
   "source": [
    "white = True\n",
    "small = True\n",
    "if white:\n",
    "    if small:\n",
    "        print \"It's a white cat\"\n",
    "    else:\n",
    "        print \"It's a dog\"\n",
    "else:\n",
    "    if small:\n",
    "        print \"It's a bus\"\n",
    "    else:\n",
    "        print \"It's a school\""
   ]
  },
  {
   "cell_type": "code",
   "execution_count": 6,
   "metadata": {
    "collapsed": true
   },
   "outputs": [
    {
     "name": "stdout",
     "output_type": "stream",
     "text": [
      "It's a dog\n"
     ]
    }
   ],
   "source": [
    "white = True\n",
    "small = False\n",
    "if white:\n",
    "    if small:\n",
    "        print \"It's a white cat\"\n",
    "    else:\n",
    "        print \"It's a dog\"\n",
    "else:\n",
    "    if small:\n",
    "        print \"It's a bus\"\n",
    "    else:\n",
    "        print \"It's a school\""
   ]
  },
  {
   "cell_type": "code",
   "execution_count": 7,
   "metadata": {
    "collapsed": true
   },
   "outputs": [
    {
     "name": "stdout",
     "output_type": "stream",
     "text": [
      "It's a bus\n"
     ]
    }
   ],
   "source": [
    "white = False\n",
    "small = True\n",
    "if white:\n",
    "    if small:\n",
    "        print \"It's a white cat\"\n",
    "    else:\n",
    "        print \"It's a dog\"\n",
    "else:\n",
    "    if small:\n",
    "        print \"It's a bus\"\n",
    "    else:\n",
    "        print \"It's a school\""
   ]
  },
  {
   "cell_type": "code",
   "execution_count": 8,
   "metadata": {
    "collapsed": true
   },
   "outputs": [
    {
     "name": "stdout",
     "output_type": "stream",
     "text": [
      "It's a school\n"
     ]
    }
   ],
   "source": [
    "white = False\n",
    "small = False\n",
    "if white:\n",
    "    if small:\n",
    "        print \"It's a white cat\"\n",
    "    else:\n",
    "        print \"It's a dog\"\n",
    "else:\n",
    "    if small:\n",
    "        print \"It's a bus\"\n",
    "    else:\n",
    "        print \"It's a school\""
   ]
  },
  {
   "cell_type": "code",
   "execution_count": 9,
   "metadata": {
    "collapsed": true
   },
   "outputs": [
    {
     "name": "stdout",
     "output_type": "stream",
     "text": [
      "I have not seen the color red\n"
     ]
    }
   ],
   "source": [
    "color = \"red\"\n",
    "if color == \"blue\":\n",
    "    print \"It's the sea\"\n",
    "elif color == \"green\":\n",
    "    print \"It's grass\"\n",
    "elif color == 'orange':\n",
    "    print \"It's a carrot\"\n",
    "else:\n",
    "    print \"I have not seen the color\", color\n"
   ]
  },
  {
   "cell_type": "code",
   "execution_count": 10,
   "metadata": {
    "collapsed": true
   },
   "outputs": [
    {
     "name": "stdout",
     "output_type": "stream",
     "text": [
      "It's grass\n"
     ]
    }
   ],
   "source": [
    "color = \"green\"\n",
    "if color == \"blue\":\n",
    "    print \"It's the sea\"\n",
    "elif color == \"green\":\n",
    "    print \"It's grass\"\n",
    "elif color == 'orange':\n",
    "    print \"It's a carrot\"\n",
    "else:\n",
    "    print \"I have not seen the color\", color"
   ]
  },
  {
   "cell_type": "code",
   "execution_count": 11,
   "metadata": {
    "collapsed": true
   },
   "outputs": [
    {
     "name": "stdout",
     "output_type": "stream",
     "text": [
      "False\n",
      "True\n",
      "True\n",
      "True\n",
      "False\n",
      "True\n"
     ]
    }
   ],
   "source": [
    "x = 7\n",
    "print x == 5\n",
    "print x == 7\n",
    "print x > 5\n",
    "print x >= 7\n",
    "print x < 5\n",
    "print x <= 17"
   ]
  },
  {
   "cell_type": "code",
   "execution_count": 12,
   "metadata": {
    "collapsed": true
   },
   "outputs": [
    {
     "name": "stdout",
     "output_type": "stream",
     "text": [
      "True\n",
      "True\n",
      "True\n",
      "False\n"
     ]
    }
   ],
   "source": [
    "print x > 5 and x < 20\n",
    "print (x > 5) and (x < 20)\n",
    "print x > 5 or x < 2\n",
    "print x > 15 and not x < 2"
   ]
  },
  {
   "cell_type": "markdown",
   "metadata": {},
   "source": [
    "## ΜΑΘΗΜΑ ΠΕΜΠΤΗΣ 24 ΜΑΡΤΙΟΥ 2016"
   ]
  },
  {
   "cell_type": "code",
   "execution_count": 1,
   "metadata": {
    "collapsed": false
   },
   "outputs": [
    {
     "name": "stdout",
     "output_type": "stream",
     "text": [
      "Poso zygizei i balitsa sas; 10\n",
      "Einai dwrean i metafora tis balitsas sas\n"
     ]
    }
   ],
   "source": [
    "#1 Elegxos barous balitsas sto aerodromio\n",
    "\n",
    "weight = float(input(\"Poso zygizei i balitsa sas; \"))\n",
    "if 30 < weight <= 50:\n",
    "    print \"Prepei na plirwsete 10 euro\"\n",
    "elif weight > 50:\n",
    "    print \"Den boreite na parete mazi sas tin balitsa sas\"\n",
    "else:\n",
    "    print \"Einai dwrean i metafora tis balitsas sas\""
   ]
  },
  {
   "cell_type": "code",
   "execution_count": 2,
   "metadata": {
    "collapsed": true
   },
   "outputs": [
    {
     "name": "stdout",
     "output_type": "stream",
     "text": [
      "Posa lefta thelete; 12\n",
      "Parte ta lefta sas. To ypoloipo sas egine: 987.76\n"
     ]
    }
   ],
   "source": [
    "#2 Analipsi apo ATM\n",
    "\n",
    "analipsi = float(input(\"Posa lefta thelete; \"))\n",
    "ypoloipo = 1000\n",
    "neoypoloipo = 0\n",
    "if ypoloipo > analipsi:\n",
    "    xrewsi = (2/100.)*analipsi\n",
    "    neoypoloipo = ypoloipo - analipsi - xrewsi\n",
    "    print \"Parte ta lefta sas. To ypoloipo sas egine:\", neoypoloipo\n",
    "else:\n",
    "    ypoloipo = ypoloipo\n",
    "    print \"Den exete tosa lefta sto logariasmo sas. To ypoloipo sas einai:\", ypoloipo"
   ]
  },
  {
   "cell_type": "code",
   "execution_count": 3,
   "metadata": {
    "collapsed": false
   },
   "outputs": [
    {
     "name": "stdout",
     "output_type": "stream",
     "text": [
      "What is the temperature? 12\n",
      "Wear long pants.\n"
     ]
    }
   ],
   "source": [
    "#3 Thermokrasia\n",
    "\n",
    "temperature = float(input('What is the temperature? '))\n",
    "if temperature > 70:\n",
    "    print 'Wear shorts.'\n",
    "elif 60 < temperature <= 70:\n",
    "    print 'Wear vermudas.' \n",
    "else:\n",
    "    print 'Wear long pants.' "
   ]
  },
  {
   "cell_type": "code",
   "execution_count": 4,
   "metadata": {
    "collapsed": true
   },
   "outputs": [
    {
     "name": "stdout",
     "output_type": "stream",
     "text": [
      "How many hours have you worked? 12\n",
      "What is the hourly wage? 12\n",
      "What is the threshold for overtime wage? 12\n",
      "Your total wages are: 144\n"
     ]
    }
   ],
   "source": [
    "# 4 Wages\n",
    "\n",
    "totalHours = int(input(\"How many hours have you worked? \"))\n",
    "hourlyWage = int(input(\"What is the hourly wage? \"))\n",
    "overTimeThreshold = int(input(\"What is the threshold for overtime wage? \"))\n",
    "totalWages = 0\n",
    "if totalHours <= overTimeThreshold:\n",
    "    totalWages = hourlyWage*totalHours\n",
    "else:\n",
    "    overtime = totalHours - overTimeThreshold\n",
    "    totalWages = hourlyWage*totalHours + (50/100.)*overtime*hourlyWage\n",
    "# else:\n",
    "#     overtime = totalHours - overTimeThreshold\n",
    "#     totalWages = hourlyWage*overTimeThreshold + (1.5*hourlyWage)*overtime\n",
    "print \"Your total wages are:\", totalWages"
   ]
  },
  {
   "cell_type": "markdown",
   "metadata": {},
   "source": [
    "#### Άσκηση Α1:\n",
    "\n",
    "Γράψτε ένα snippet που να ζητά έναν αριθμό και στη συνέχεια να τυπώνει αν ο αριθμός είναι 'positive', 'negative' ή 'zero'."
   ]
  },
  {
   "cell_type": "code",
   "execution_count": 1,
   "metadata": {
    "collapsed": true
   },
   "outputs": [
    {
     "name": "stdout",
     "output_type": "stream",
     "text": [
      "dose enan arithmo 12\n",
      "positive\n"
     ]
    }
   ],
   "source": [
    "# Lysi Basili Giannari \n",
    "\n",
    "arithmos=float(input('dose enan arithmo '))\n",
    "if arithmos > 0:\n",
    "    print 'positive'\n",
    "elif arithmos < 0:\n",
    "    print 'negative'\n",
    "else:\n",
    "    print 'zero'"
   ]
  },
  {
   "cell_type": "markdown",
   "metadata": {},
   "source": [
    "#### Άσκηση Α2:\n",
    "\n",
    "Γράψτε ένα snippet που να ρωτά τους φοιτητές (α) πόσες ΔΜ έχουν και (β) ποιο είναι το όριο ΔΜ για αποφοίτηση και να τους λέει αν μπορούν να αποφοιτήσουν ή όχι."
   ]
  },
  {
   "cell_type": "code",
   "execution_count": 2,
   "metadata": {
    "collapsed": true
   },
   "outputs": [
    {
     "name": "stdout",
     "output_type": "stream",
     "text": [
      "poses didaktikes monades exeis? 120\n",
      "orio? 100\n",
      "teleiwses\n"
     ]
    }
   ],
   "source": [
    "# Lysi Kwsta Sykiwti\n",
    "\n",
    "didaktikes = float(input('poses didaktikes monades exeis? '))\n",
    "orio = float(input('orio? '))\n",
    "if didaktikes >= orio:\n",
    "    print 'teleiwses'\n",
    "else:\n",
    "    print 'oxi akoma'"
   ]
  },
  {
   "cell_type": "code",
   "execution_count": 5,
   "metadata": {
    "collapsed": true
   },
   "outputs": [
    {
     "name": "stdout",
     "output_type": "stream",
     "text": [
      "What is your score from 0 to 10? 10\n",
      "A\n"
     ]
    }
   ],
   "source": [
    "# 5 Grades in Letters\n",
    "\n",
    "score = float(input('What is your score from 0 to 10? '))\n",
    "if score >= 9:\n",
    "    letter = 'A'\n",
    "else:   # grade must be B, C, D or F\n",
    "    if score >= 8:\n",
    "        letter = 'B'\n",
    "    else:  # grade must be C, D or F\n",
    "        if score >= 6.5:\n",
    "            letter = 'C'\n",
    "        else:    # grade must D or F\n",
    "            if score >= 5:\n",
    "                    letter = 'D'\n",
    "            else:\n",
    "                    letter = 'F'\n",
    "print letter"
   ]
  },
  {
   "cell_type": "markdown",
   "metadata": {},
   "source": [
    "#### Άσκηση Α3:\n",
    "\n",
    "Γράψτε ένα snippet που να βγάζει τα αποτελέσματα της ρίψης ενός νομίσματος, τυπώνοντας Heads ή Tails τόσες φορές όσες θα ορίζονται αρχικά. \n",
    "\n",
    "Η ρίψη να γίνεται τυχαία χρησιμοποιώντας την επιλογή του 1 για Heads ή του 0 για Tails από:\n",
    "\n",
    "import range\n",
    "\n",
    "random.randrange(2)\n"
   ]
  },
  {
   "cell_type": "code",
   "execution_count": 3,
   "metadata": {
    "collapsed": true
   },
   "outputs": [
    {
     "name": "stdout",
     "output_type": "stream",
     "text": [
      "Poses fores tha vgei apotelesma ripsis: 7\n",
      "Heads\n",
      "Tails\n",
      "Heads\n",
      "Heads\n",
      "Heads\n",
      "Tails\n",
      "Tails\n"
     ]
    }
   ],
   "source": [
    "# Lysi Giwrgou Delatola\n",
    "\n",
    "import random\n",
    "fores=input('Poses fores tha vgei apotelesma ripsis: ')\n",
    "for i in range(fores):\n",
    "    if random.randrange(2)==0:\n",
    "        print 'Tails'\n",
    "    else:\n",
    "        print 'Heads'"
   ]
  },
  {
   "cell_type": "code",
   "execution_count": 4,
   "metadata": {
    "collapsed": true
   },
   "outputs": [
    {
     "name": "stdout",
     "output_type": "stream",
     "text": [
      "Poses fores tha vgei apotelesma ripsis: 3\n",
      "['Heads', 'Tails', 'Tails']\n"
     ]
    }
   ],
   "source": [
    "# Opws parapanw alla me eksagwgi listas\n",
    "\n",
    "# Lysi Giwrgou Delatola\n",
    "\n",
    "import random\n",
    "fores=input('Poses fores tha vgei apotelesma ripsis: ')\n",
    "lista=[]\n",
    "for i in range(fores):\n",
    "    if random.randrange(2)==0:\n",
    "        lista.append('Tails')\n",
    "    else:\n",
    "        lista.append('Heads')\n",
    "print lista"
   ]
  },
  {
   "cell_type": "code",
   "execution_count": 6,
   "metadata": {
    "collapsed": false
   },
   "outputs": [
    {
     "name": "stdout",
     "output_type": "stream",
     "text": [
      "aList = [-1, 1, -3, 5, 0, 5, 0, 4, -8, -8]\n",
      "filteredPositiveList = [1, 5, 5, 4]\n",
      "filteredNegativeList = [-1, -3, -8, -8]\n"
     ]
    }
   ],
   "source": [
    "# 6 Filtering a list\n",
    "\n",
    "import random\n",
    "# print random.uniform(-10,10)\n",
    "\n",
    "aList = []\n",
    "n = 10 # list length\n",
    "for i in range(n):\n",
    "    nm = int(random.uniform(-10,10))\n",
    "    aList.append(nm)\n",
    "#     aList.append(random.uniform(-10,10))\n",
    "print 'aList =', aList\n",
    "\n",
    "# aList[n/2] = 0\n",
    "\n",
    "filteredPositiveList = []\n",
    "filteredNegativeList = []\n",
    "filteredZeroList = []\n",
    "for i in aList:\n",
    "    if i > 0:\n",
    "        filteredPositiveList.append(i)\n",
    "    elif i < 0:\n",
    "        filteredNegativeList.append(i)\n",
    "    else:\n",
    "#         filteredZeroList.append(i)\n",
    "        filteredPositiveList = filteredPositiveList\n",
    "        filteredNegativeList = filteredNegativeList\n",
    "print 'filteredPositiveList =', filteredPositiveList\n",
    "print 'filteredNegativeList =', filteredNegativeList\n",
    "# print 'filteredZeroList =', filteredZeroList"
   ]
  },
  {
   "cell_type": "code",
   "execution_count": 6,
   "metadata": {
    "collapsed": false
   },
   "outputs": [],
   "source": [
    "# %matplotlib inline \n",
    "\n",
    "# %run graphics.py"
   ]
  },
  {
   "cell_type": "markdown",
   "metadata": {},
   "source": [
    "#### Άσκηση Α4:\n",
    "\n",
    "Γράψτε ένα snippet που να ζητά μια λίστα με ακέραιους αριθμούς και μετά να τυπώνει μόνο εκείνους που είναι άρτιοι."
   ]
  },
  {
   "cell_type": "code",
   "execution_count": 10,
   "metadata": {
    "collapsed": true
   },
   "outputs": [
    {
     "name": "stdout",
     "output_type": "stream",
     "text": [
      "Dwse mia lista akeraiwn: [1,3,5,7,8]\n",
      "[8]\n"
     ]
    }
   ],
   "source": [
    "lst = input(\"Dwse mia lista akeraiwn: \")\n",
    "elst = []\n",
    "for i in lst:\n",
    "    if i%2 == 0:\n",
    "        elst.append(i)\n",
    "print elst"
   ]
  },
  {
   "cell_type": "code",
   "execution_count": null,
   "metadata": {
    "collapsed": true
   },
   "outputs": [],
   "source": [
    "y=int(raw_input(\"dose to megethos tis listas: \"))\n",
    "x1=range(y)\n",
    "l2=[]\n",
    "l3=[]\n",
    "for i in x1:\n",
    "    l1=int(raw_input(\"dose enan akeraio: \"))\n",
    "    l2.append(l1)\n",
    "for i in x1:\n",
    "    if (l2[i]%2 == 0):\n",
    "        l3.append(l2[i])\n",
    "print l3"
   ]
  },
  {
   "cell_type": "markdown",
   "metadata": {},
   "source": [
    "#### Άσκηση Α5:\n",
    "\n",
    "Γράψτε ένα snippet που να ζητά μια λίστα με στοιχεία κάποιες λέξεις (strings) και μετά να τυπώνει μόνο εκείνες που έχουν τουλάχιστον 4 χαρακτήρες."
   ]
  },
  {
   "cell_type": "code",
   "execution_count": 1,
   "metadata": {
    "collapsed": false
   },
   "outputs": [
    {
     "name": "stdout",
     "output_type": "stream",
     "text": [
      "Dose tin lista: ['aris','makis','george','a']\n",
      "aris\n",
      "makis\n",
      "george\n"
     ]
    }
   ],
   "source": [
    "# Lysi Giwrgou Delatola\n",
    "\n",
    "lista1=input('Dose tin lista: ')\n",
    "for i in range(len(lista1)):\n",
    "    if len(lista1[i])>=4:\n",
    "        print lista1[i]"
   ]
  },
  {
   "cell_type": "markdown",
   "metadata": {},
   "source": [
    "#### Άσκηση Α6:\n",
    "\n",
    "Γράψτε ένα snippet που να ζητά μια λίστα με στοιχεία κάποιες ενδεχομένως επαναλαμβανόμενες λέξεις (strings) και μετά να τυπώνει μια λίστα που αποτελείται από τις μοναδικές λέξεις."
   ]
  },
  {
   "cell_type": "code",
   "execution_count": 2,
   "metadata": {
    "collapsed": false
   },
   "outputs": [
    {
     "name": "stdout",
     "output_type": "stream",
     "text": [
      "Dose tin lista: ['a','ba','a','opao']\n",
      "['a', 'opao', 'ba']\n"
     ]
    }
   ],
   "source": [
    "# Lysi Giwrgou Delatola\n",
    "\n",
    "lista2=input('Dose tin lista: ')\n",
    "lista=[]\n",
    "for i in set(lista2):\n",
    "    lista.append(i)\n",
    "print lista"
   ]
  },
  {
   "cell_type": "markdown",
   "metadata": {},
   "source": [
    "Κάντε την προηγούμενη άσκηση χωρίς την χρήση του set"
   ]
  },
  {
   "cell_type": "markdown",
   "metadata": {},
   "source": [
    "#### 'Ασκηση Α7a:\n",
    "\n",
    "A person is eligible to be a US Senator who is at least 30 years old and has been a US citizen for at least 9 years. Write a snippet to obtain age and length of citizenship from the user and print out if a person is eligible to be a Senator or not."
   ]
  },
  {
   "cell_type": "code",
   "execution_count": 2,
   "metadata": {
    "collapsed": false
   },
   "outputs": [
    {
     "name": "stdout",
     "output_type": "stream",
     "text": [
      "How old are you? 30\n",
      "For how many years have you been a citizen? 9\n",
      "You are eligible to be a Senator.\n"
     ]
    }
   ],
   "source": [
    "# Lysi Nikou Velissariou\n",
    "\n",
    "age = input(\"How old are you? \")\n",
    "citizenship = input(\"For how many years have you been a citizen? \")\n",
    "if age >= 30 and citizenship >= 9:\n",
    "    print \"You are eligible to be a Senator.\"\n",
    "else:\n",
    "    print \"You are not eligible to be a Senator.\""
   ]
  },
  {
   "cell_type": "markdown",
   "metadata": {},
   "source": [
    "#### 'Ασκηση Α7b:\n",
    "\n",
    "A person is eligible to be a US Representative who is at least 25 years old and has been a US citizen for at least 7 years. Write a snippet that obtains age and length of citizenship and prints out just the one of the following three statements that is accurate:\n",
    "\n",
    "* You are eligible for both the House and Senate.\n",
    "* You eligible only for the House.\n",
    "* You are ineligible for Congress."
   ]
  },
  {
   "cell_type": "code",
   "execution_count": 3,
   "metadata": {
    "collapsed": false
   },
   "outputs": [
    {
     "name": "stdout",
     "output_type": "stream",
     "text": [
      "How old are you? 30\n",
      "For how many years have you been a citizen? 9\n",
      "You are eligible for both the House and Senate.\n"
     ]
    }
   ],
   "source": [
    "# Lysi Nikou Velissariou\n",
    "\n",
    "age = input(\"How old are you? \")\n",
    "citizenship = input(\"For how many years have you been a citizen? \")\n",
    "if age >= 25 and citizenship >= 7:\n",
    "    if age >= 30 and citizenship >= 9:\n",
    "        print \"You are eligible for both the House and Senate.\"\n",
    "    else:\n",
    "        print \"You eligible only for the House.\"\n",
    "else:\n",
    "    print \"You are ineligible for Congress.\" "
   ]
  },
  {
   "cell_type": "markdown",
   "metadata": {
    "collapsed": false
   },
   "source": [
    "## ΜΑΘΗΜΑ ΤΡΙΤΗΣ 29 ΜΑΡΤΙΟΥ 2016"
   ]
  },
  {
   "cell_type": "code",
   "execution_count": 7,
   "metadata": {
    "collapsed": true
   },
   "outputs": [
    {
     "name": "stdout",
     "output_type": "stream",
     "text": [
      "1\n",
      "2\n",
      "3\n",
      "4\n",
      "5\n"
     ]
    }
   ],
   "source": [
    "# while loops\n",
    "\n",
    "count = 1\n",
    "while count <= 5:\n",
    "    print count\n",
    "    count += 1  #(einai enas allos tropos gia count = count + 1)\n"
   ]
  },
  {
   "cell_type": "code",
   "execution_count": 8,
   "metadata": {
    "collapsed": false
   },
   "outputs": [
    {
     "name": "stdout",
     "output_type": "stream",
     "text": [
      "[1, 2, 3, 4, 5]\n"
     ]
    }
   ],
   "source": [
    "# Lysi Giwrgou Delatola\n",
    "\n",
    "count = 1\n",
    "lista1=[]\n",
    "while count <= 5:\n",
    "    lista1.append(count)\n",
    "    count += 1  #(einai enas allos tropos gia count = count + 1)\n",
    "print lista1"
   ]
  },
  {
   "cell_type": "code",
   "execution_count": 10,
   "metadata": {
    "collapsed": false
   },
   "outputs": [
    {
     "name": "stdout",
     "output_type": "stream",
     "text": [
      "Dwse ena string: test\n",
      "test\n",
      "Dwse ena string: George\n",
      "George\n",
      "Dwse ena string: Nick\n",
      "Nick\n",
      "Dwse ena string: q\n"
     ]
    }
   ],
   "source": [
    "# Theloume na dinoume me input stringskai na stamata se sygkekrimeno gramma\n",
    "\n",
    "# while + break\n",
    "\n",
    "while True:\n",
    "    dinoume = raw_input(\"Dwse ena string: \")\n",
    "    if dinoume == \"q\":\n",
    "        break\n",
    "    print dinoume\n",
    "    "
   ]
  },
  {
   "cell_type": "code",
   "execution_count": 13,
   "metadata": {
    "collapsed": false
   },
   "outputs": [
    {
     "name": "stdout",
     "output_type": "stream",
     "text": [
      "Dwse ena string: a\n",
      "Dwse ena string: b\n",
      "Dwse ena string: q\n",
      "['a', 'b']\n"
     ]
    }
   ],
   "source": [
    "# Lysi Katerinas Anastasopoulou & Nikou Belisariou\n",
    "\n",
    "lista2=[]\n",
    "while True:\n",
    "    dinoume = raw_input(\"Dwse ena string: \")\n",
    "    if dinoume != \"q\":\n",
    "        lista2.append(dinoume)\n",
    "        \n",
    "    else:\n",
    "        break\n",
    "print lista2"
   ]
  },
  {
   "cell_type": "code",
   "execution_count": 25,
   "metadata": {
    "collapsed": true
   },
   "outputs": [
    {
     "name": "stdout",
     "output_type": "stream",
     "text": [
      "Dwse ena string: s\n",
      "Dwse ena string: f\n",
      "Dwse ena string: aaaa\n",
      "['s', 'f', 'Aaaa']\n",
      "Dwse ena string: q\n",
      "['s', 'f', 'Aaaa']\n"
     ]
    }
   ],
   "source": [
    "# To idio alla an dinoume string pou arxizei apo a na to kanei kefalaio\n",
    "\n",
    "lista2=[]\n",
    "while True:\n",
    "    dinoume = raw_input(\"Dwse ena string: \")\n",
    "    if dinoume != 'q':\n",
    "        if dinoume[0] == 'a':\n",
    "#             dinoume[0].upper()\n",
    "            lista2.append(dinoume.title())\n",
    "            print lista2\n",
    "        else:\n",
    "            lista2.append(dinoume)\n",
    "    else:\n",
    "        break\n",
    "print lista2"
   ]
  },
  {
   "cell_type": "markdown",
   "metadata": {},
   "source": [
    "#### 'Ασκηση Α8:\n",
    "\n",
    "Να δίνετε ως input κάθε φορά και έναν αριθμό:\n",
    "\n",
    "Αν ο αριθμός είναι float να τον κάνετε ακέραιο\n",
    "\n",
    "Αν ο αριθμός είναι άρτιος να τον κάνετε τον αμέσως επόμενο περιττό\n",
    "\n",
    "Αν ο αριθμός είναι περιττός να τον κάνετε τον αμέσως προηγούμενο άρτιο\n",
    "\n",
    "Διακόπτετε με break δινοντας τον αριθμό 0\n",
    "\n",
    "Στο τέλος τυπώνετε την λίστα των αριθμών όπως σχηματίσθηκαν"
   ]
  },
  {
   "cell_type": "code",
   "execution_count": 1,
   "metadata": {
    "collapsed": false
   },
   "outputs": [
    {
     "name": "stdout",
     "output_type": "stream",
     "text": [
      "Dwse enan arithmo: 2.2\n",
      "Dwse enan arithmo: 35\n",
      "Dwse enan arithmo: 42\n",
      "Dwse enan arithmo: 7.8\n",
      "Dwse enan arithmo: 0\n",
      "[1, 36, 41, 8]\n"
     ]
    }
   ],
   "source": [
    "# Lythike episis apo Alexi Koutsantwni kai Niko Velissario\n",
    "\n",
    "lista=[]\n",
    "while True:\n",
    "    arithmos = input(\"Dwse enan arithmo: \")\n",
    "    arithmos = int(arithmos)\n",
    "    if arithmos != 0:\n",
    "        if arithmos%2 == 0:\n",
    "            lista.append(arithmos-1)\n",
    "        else:\n",
    "            lista.append(arithmos+1)\n",
    "    else:\n",
    "        break\n",
    "print lista"
   ]
  },
  {
   "cell_type": "code",
   "execution_count": 28,
   "metadata": {
    "collapsed": false
   },
   "outputs": [
    {
     "name": "stdout",
     "output_type": "stream",
     "text": [
      "-0.300406704945 0.594060689036\n"
     ]
    }
   ],
   "source": [
    "# Gia na dimiourgisoume enan tyxaio arithmo parmeno apo tin typiki\n",
    "# kanoniki katanomi me mesi timi 0 kai typiki apoklisi 1\n",
    "\n",
    "import numpy as np\n",
    "x = np.random.randn()\n",
    "y = np.random.randn()\n",
    "print x, y"
   ]
  },
  {
   "cell_type": "code",
   "execution_count": 34,
   "metadata": {
    "collapsed": false
   },
   "outputs": [
    {
     "name": "stdout",
     "output_type": "stream",
     "text": [
      "seq [0.29230698869591126, -1.849280333279605, -0.6339747786656287, -2.0762823441094103, 0.05105527029977766, 0.04331133998729319, 0.3892188843722283, 1.0561054146366902, -0.49981389730900194, 0.7421603836738828]\n",
      "\n",
      "seqn [-0.08061805 -0.04158514  0.43975232  0.77638401 -1.92792161 -0.73319828\n",
      " -0.78947893 -0.18282038  2.20644285 -1.21892459]\n"
     ]
    }
   ],
   "source": [
    "seq = []\n",
    "for i in range(10):\n",
    "    seq.append(np.random.randn())\n",
    "print 'seq', seq\n",
    "print\n",
    "\n",
    "seqn = np.random.randn(10)\n",
    "print 'seqn', seqn"
   ]
  },
  {
   "cell_type": "code",
   "execution_count": 35,
   "metadata": {
    "collapsed": false
   },
   "outputs": [
    {
     "name": "stdout",
     "output_type": "stream",
     "text": [
      "[ 0.36133042  0.06164086  0.32087505  1.28697764  0.14063493  1.42372026\n",
      "  1.26745779  1.1057021  -0.3672852   0.14484861]\n",
      "\n",
      "[1.2869776399399664, 1.4237202560630957, 1.2674577934527782, 1.1057020950238916]\n"
     ]
    }
   ],
   "source": [
    "# continue\n",
    "\n",
    "# Dinetai i akolouthia seqn 10 tyxaiwn arithmwn kai theloyme na ftiaksoume \n",
    "# mia devteri akolouthia pou na perilambanei tous arithmous tis seqn pou\n",
    "# einai < -0.5 kai > 0.5\n",
    "\n",
    "seqn = np.random.randn(10)\n",
    "print seqn\n",
    "print\n",
    "\n",
    "seq_o = []\n",
    "for i in seqn:\n",
    "    if i > 0.5 or i < -0.5:\n",
    "        seq_o.append(i)\n",
    "        continue\n",
    "print seq_o"
   ]
  },
  {
   "cell_type": "code",
   "execution_count": 50,
   "metadata": {
    "collapsed": false
   },
   "outputs": [
    {
     "name": "stdout",
     "output_type": "stream",
     "text": [
      "Dwse kati: mathimatikos\n",
      "Current Letter : m\n",
      "Current Letter : a\n",
      "Current Letter : t\n",
      "Current Letter : h\n",
      "Current Letter : i\n",
      "Current Letter : m\n",
      "Current Letter : a\n",
      "Current Letter : t\n",
      "Current Letter : i\n",
      "Current Letter : k\n",
      "Current Letter : s\n"
     ]
    }
   ],
   "source": [
    "# Dinoume ena string kai theloume na typwnetai grammi-grammi kathe gramma\n",
    "# ektos ean avto einai to 'o'\n",
    "\n",
    "string = raw_input(\"Dwse kati: \")\n",
    "for i in string:\n",
    "    if i == 'o':\n",
    "        continue\n",
    "    else:\n",
    "        print 'Current Letter :', i"
   ]
  },
  {
   "cell_type": "code",
   "execution_count": 48,
   "metadata": {
    "collapsed": false
   },
   "outputs": [
    {
     "name": "stdout",
     "output_type": "stream",
     "text": [
      "[-0.14781354 -0.81060534 -1.44771414 -0.59565269 -0.49418288  0.83240782\n",
      " -0.39779569  0.76840733 -0.59273718  0.53482438]\n",
      "\n",
      "[-0.81060533991495953] 1\n"
     ]
    }
   ],
   "source": [
    "# An ithela na brw ton prwto (sti seira) arithmo gia avti ti synthiki,\n",
    "# tha xrisimopoiousa to break\n",
    "\n",
    "seqn = np.random.randn(10)\n",
    "print seqn\n",
    "print\n",
    "\n",
    "seq_o = []\n",
    "for i in seqn:\n",
    "    if i > 0.5 or i < -0.5:\n",
    "        seq_o.append(i)\n",
    "        break\n",
    "print seq_o, list(seqn).index(list(seq_o)[0])\n"
   ]
  },
  {
   "cell_type": "markdown",
   "metadata": {},
   "source": [
    "#### 'Ασκηση Α9:\n",
    "\n",
    "Να δίνετε ως input έναν αριθμό:\n",
    "* Χρησιμοποιώντας το while, εφόσον ο αριθμός είναι θετικός να αφαιρείτε το 5 από αυτόν.\n",
    "* Χρησιμοποιώντας το continue,  αν φθάσετε ο αριθμός να είναι στο κλειστό διάστημα [20,30], να μην κάνετε τίποτε.\n",
    "* Αλλιώς να φτιάξετε μια λίστα με τον αρχικό αριθμό και τους διαδοχικά παραγόμενους αριθμούς.\n",
    "\n",
    "Τυπώστε την τελική λίστα."
   ]
  },
  {
   "cell_type": "code",
   "execution_count": 16,
   "metadata": {
    "collapsed": false
   },
   "outputs": [
    {
     "name": "stdout",
     "output_type": "stream",
     "text": [
      "Dwse enan arithmo: 62\n",
      "[62, 57, 52, 47, 42, 37, 32, 17, 12, 7, 2, -3]\n"
     ]
    }
   ],
   "source": [
    "# Lysi Nikou Velissariou\n",
    "\n",
    "x = input(\"Dwse enan arithmo: \")\n",
    "lista = [x]\n",
    "k = 0\n",
    "while x > 0:\n",
    "    x -= 5\n",
    "    if x >= 20 and x <= 30:\n",
    "        x -= 5\n",
    "        continue\n",
    "    else:\n",
    "       lista.append(x)\n",
    "print lista    "
   ]
  },
  {
   "cell_type": "markdown",
   "metadata": {
    "collapsed": true
   },
   "source": [
    "## ΜΑΘΗΜΑ ΠΕΜΠΤΗΣ 31 ΜΑΡΤΙΟΥ 2016"
   ]
  },
  {
   "cell_type": "markdown",
   "metadata": {},
   "source": [
    "### Μιγαδικοί αριθμοί στη Python"
   ]
  },
  {
   "cell_type": "markdown",
   "metadata": {},
   "source": [
    "* Το i των μαθηματικών είναι j στην Python\n",
    "* z = 4.5 - 3.87j είναι μιγαδικός αριθμός\n",
    "* το πραγματικό μέρος του z είναι z.real = 4.5\n",
    "* το φανταστικό μέρος του z είναι z.imag = -3.8\n",
    "* ο συζυγής του z είναι z.conjugate() = 4.5 + 3.87j\n",
    "* η απόλυτος τιμή του z = a+bj είναι η τετραγωνική ρίζα του a**2+b**2, abs(z)\n",
    "* το γινόμενο (a+bj)(c+dj) = (ac-bd) + (ad+bc)j\n",
    "* z=a+bj, z^2 = (a^2-b^2) + 2abj"
   ]
  },
  {
   "cell_type": "code",
   "execution_count": 6,
   "metadata": {
    "collapsed": true
   },
   "outputs": [],
   "source": [
    "z = 4 + 3j"
   ]
  },
  {
   "cell_type": "code",
   "execution_count": 2,
   "metadata": {
    "collapsed": false
   },
   "outputs": [
    {
     "data": {
      "text/plain": [
       "4.0"
      ]
     },
     "execution_count": 2,
     "metadata": {},
     "output_type": "execute_result"
    }
   ],
   "source": [
    "z.real"
   ]
  },
  {
   "cell_type": "code",
   "execution_count": 3,
   "metadata": {
    "collapsed": false
   },
   "outputs": [
    {
     "data": {
      "text/plain": [
       "3.0"
      ]
     },
     "execution_count": 3,
     "metadata": {},
     "output_type": "execute_result"
    }
   ],
   "source": [
    "z.imag"
   ]
  },
  {
   "cell_type": "code",
   "execution_count": 5,
   "metadata": {
    "collapsed": false
   },
   "outputs": [
    {
     "data": {
      "text/plain": [
       "(4-3j)"
      ]
     },
     "execution_count": 5,
     "metadata": {},
     "output_type": "execute_result"
    }
   ],
   "source": [
    "z.conjugate()"
   ]
  },
  {
   "cell_type": "code",
   "execution_count": 6,
   "metadata": {
    "collapsed": false
   },
   "outputs": [
    {
     "data": {
      "text/plain": [
       "5.0"
      ]
     },
     "execution_count": 6,
     "metadata": {},
     "output_type": "execute_result"
    }
   ],
   "source": [
    "abs(z)"
   ]
  },
  {
   "cell_type": "code",
   "execution_count": 8,
   "metadata": {
    "collapsed": false
   },
   "outputs": [
    {
     "data": {
      "text/plain": [
       "(7+24j)"
      ]
     },
     "execution_count": 8,
     "metadata": {},
     "output_type": "execute_result"
    }
   ],
   "source": [
    "z**2"
   ]
  },
  {
   "cell_type": "code",
   "execution_count": 7,
   "metadata": {
    "collapsed": true
   },
   "outputs": [],
   "source": [
    "w = 1 + 2j"
   ]
  },
  {
   "cell_type": "code",
   "execution_count": 7,
   "metadata": {
    "collapsed": false
   },
   "outputs": [
    {
     "data": {
      "text/plain": [
       "(-2+11j)"
      ]
     },
     "execution_count": 7,
     "metadata": {},
     "output_type": "execute_result"
    }
   ],
   "source": [
    "z*w"
   ]
  },
  {
   "cell_type": "code",
   "execution_count": 9,
   "metadata": {
    "collapsed": false
   },
   "outputs": [
    {
     "data": {
      "text/plain": [
       "True"
      ]
     },
     "execution_count": 9,
     "metadata": {},
     "output_type": "execute_result"
    }
   ],
   "source": [
    "# Enas devteros tropos grafis migadikou arithmou stin Python\n",
    "\n",
    "zz = complex(4,3)\n",
    "z == zz"
   ]
  },
  {
   "cell_type": "code",
   "execution_count": 11,
   "metadata": {
    "collapsed": false
   },
   "outputs": [
    {
     "name": "stdout",
     "output_type": "stream",
     "text": [
      "(1+1j) 1.41421356237\n",
      "(1+2j) 2.2360679775\n",
      "(-2+4j) 4.472135955\n",
      "(-11-16j) 19.4164878389\n",
      "(-134+352j) 376.643067107\n"
     ]
    }
   ],
   "source": [
    "z = 1 + 1j\n",
    "print z, abs(z)\n",
    "while abs(z) < 100:\n",
    "    z = z**2 + 1\n",
    "    print z, abs(z)\n",
    "# z"
   ]
  },
  {
   "cell_type": "markdown",
   "metadata": {},
   "source": [
    "#### 'Ασκηση Α10:\n",
    "\n",
    "Να δίνετε ως input δυο μιγαδικούς αριθμούς, να υπολογίζετε το γινόμενο τους μείον το 5+10j, αν αυτό που βρίσκετε έχει απόλυτη τιμή μικρότερη του 100, να παίρνετε τον συζυγή του και να τον προσθέτετε σε μια λίστα, την οποίαν λίστα θέλετε να βγάζετε/τυπώνετε τελικά."
   ]
  },
  {
   "cell_type": "code",
   "execution_count": 3,
   "metadata": {
    "collapsed": false
   },
   "outputs": [
    {
     "name": "stdout",
     "output_type": "stream",
     "text": [
      "dose enan migadiko: 2+3j\n",
      "dose enan akomh migadiko: 4+6j\n",
      "dose enan migadiko: 3+2j\n",
      "dose enan akomh migadiko: 2+8j\n",
      "dose enan migadiko: 20+30j\n",
      "dose enan akomh migadiko: 500+125j\n",
      "[(-15-14j), (-15-18j)]\n"
     ]
    }
   ],
   "source": [
    "# Lysi Nikou Velissariou\n",
    "\n",
    "lista1=[]\n",
    "while True:\n",
    "    a=input(\"dose enan migadiko: \")    \n",
    "    b=input(\"dose enan akomh migadiko: \")\n",
    "    c=(a*b)-(5+10j)\n",
    "    if abs(c)<100:\n",
    "        lista1.append(c.conjugate())    \n",
    "    else:\n",
    "        break\n",
    "print lista1        "
   ]
  },
  {
   "cell_type": "code",
   "execution_count": 12,
   "metadata": {
    "collapsed": false
   },
   "outputs": [
    {
     "name": "stdout",
     "output_type": "stream",
     "text": [
      "1.0\n",
      "0\n",
      "0.5\n",
      "0.25\n"
     ]
    }
   ],
   "source": [
    "a = [1, 0, 2, 4]\n",
    "for element in a:\n",
    "    if element == 0:\n",
    "        print element\n",
    "        continue\n",
    "    print 1. / element"
   ]
  },
  {
   "cell_type": "code",
   "execution_count": 5,
   "metadata": {
    "collapsed": false
   },
   "outputs": [
    {
     "name": "stdout",
     "output_type": "stream",
     "text": [
      "[1, 2, 3, 4, 5]\n",
      "[3, 4, 5, 6, 7]\n",
      "[(1, 3), (2, 4), (3, 5), (4, 6), (5, 7)]\n"
     ]
    },
    {
     "data": {
      "text/plain": [
       "[(1+3j), (2+4j), (3+5j), (4+6j), (5+7j)]"
      ]
     },
     "execution_count": 5,
     "metadata": {},
     "output_type": "execute_result"
    }
   ],
   "source": [
    "# Kataskevi listas migadikwn arithmwn me to zip dyo listwn arithmwn\n",
    "\n",
    "a = range(1,6)\n",
    "b = range(3,8)\n",
    "print a\n",
    "print b\n",
    "ab = zip(a,b)\n",
    "print ab\n",
    "listam = []\n",
    "for i,j in ab:\n",
    "    listam.append(complex(i,j))\n",
    "listam"
   ]
  },
  {
   "cell_type": "code",
   "execution_count": 20,
   "metadata": {
    "collapsed": false
   },
   "outputs": [
    {
     "data": {
      "text/plain": [
       "[(1-3j), (2-4j)]"
      ]
     },
     "execution_count": 20,
     "metadata": {},
     "output_type": "execute_result"
    }
   ],
   "source": [
    "listam1 = []\n",
    "for z in listam:\n",
    "    if abs(z) < 5:\n",
    "        listam1.append(z.conjugate())\n",
    "listam1     "
   ]
  },
  {
   "cell_type": "code",
   "execution_count": 6,
   "metadata": {
    "collapsed": false
   },
   "outputs": [
    {
     "name": "stdout",
     "output_type": "stream",
     "text": [
      "1.0\n"
     ]
    }
   ],
   "source": [
    "a = [1, 0, 2, 4]\n",
    "for element in a:\n",
    "    if element == 0:\n",
    "        break\n",
    "    print 1. / element"
   ]
  },
  {
   "cell_type": "code",
   "execution_count": 23,
   "metadata": {
    "collapsed": false
   },
   "outputs": [
    {
     "name": "stdout",
     "output_type": "stream",
     "text": [
      "(-26-18j)\n",
      "(-88-16j)\n"
     ]
    }
   ],
   "source": [
    "for z in listam:\n",
    "    if z.real == 3:\n",
    "        break\n",
    "    print z**3"
   ]
  },
  {
   "cell_type": "markdown",
   "metadata": {},
   "source": [
    "#### 'Ασκηση Α11:\n",
    "\n",
    "Να δίνετε ως input μια λίστα μιγαδικών αριθμών και να εξαγάγετε τη λίστα των τετραγώνων αυτών των αριθμών, μόνο για εκείνους που η απόλυτη τιμή τους είναι μεγαλύτερη του 100. "
   ]
  },
  {
   "cell_type": "code",
   "execution_count": 17,
   "metadata": {
    "collapsed": false
   },
   "outputs": [
    {
     "name": "stdout",
     "output_type": "stream",
     "text": [
      "Dwse lista migadikwn arithmwn: [10+2j,10+20j,100+30j,100+300j]\n",
      "[(9100+6000j), (-80000+60000j)]\n"
     ]
    }
   ],
   "source": [
    "# Lysi Alexi Koutsantwni\n",
    "\n",
    "listam = input(\"Dwse lista migadikwn arithmwn: \")\n",
    "listat = []\n",
    "for i in range(len(listam)):\n",
    "    if abs(listam[i]) > 100:\n",
    "        listat.append(listam[i]**2)\n",
    "print listat"
   ]
  },
  {
   "cell_type": "markdown",
   "metadata": {},
   "source": [
    "### Comprehensions"
   ]
  },
  {
   "cell_type": "code",
   "execution_count": 8,
   "metadata": {
    "collapsed": false
   },
   "outputs": [
    {
     "data": {
      "text/plain": [
       "[1, 8, 27, 64, 125]"
      ]
     },
     "execution_count": 8,
     "metadata": {},
     "output_type": "execute_result"
    }
   ],
   "source": [
    "xx = []\n",
    "for i in range(1,6):\n",
    "    xx.append(i**3)\n",
    "xx"
   ]
  },
  {
   "cell_type": "code",
   "execution_count": 9,
   "metadata": {
    "collapsed": false
   },
   "outputs": [
    {
     "data": {
      "text/plain": [
       "[1, 8, 27, 64, 125]"
      ]
     },
     "execution_count": 9,
     "metadata": {},
     "output_type": "execute_result"
    }
   ],
   "source": [
    "xx = [i**3 for i in range(1,6)]\n",
    "xx"
   ]
  },
  {
   "cell_type": "code",
   "execution_count": 4,
   "metadata": {
    "collapsed": false
   },
   "outputs": [
    {
     "data": {
      "text/plain": [
       "[10, 11, 12, 13, 14, 15, 16]"
      ]
     },
     "execution_count": 4,
     "metadata": {},
     "output_type": "execute_result"
    }
   ],
   "source": [
    "#Na grapsoume ws comprehension list tin lista twn athroismatwn me 10 \n",
    "# twn arithmwn pou periexontai se mia dotheisa lista arithmwn aa\n",
    "\n",
    "aa = range(7)\n",
    "athr = [i+10 for i in aa]\n",
    "athr"
   ]
  },
  {
   "cell_type": "code",
   "execution_count": 10,
   "metadata": {
    "collapsed": false
   },
   "outputs": [
    {
     "data": {
      "text/plain": [
       "[1, 27, 125]"
      ]
     },
     "execution_count": 10,
     "metadata": {},
     "output_type": "execute_result"
    }
   ],
   "source": [
    "yy = []\n",
    "for i in range(1,6):\n",
    "    if i%2 == 1:\n",
    "        yy.append(i**3)\n",
    "yy"
   ]
  },
  {
   "cell_type": "code",
   "execution_count": 11,
   "metadata": {
    "collapsed": false
   },
   "outputs": [
    {
     "data": {
      "text/plain": [
       "[1, 27, 125]"
      ]
     },
     "execution_count": 11,
     "metadata": {},
     "output_type": "execute_result"
    }
   ],
   "source": [
    "yy = [i**3 for i in range(1,6) if i%2 == 1]\n",
    "yy"
   ]
  },
  {
   "cell_type": "code",
   "execution_count": 26,
   "metadata": {
    "collapsed": false
   },
   "outputs": [
    {
     "data": {
      "text/plain": [
       "[1, 3, 5, 7, 9]"
      ]
     },
     "execution_count": 26,
     "metadata": {},
     "output_type": "execute_result"
    }
   ],
   "source": [
    "#Na grapsoume ws comprehension list tin lista twn perittwn arithmwn\n",
    "#pou periexontai se mia dotheisa lista arithmwn aa\n",
    "aa = range(10)\n",
    "perittoi = [i for i in aa if i%2 == 1]\n",
    "perittoi"
   ]
  },
  {
   "cell_type": "markdown",
   "metadata": {},
   "source": [
    "#### 'Ασκηση Α12:\n",
    "\n",
    "Έστω ότι δίνεται μια λίστα, της οποίας τα στοιχεία είναι κι αυτά λίστες. Γράψτε μια list comprehension που έχει ως στοιχεία τα στοιχεία όλων των (υπο)λιστών της πρώτης λίστας."
   ]
  },
  {
   "cell_type": "code",
   "execution_count": 34,
   "metadata": {
    "collapsed": false
   },
   "outputs": [
    {
     "name": "stdout",
     "output_type": "stream",
     "text": [
      "[1, 80, 10, 173, 8, 16, 4, 2, 1, 56, 5, 2, 8, 2]\n"
     ]
    }
   ],
   "source": [
    "list_of_lists = [[1,80,10], [173,8], [16,4,2], [1,56,5], [2], [8,2]]\n",
    "flist = [i for x in list_of_lists for i in x]\n",
    "print flist"
   ]
  },
  {
   "cell_type": "code",
   "execution_count": 22,
   "metadata": {
    "collapsed": false
   },
   "outputs": [
    {
     "name": "stdout",
     "output_type": "stream",
     "text": [
      "[1, 80, 10, 173, 8, 16, 4, 2, 1, 56, 5, 2, 8, 2]\n"
     ]
    }
   ],
   "source": [
    "# Eksigisi lysis Askisis 12\n",
    "\n",
    "flist = []\n",
    "for x in list_of_lists:\n",
    "    for i in x:\n",
    "        flist.append(i)\n",
    "print flist"
   ]
  },
  {
   "cell_type": "code",
   "execution_count": 37,
   "metadata": {
    "collapsed": false
   },
   "outputs": [
    {
     "name": "stdout",
     "output_type": "stream",
     "text": [
      "[8, 8, 8, 8, 8, 8, 2, 2, 2, 2, 2, 2]\n"
     ]
    }
   ],
   "source": [
    "# PROSOXH h antistrofi twn 2 for dinei lathos lista\n",
    "\n",
    "flist = [i for i in x for x in list_of_lists]\n",
    "print flist"
   ]
  },
  {
   "cell_type": "code",
   "execution_count": 13,
   "metadata": {
    "collapsed": false
   },
   "outputs": [
    {
     "name": "stdout",
     "output_type": "stream",
     "text": [
      "{'M': 1}\n",
      "{'i': 4, 'M': 1}\n",
      "{'i': 4, 's': 4, 'M': 1}\n",
      "{'i': 4, 's': 4, 'M': 1}\n",
      "{'i': 4, 's': 4, 'M': 1}\n",
      "{'i': 4, 's': 4, 'M': 1}\n",
      "{'i': 4, 's': 4, 'M': 1}\n",
      "{'i': 4, 's': 4, 'M': 1}\n",
      "{'i': 4, 'p': 2, 's': 4, 'M': 1}\n",
      "{'i': 4, 'p': 2, 's': 4, 'M': 1}\n",
      "{'i': 4, 'p': 2, 's': 4, 'M': 1}\n"
     ]
    },
    {
     "data": {
      "text/plain": [
       "{'M': 1, 'i': 4, 'p': 2, 's': 4}"
      ]
     },
     "execution_count": 13,
     "metadata": {},
     "output_type": "execute_result"
    }
   ],
   "source": [
    "#1\n",
    "word = 'Mississippi'\n",
    "cc = {} #Prosoxi DICTIONARY\n",
    "for letter in word:\n",
    "    cc[letter] = word.count(letter)\n",
    "    print cc\n",
    "cc"
   ]
  },
  {
   "cell_type": "code",
   "execution_count": 14,
   "metadata": {
    "collapsed": false
   },
   "outputs": [
    {
     "name": "stdout",
     "output_type": "stream",
     "text": [
      "{'i': 4}\n",
      "{'i': 4, 'p': 2}\n",
      "{'i': 4, 'p': 2, 's': 4}\n",
      "{'i': 4, 'p': 2, 's': 4, 'M': 1}\n"
     ]
    },
    {
     "data": {
      "text/plain": [
       "{'M': 1, 'i': 4, 'p': 2, 's': 4}"
      ]
     },
     "execution_count": 14,
     "metadata": {},
     "output_type": "execute_result"
    }
   ],
   "source": [
    "# 2\n",
    "word = 'Mississippi'\n",
    "cc = {}\n",
    "for letter in set(word):\n",
    "    cc[letter] = word.count(letter)\n",
    "    print cc\n",
    "cc"
   ]
  },
  {
   "cell_type": "code",
   "execution_count": 15,
   "metadata": {
    "collapsed": false
   },
   "outputs": [
    {
     "data": {
      "text/plain": [
       "{'M': 1, 'i': 4, 'p': 2, 's': 4}"
      ]
     },
     "execution_count": 15,
     "metadata": {},
     "output_type": "execute_result"
    }
   ],
   "source": [
    "#Me comprehension dictionary to 1\n",
    "cc = {letter: word.count(letter) for letter in word}\n",
    "cc"
   ]
  },
  {
   "cell_type": "code",
   "execution_count": 16,
   "metadata": {
    "collapsed": false
   },
   "outputs": [
    {
     "data": {
      "text/plain": [
       "{'M': 1, 'i': 4, 'p': 2, 's': 4}"
      ]
     },
     "execution_count": 16,
     "metadata": {},
     "output_type": "execute_result"
    }
   ],
   "source": [
    "#Me comprehension dictionary to 1\n",
    "cc = {letter: word.count(letter) for letter in set(word)}\n",
    "cc"
   ]
  },
  {
   "cell_type": "markdown",
   "metadata": {},
   "source": [
    "#### 'Ασκηση Α13:\n",
    "\n",
    "Δώστε ως input δυο λίστες, η μια ονομάτων και η δεύτερη ηλικιών, και μέσω του zip γράψτε ένα dictionary comprehension που βάζει ως κλειδιά τα ονόματα και ως τιμές τις ηλικίες τους."
   ]
  },
  {
   "cell_type": "code",
   "execution_count": 29,
   "metadata": {
    "collapsed": false
   },
   "outputs": [
    {
     "name": "stdout",
     "output_type": "stream",
     "text": [
      "Dwse mia lista onomatwn proswpwn: ['a','b','c'] \n",
      "Dwse ti lista twn ilikiwn twn proswpwn: [25,35,45]\n",
      "{'a': 25, 'c': 45, 'b': 35}\n"
     ]
    }
   ],
   "source": [
    "lista1 = input(\"Dwse mia lista onomatwn proswpwn: \")\n",
    "lista2 = input(\"Dwse ti lista twn ilikiwn twn proswpwn: \")\n",
    "dict12 ={k:v for k, v in zip(lista1,lista2)}\n",
    "print dict12"
   ]
  },
  {
   "cell_type": "code",
   "execution_count": 2,
   "metadata": {
    "collapsed": false
   },
   "outputs": [
    {
     "name": "stdout",
     "output_type": "stream",
     "text": [
      "Dwse mia lista onomatwn proswpwn: ['a','b','c']\n",
      "Dwse ti lista twn ilikiwn twn proswpwn: [1,2,3]\n",
      "[('a', 1), ('b', 2), ('c', 3)]\n",
      "{'a': 1, 'c': 3, 'b': 2}\n"
     ]
    }
   ],
   "source": [
    "# Eksigisi lysis Askisis 13\n",
    "\n",
    "lista1 = input(\"Dwse mia lista onomatwn proswpwn: \")\n",
    "lista2 = input(\"Dwse ti lista twn ilikiwn twn proswpwn: \")\n",
    "\n",
    "print zip(lista1,lista2)\n",
    "\n",
    "dict12 = {}\n",
    "for t in zip(lista1,lista2):\n",
    "    dict12[t[0]] = t[1]\n",
    "print dict12\n",
    "for x,y in zip(lista1,lista2):\n",
    "    dict12[x] = y\n",
    "print dict12"
   ]
  },
  {
   "cell_type": "markdown",
   "metadata": {
    "collapsed": true
   },
   "source": [
    "### ΑΣΚΗΣΕΙΣ ΑΝΑΣΚΟΠΗΣΗΣ"
   ]
  },
  {
   "cell_type": "markdown",
   "metadata": {},
   "source": [
    "#### 'Ασκηση Α14:\n",
    "\n",
    "Δώστε ως input τρεις πραγματικούς αριθμούς a, b, c, με a διάφορο του 0, και γράψτε ένα snippet που υπολογίζει της ρίζες του τριώνυμου ax^2 + bx + c = 0. Χρησιμοποιείστε το \"import math\" για την τετραγωνική ρίζα math.sqrt()."
   ]
  },
  {
   "cell_type": "code",
   "execution_count": 11,
   "metadata": {
    "collapsed": false
   },
   "outputs": [
    {
     "name": "stdout",
     "output_type": "stream",
     "text": [
      "dose a = 4\n",
      "dose b = 10\n",
      "dose c = 5\n",
      "20 x1= -11.05572809 x2= -28.94427191\n"
     ]
    }
   ],
   "source": [
    "import math\n",
    "a=input('dose a = ')\n",
    "b=input('dose b = ')\n",
    "c=input('dose c = ')\n",
    "d=b**2-4*a*c\n",
    "if d>0 :\n",
    "    x1=(-b+math.sqrt(d))/2.*a\n",
    "    x2=(-b-math.sqrt(d))/2.*a\n",
    "    print d, 'x1=',x1,'x2=',x2\n",
    "elif d<0 :\n",
    "    x1=complex(-b,math.sqrt(-d))/2.*a\n",
    "    x2=complex(-b,-math.sqrt(-d))/2.*a\n",
    "    print 'x1 = ',x1,' x2 = ',x2\n",
    "else:\n",
    "    x1=-b/2*a\n",
    "    x2=x1\n",
    "    print 'x1 = ',x1,' x2 = ',x2"
   ]
  },
  {
   "cell_type": "markdown",
   "metadata": {},
   "source": [
    "#### 'Ασκηση Α15:\n",
    "\n",
    "Δώστε ως input μια λίστα λέξεων (strings) και γράψτε ένα snippet που βγάζει τη λίστα όσων λέξεων έχουν μήκος τουλάχιστον 2 και το αρχικό γράμμα (σύμβολο) μιας τέτοιας λέξης είναι το ίδιο με το τελικό."
   ]
  },
  {
   "cell_type": "code",
   "execution_count": null,
   "metadata": {
    "collapsed": true
   },
   "outputs": [],
   "source": []
  },
  {
   "cell_type": "markdown",
   "metadata": {},
   "source": [
    "#### 'Ασκηση Α16\n",
    "\n",
    "Δώστε ως input δυο ακέραιους αριθμούς και χρησιμοποιώντας το while γράψτε ένα snippet που προσθέτει από τον μικρότερο αριθμό 1, τυπώνει τους updated αριθμούς και τερματίζει όταν οι αριθμοί είναι ίσοι."
   ]
  },
  {
   "cell_type": "code",
   "execution_count": null,
   "metadata": {
    "collapsed": true
   },
   "outputs": [],
   "source": []
  },
  {
   "cell_type": "markdown",
   "metadata": {},
   "source": [
    "#### 'Ασκηση Α17\n",
    "\n",
    "Γράψτε ένα snippet που πρώτα να ζητά τον χρήστη αν θέλει να γράψει μια γραμμή (ως ένα string), π.χ., ζητώντας του να γράψει y στην περίπτωση αυτή. Αμέσως μετά να του ζητά να γράψει την γραμμή που θέλει και ούτω καθεξής. Η διαδικασία τερματίζεται όταν ο χρήστης γράφει ο,τιδήποτε άλλο εκτός του y και τότε εκτυπώνονται οι γραμμές που έχει βάλει."
   ]
  },
  {
   "cell_type": "code",
   "execution_count": null,
   "metadata": {
    "collapsed": true
   },
   "outputs": [],
   "source": []
  },
  {
   "cell_type": "markdown",
   "metadata": {},
   "source": [
    "#### 'Ασκηση Α18\n",
    "\n",
    "Γράψτε ένα snippet που πρώτα να ζητά τον χρήστη να δώσει 2 αριθμούς x, y και μια λίστα αριθμών aList. Στη συνέχεια για κάθε στοιχείο n της aList, να κάνει update το x ως x + y*n και το y ως y - x/n (ακέραιη διαίρεση) και να τυπώνει τις τελικές τιμές των x και y."
   ]
  },
  {
   "cell_type": "code",
   "execution_count": null,
   "metadata": {
    "collapsed": true
   },
   "outputs": [],
   "source": []
  },
  {
   "cell_type": "markdown",
   "metadata": {},
   "source": [
    "#### 'Ασκηση Α19\n",
    "\n",
    "Χρησιμοποιώντας το while True και το break, γράψτε ένα snippet που να τυπώνει τους άρτιους αριθμούς από 0 ως 30, τον κάθε έναν σε διαφορετική γραμμή."
   ]
  },
  {
   "cell_type": "code",
   "execution_count": null,
   "metadata": {
    "collapsed": true
   },
   "outputs": [],
   "source": []
  },
  {
   "cell_type": "markdown",
   "metadata": {},
   "source": [
    "#### 'Ασκηση Α20\n",
    "\n",
    "Γράψτε ένα snippet που μετατρέπει δυο αριθμούς από καρτεσιανές συντεταγμένες στις αντίστοιχες πολικές συντεταγμένες και αντιστρόφως ένα snippet που μετατρέπει δυο αριθμούς από πολικές συντεταγμένες στις αντίστοιχες καρτεσιανές συντεταγμένες. Χρησιμοποιείστε το inmport numpy, όπου η τετραγωνική ρίζα υπολογίζεται ως numpy.sqrt(), το τόξο εφαπτομένης b/a ως numpy.arctan2(b,a), το συνημήτονο u ως numpy.cos(u) και το ημίτονο u ως numpy.sin(u)."
   ]
  },
  {
   "cell_type": "code",
   "execution_count": null,
   "metadata": {
    "collapsed": true
   },
   "outputs": [],
   "source": []
  }
 ],
 "metadata": {
  "kernelspec": {
   "display_name": "Python 2",
   "language": "python",
   "name": "python2"
  },
  "language_info": {
   "codemirror_mode": {
    "name": "ipython",
    "version": 2
   },
   "file_extension": ".py",
   "mimetype": "text/x-python",
   "name": "python",
   "nbconvert_exporter": "python",
   "pygments_lexer": "ipython2",
   "version": "2.7.11"
  }
 },
 "nbformat": 4,
 "nbformat_minor": 0
}
