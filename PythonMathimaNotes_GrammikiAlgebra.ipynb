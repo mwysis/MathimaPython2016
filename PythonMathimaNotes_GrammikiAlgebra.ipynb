{
 "cells": [
  {
   "cell_type": "markdown",
   "metadata": {},
   "source": [
    "# Γραμμική Άλγεβρα με Python"
   ]
  },
  {
   "cell_type": "code",
   "execution_count": 1,
   "metadata": {
    "collapsed": true
   },
   "outputs": [],
   "source": [
    "import numpy as np"
   ]
  },
  {
   "cell_type": "markdown",
   "metadata": {},
   "source": [
    "\\begin{equation}\n",
    "A = \n",
    "\\begin{bmatrix}\n",
    "1 & 2 & 3 & 4 \\\\\n",
    "10 & 20 & 30 & 40 \\\\\n",
    "4 & 3 & 2 & 1 \\\\\n",
    "0.2 & 0.3 & 0.4 & 0.1\n",
    "\\end{bmatrix}\n",
    "\\end{equation}"
   ]
  },
  {
   "cell_type": "markdown",
   "metadata": {},
   "source": [
    "## 1. Κατασκευή Πίνακα"
   ]
  },
  {
   "cell_type": "markdown",
   "metadata": {},
   "source": [
    "### Κατασκευή πίνακα από απευθείας γραμμένες λίστες γραμμών"
   ]
  },
  {
   "cell_type": "code",
   "execution_count": 2,
   "metadata": {
    "collapsed": false
   },
   "outputs": [
    {
     "name": "stdout",
     "output_type": "stream",
     "text": [
      "[[  1.    2.    3.    4. ]\n",
      " [ 10.   20.   30.   40. ]\n",
      " [  4.    3.    2.    1. ]\n",
      " [  0.2   0.3   0.4   0.1]]\n"
     ]
    }
   ],
   "source": [
    "r1 = [1,2,3,4]\n",
    "r2 = [10,20,30,40]\n",
    "r3 = [4,3,2,1]\n",
    "r4 = [0.2,0.3,0.4,0.1]\n",
    "m = [r1,r2,r3,r4]\n",
    "A = np.array(m)\n",
    "print A"
   ]
  },
  {
   "cell_type": "markdown",
   "metadata": {},
   "source": [
    "### Κατασκευή πίνακα από λίστες γραμμών γραμμένων με εντολές"
   ]
  },
  {
   "cell_type": "code",
   "execution_count": 3,
   "metadata": {
    "collapsed": false
   },
   "outputs": [
    {
     "name": "stdout",
     "output_type": "stream",
     "text": [
      "[[  1.    2.    3.    4. ]\n",
      " [ 10.   20.   30.   40. ]\n",
      " [  4.    3.    2.    1. ]\n",
      " [  0.2   0.3   0.4   0.1]]\n",
      "True\n"
     ]
    },
    {
     "data": {
      "text/plain": [
       "array([[ True,  True,  True,  True],\n",
       "       [ True,  True,  True,  True],\n",
       "       [ True,  True,  True,  True],\n",
       "       [ True,  True,  True,  True]], dtype=bool)"
      ]
     },
     "execution_count": 3,
     "metadata": {},
     "output_type": "execute_result"
    }
   ],
   "source": [
    "r1 = range(1,5)\n",
    "r2 = range(10,50,10)\n",
    "r3 = range(1,5)[::-1]\n",
    "r4 = [i/10. for i in r1[1:]]+[0.1]\n",
    "A1 = np.array([r1,r2,r3,r4])\n",
    "print A1\n",
    "print np.array_equal(A1, A)\n",
    "A1 == A"
   ]
  },
  {
   "cell_type": "markdown",
   "metadata": {},
   "source": [
    "### Κατασκευή πίνακα από λίστες στηλών"
   ]
  },
  {
   "cell_type": "code",
   "execution_count": 4,
   "metadata": {
    "collapsed": false
   },
   "outputs": [
    {
     "name": "stdout",
     "output_type": "stream",
     "text": [
      "[[  1.    2.    3.    4. ]\n",
      " [ 10.   20.   30.   40. ]\n",
      " [  4.    3.    2.    1. ]\n",
      " [  0.2   0.3   0.4   0.1]]\n"
     ]
    },
    {
     "data": {
      "text/plain": [
       "True"
      ]
     },
     "execution_count": 4,
     "metadata": {},
     "output_type": "execute_result"
    }
   ],
   "source": [
    "c1 = A[:,0]   #c1 = [1, 10, 4, 0.2]\n",
    "c2 = A[:,1]   #c2 = [2, 20, 3, 0.3]\n",
    "c3 = A[:,2]   #c3 = [3, 30, 2, 0.4]\n",
    "c4 = A[:,3]   #c4 = [4, 40, 1, 0.1]\n",
    "m1 = zip(c1,c2,c3,c4)\n",
    "A2 = np.array(m1)\n",
    "print A2\n",
    "np.array_equal(A2, A)"
   ]
  },
  {
   "cell_type": "markdown",
   "metadata": {},
   "source": [
    "### Κατασκευή πίνακα από πίνακα μηδενικών (ή μονάδων)"
   ]
  },
  {
   "cell_type": "code",
   "execution_count": 5,
   "metadata": {
    "collapsed": false
   },
   "outputs": [
    {
     "name": "stdout",
     "output_type": "stream",
     "text": [
      "[[  1.    2.    3.    4. ]\n",
      " [ 10.   20.   30.   40. ]\n",
      " [  4.    3.    2.    1. ]\n",
      " [  0.2   0.3   0.4   0.1]]\n",
      "True\n",
      "[[ 1.  1.  1.  1.]\n",
      " [ 1.  1.  1.  1.]\n",
      " [ 1.  1.  1.  1.]\n",
      " [ 1.  1.  1.  1.]]\n"
     ]
    }
   ],
   "source": [
    "A3 = np.zeros((4,4))\n",
    "\n",
    "for i in range(4):\n",
    "    for j in range(4):\n",
    "        A3[i,j] = m[i][j]\n",
    "print A3\n",
    "print np.array_equal(A3, A)\n",
    "\n",
    "Ones = np.ones((4,4))\n",
    "print Ones"
   ]
  },
  {
   "cell_type": "code",
   "execution_count": 6,
   "metadata": {
    "collapsed": false
   },
   "outputs": [
    {
     "name": "stdout",
     "output_type": "stream",
     "text": [
      "[[ 1.  1.  1.  1.]\n",
      " [ 1.  1.  1.  1.]\n",
      " [ 1.  1.  1.  1.]]\n",
      "[[ 1.  0.  0.  0.  0.]\n",
      " [ 0.  1.  0.  0.  0.]\n",
      " [ 0.  0.  1.  0.  0.]\n",
      " [ 0.  0.  0.  1.  0.]\n",
      " [ 0.  0.  0.  0.  1.]]\n",
      "[[ 0.  1.  0.  0.  0.]\n",
      " [ 0.  0.  1.  0.  0.]\n",
      " [ 0.  0.  0.  1.  0.]\n",
      " [ 0.  0.  0.  0.  1.]\n",
      " [ 0.  0.  0.  0.  0.]]\n",
      "[[ 0.  0.  0.  0.  0.]\n",
      " [ 0.  0.  0.  0.  0.]\n",
      " [ 1.  0.  0.  0.  0.]\n",
      " [ 0.  1.  0.  0.  0.]\n",
      " [ 0.  0.  1.  0.  0.]]\n"
     ]
    }
   ],
   "source": [
    "Ones = np.ones((3,4))\n",
    "print Ones\n",
    "\n",
    "I5 = np.eye(5)\n",
    "print I5\n",
    "I5_1u = np.eye(5,k=1)\n",
    "print I5_1u\n",
    "I5_2l = np.eye(5,k=-2)\n",
    "print I5_2l"
   ]
  },
  {
   "cell_type": "markdown",
   "metadata": {},
   "source": [
    "### Κατασκευή πίνακα από λίστα με reshape"
   ]
  },
  {
   "cell_type": "code",
   "execution_count": 7,
   "metadata": {
    "collapsed": false
   },
   "outputs": [
    {
     "data": {
      "text/plain": [
       "array([[ 0,  1,  2,  3,  4,  5,  6,  7],\n",
       "       [ 8,  9, 10, 11, 12, 13, 14, 15],\n",
       "       [16, 17, 18, 19, 20, 21, 22, 23]])"
      ]
     },
     "execution_count": 7,
     "metadata": {},
     "output_type": "execute_result"
    }
   ],
   "source": [
    "# An exoume lista n stoixeiwn kai theloume na ta anadiataxoume se m grammes kai k steiles, opou n = m*k\n",
    "# DEN DOYLEYEI apevtheis me to range(n) alla me to np.arange(n)\n",
    "\n",
    "np.arange(24).reshape(3,8)"
   ]
  },
  {
   "cell_type": "code",
   "execution_count": 8,
   "metadata": {
    "collapsed": false
   },
   "outputs": [
    {
     "data": {
      "text/plain": [
       "array([[ 0,  1,  2,  3,  4,  5],\n",
       "       [ 6,  7,  8,  9, 10, 11],\n",
       "       [12, 13, 14, 15, 16, 17],\n",
       "       [18, 19, 20, 21, 22, 23]])"
      ]
     },
     "execution_count": 8,
     "metadata": {},
     "output_type": "execute_result"
    }
   ],
   "source": [
    "rr = range(24)\n",
    "np.array(rr).reshape(4,6)"
   ]
  },
  {
   "cell_type": "markdown",
   "metadata": {},
   "source": [
    "### Κατασκευή πίνακα από λίστες τυχαίων αριθμών"
   ]
  },
  {
   "cell_type": "code",
   "execution_count": 9,
   "metadata": {
    "collapsed": true
   },
   "outputs": [],
   "source": [
    "import random"
   ]
  },
  {
   "cell_type": "markdown",
   "metadata": {},
   "source": [
    "#### Δημιουργία λίστας ακέραιων με random.randrange"
   ]
  },
  {
   "cell_type": "code",
   "execution_count": 10,
   "metadata": {
    "collapsed": false
   },
   "outputs": [
    {
     "data": {
      "text/plain": [
       "[2, 1, 1, 1]"
      ]
     },
     "execution_count": 10,
     "metadata": {},
     "output_type": "execute_result"
    }
   ],
   "source": [
    "a = [random.randrange(1,4) for i in range(4)]\n",
    "a"
   ]
  },
  {
   "cell_type": "markdown",
   "metadata": {},
   "source": [
    "#### Δημιουργία λίστας με random.choice"
   ]
  },
  {
   "cell_type": "code",
   "execution_count": 11,
   "metadata": {
    "collapsed": false
   },
   "outputs": [
    {
     "data": {
      "text/plain": [
       "[0, 8, 7, 4]"
      ]
     },
     "execution_count": 11,
     "metadata": {},
     "output_type": "execute_result"
    }
   ],
   "source": [
    "a = [random.randrange(9) for i in range(4)]\n",
    "a"
   ]
  },
  {
   "cell_type": "markdown",
   "metadata": {},
   "source": [
    "#### Δημιουργία λίστας με random.sample (χωρίς επαναλήψεις)"
   ]
  },
  {
   "cell_type": "code",
   "execution_count": 12,
   "metadata": {
    "collapsed": false
   },
   "outputs": [
    {
     "data": {
      "text/plain": [
       "[2, 8, 5, 0]"
      ]
     },
     "execution_count": 12,
     "metadata": {},
     "output_type": "execute_result"
    }
   ],
   "source": [
    "a = random.sample(range(9),4) \n",
    "a"
   ]
  },
  {
   "cell_type": "markdown",
   "metadata": {},
   "source": [
    "#### Δημιουργία λίστας πραγματικών αριθμών στο διάστημα [a, b] με random.uniform"
   ]
  },
  {
   "cell_type": "code",
   "execution_count": 13,
   "metadata": {
    "collapsed": false
   },
   "outputs": [
    {
     "data": {
      "text/plain": [
       "[12.807940781553647, 12.707747817281039, 34.06321723446226, 15.249813108011999]"
      ]
     },
     "execution_count": 13,
     "metadata": {},
     "output_type": "execute_result"
    }
   ],
   "source": [
    "a = [random.uniform(10,40) for i in range(4)]\n",
    "a"
   ]
  },
  {
   "cell_type": "markdown",
   "metadata": {},
   "source": [
    "#### Δημιουργία λίστας/πίνακα πραγματικών αριθμών με np.random.randn μέσω της τυπικής κανονικής κατανομής"
   ]
  },
  {
   "cell_type": "code",
   "execution_count": 14,
   "metadata": {
    "collapsed": false
   },
   "outputs": [
    {
     "data": {
      "text/plain": [
       "array([[-0.22636092,  1.17144259, -1.75988932,  0.24490661]])"
      ]
     },
     "execution_count": 14,
     "metadata": {},
     "output_type": "execute_result"
    }
   ],
   "source": [
    "a = np.random.randn(1,4) \n",
    "a"
   ]
  },
  {
   "cell_type": "code",
   "execution_count": 15,
   "metadata": {
    "collapsed": false
   },
   "outputs": [
    {
     "data": {
      "text/plain": [
       "array([[-1.62062338,  0.06809332, -0.48431273,  0.85627636],\n",
       "       [ 1.07174682,  0.21731038,  0.20215667, -0.32062055],\n",
       "       [-0.56059213, -2.23331795,  0.74594566,  0.01800064],\n",
       "       [ 1.80129077, -0.32525232, -1.75043792, -0.7236049 ]])"
      ]
     },
     "execution_count": 15,
     "metadata": {},
     "output_type": "execute_result"
    }
   ],
   "source": [
    "C = np.random.randn(4,4) \n",
    "C"
   ]
  },
  {
   "cell_type": "markdown",
   "metadata": {},
   "source": [
    "## 2. Πρόσθεση, Αφαίρεση και Πολλαπλασιασμός Πινάκων με Αριθμό"
   ]
  },
  {
   "cell_type": "code",
   "execution_count": 16,
   "metadata": {
    "collapsed": false
   },
   "outputs": [
    {
     "name": "stdout",
     "output_type": "stream",
     "text": [
      "A =\n",
      "[[  1.    2.    3.    4. ]\n",
      " [ 10.   20.   30.   40. ]\n",
      " [  4.    3.    2.    1. ]\n",
      " [  0.2   0.3   0.4   0.1]]\n",
      "C =\n",
      "[[-1.62062338  0.06809332 -0.48431273  0.85627636]\n",
      " [ 1.07174682  0.21731038  0.20215667 -0.32062055]\n",
      " [-0.56059213 -2.23331795  0.74594566  0.01800064]\n",
      " [ 1.80129077 -0.32525232 -1.75043792 -0.7236049 ]]\n",
      "\n",
      "A + 100 =\n",
      "[[ 101.   102.   103.   104. ]\n",
      " [ 110.   120.   130.   140. ]\n",
      " [ 104.   103.   102.   101. ]\n",
      " [ 100.2  100.3  100.4  100.1]]\n",
      "A + C =\n",
      "[[ -6.20623380e-01   2.06809332e+00   2.51568727e+00   4.85627636e+00]\n",
      " [  1.10717468e+01   2.02173104e+01   3.02021567e+01   3.96793794e+01]\n",
      " [  3.43940787e+00   7.66682053e-01   2.74594566e+00   1.01800064e+00]\n",
      " [  2.00129077e+00  -2.52523229e-02  -1.35043792e+00  -6.23604899e-01]]\n",
      "-10*A =\n",
      "[[ 16.2062338   -0.68093321   4.84312728  -8.56276355]\n",
      " [-10.71746819  -2.17310382  -2.02156674   3.20620555]\n",
      " [  5.60592125  22.33317947  -7.45945659  -0.1800064 ]\n",
      " [-18.01290767   3.25252323  17.50437916   7.23604899]]\n"
     ]
    }
   ],
   "source": [
    "print 'A =' \n",
    "print A\n",
    "print 'C =' \n",
    "print C\n",
    "print\n",
    "print 'A + 100 ='\n",
    "print A + 100\n",
    "print 'A + C ='\n",
    "print A + C\n",
    "print '-10*A ='\n",
    "print -10*C"
   ]
  },
  {
   "cell_type": "markdown",
   "metadata": {},
   "source": [
    "## 3. Διάσταση Πινάκων (Διανυσμάτων)"
   ]
  },
  {
   "cell_type": "code",
   "execution_count": 17,
   "metadata": {
    "collapsed": false
   },
   "outputs": [
    {
     "data": {
      "text/plain": [
       "(4, 4)"
      ]
     },
     "execution_count": 17,
     "metadata": {},
     "output_type": "execute_result"
    }
   ],
   "source": [
    "A.shape"
   ]
  },
  {
   "cell_type": "code",
   "execution_count": 18,
   "metadata": {
    "collapsed": false
   },
   "outputs": [
    {
     "data": {
      "text/plain": [
       "(4,)"
      ]
     },
     "execution_count": 18,
     "metadata": {},
     "output_type": "execute_result"
    }
   ],
   "source": [
    "A[0,:].shape"
   ]
  },
  {
   "cell_type": "code",
   "execution_count": 19,
   "metadata": {
    "collapsed": false
   },
   "outputs": [
    {
     "data": {
      "text/plain": [
       "(4,)"
      ]
     },
     "execution_count": 19,
     "metadata": {},
     "output_type": "execute_result"
    }
   ],
   "source": [
    "A[:,0].shape"
   ]
  },
  {
   "cell_type": "code",
   "execution_count": 20,
   "metadata": {
    "collapsed": false
   },
   "outputs": [
    {
     "data": {
      "text/plain": [
       "(3, 4)"
      ]
     },
     "execution_count": 20,
     "metadata": {},
     "output_type": "execute_result"
    }
   ],
   "source": [
    "D = np.random.randn(3,4) \n",
    "D.shape"
   ]
  },
  {
   "cell_type": "markdown",
   "metadata": {},
   "source": [
    "## 4. Πολλαπλασιασμός Δυο Πινάκων"
   ]
  },
  {
   "cell_type": "code",
   "execution_count": 21,
   "metadata": {
    "collapsed": false
   },
   "outputs": [
    {
     "name": "stdout",
     "output_type": "stream",
     "text": [
      "(3, 4)\n",
      "(4, 4)\n"
     ]
    },
    {
     "data": {
      "text/plain": [
       "array([[ 18.7176613 ,  26.20201861,  33.68637592,  40.86947821],\n",
       "       [ 27.42966757,  49.19565499,  70.96164242,  92.99885065],\n",
       "       [ 18.04620874,  33.45532826,  48.86444777,  64.38772006]])"
      ]
     },
     "execution_count": 21,
     "metadata": {},
     "output_type": "execute_result"
    }
   ],
   "source": [
    "print D.shape\n",
    "print A.shape\n",
    "D.dot(A)"
   ]
  },
  {
   "cell_type": "code",
   "execution_count": 22,
   "metadata": {
    "collapsed": false
   },
   "outputs": [
    {
     "data": {
      "text/plain": [
       "array([[ 18.7176613 ,  26.20201861,  33.68637592,  40.86947821],\n",
       "       [ 27.42966757,  49.19565499,  70.96164242,  92.99885065],\n",
       "       [ 18.04620874,  33.45532826,  48.86444777,  64.38772006]])"
      ]
     },
     "execution_count": 22,
     "metadata": {},
     "output_type": "execute_result"
    }
   ],
   "source": [
    "np.dot(D,A)"
   ]
  },
  {
   "cell_type": "code",
   "execution_count": 23,
   "metadata": {
    "collapsed": false
   },
   "outputs": [
    {
     "ename": "ValueError",
     "evalue": "shapes (4,4) and (3,4) not aligned: 4 (dim 1) != 3 (dim 0)",
     "output_type": "error",
     "traceback": [
      "\u001b[0;31m---------------------------------------------------------------------------\u001b[0m",
      "\u001b[0;31mValueError\u001b[0m                                Traceback (most recent call last)",
      "\u001b[0;32m<ipython-input-23-f2640393b577>\u001b[0m in \u001b[0;36m<module>\u001b[0;34m()\u001b[0m\n\u001b[0;32m----> 1\u001b[0;31m \u001b[0mA\u001b[0m\u001b[0;34m.\u001b[0m\u001b[0mdot\u001b[0m\u001b[0;34m(\u001b[0m\u001b[0mD\u001b[0m\u001b[0;34m)\u001b[0m\u001b[0;34m\u001b[0m\u001b[0m\n\u001b[0m",
      "\u001b[0;31mValueError\u001b[0m: shapes (4,4) and (3,4) not aligned: 4 (dim 1) != 3 (dim 0)"
     ]
    }
   ],
   "source": [
    "A.dot(D)"
   ]
  },
  {
   "cell_type": "markdown",
   "metadata": {},
   "source": [
    "## 5. Αναστροφή Πίνακα"
   ]
  },
  {
   "cell_type": "code",
   "execution_count": 24,
   "metadata": {
    "collapsed": false
   },
   "outputs": [
    {
     "name": "stdout",
     "output_type": "stream",
     "text": [
      "A =\n",
      "[[-0.33749742  2.04439066  1.23964427  0.34780544]\n",
      " [ 2.10915673  1.55379106  0.55375927  0.92477312]]\n",
      "(2, 4)\n",
      "Atranspose =\n",
      "[[-0.33749742  2.10915673]\n",
      " [ 2.04439066  1.55379106]\n",
      " [ 1.23964427  0.55375927]\n",
      " [ 0.34780544  0.92477312]]\n",
      "(4, 2)\n"
     ]
    }
   ],
   "source": [
    "A = np.random.randn(2,4) \n",
    "print 'A ='\n",
    "print A\n",
    "print A.shape\n",
    "print 'Atranspose ='\n",
    "print A.T\n",
    "print A.T.shape"
   ]
  },
  {
   "cell_type": "markdown",
   "metadata": {},
   "source": [
    "## 6. Εσωτερικό Γινόμενο Δυο Διανυσμάτων"
   ]
  },
  {
   "cell_type": "code",
   "execution_count": 25,
   "metadata": {
    "collapsed": false
   },
   "outputs": [
    {
     "name": "stdout",
     "output_type": "stream",
     "text": [
      "u dot v =\n",
      "[[ 1.92281816]]\n"
     ]
    }
   ],
   "source": [
    "u = np.random.randn(1,4) \n",
    "v = np.random.randn(4,1) \n",
    "print 'u dot v ='\n",
    "print u.dot(v)"
   ]
  },
  {
   "cell_type": "code",
   "execution_count": 26,
   "metadata": {
    "collapsed": false
   },
   "outputs": [
    {
     "name": "stdout",
     "output_type": "stream",
     "text": [
      "x dot y =\n",
      "[ 5.57962939]\n"
     ]
    }
   ],
   "source": [
    "x = np.random.randn(1,5) \n",
    "y = np.arange(5)\n",
    "print 'x dot y ='\n",
    "print x.dot(y.T)"
   ]
  },
  {
   "cell_type": "markdown",
   "metadata": {},
   "source": [
    "## 7. Ορίζουσα Πίνακα"
   ]
  },
  {
   "cell_type": "code",
   "execution_count": 27,
   "metadata": {
    "collapsed": false
   },
   "outputs": [
    {
     "name": "stdout",
     "output_type": "stream",
     "text": [
      "detA =\n",
      "-3.14730475155\n"
     ]
    }
   ],
   "source": [
    "A = np.random.randn(5,5)\n",
    "print 'detA ='\n",
    "print np.linalg.det(A)"
   ]
  },
  {
   "cell_type": "code",
   "execution_count": 28,
   "metadata": {
    "collapsed": false
   },
   "outputs": [
    {
     "name": "stdout",
     "output_type": "stream",
     "text": [
      "detA =\n",
      "0.0\n"
     ]
    }
   ],
   "source": [
    "A = np.arange(25).reshape(5,5)\n",
    "print 'detA ='\n",
    "print np.linalg.det(A)"
   ]
  },
  {
   "cell_type": "code",
   "execution_count": 29,
   "metadata": {
    "collapsed": false
   },
   "outputs": [
    {
     "ename": "LinAlgError",
     "evalue": "Last 2 dimensions of the array must be square",
     "output_type": "error",
     "traceback": [
      "\u001b[0;31m---------------------------------------------------------------------------\u001b[0m",
      "\u001b[0;31mLinAlgError\u001b[0m                               Traceback (most recent call last)",
      "\u001b[0;32m<ipython-input-29-e0e8bdd56e05>\u001b[0m in \u001b[0;36m<module>\u001b[0;34m()\u001b[0m\n\u001b[1;32m      1\u001b[0m \u001b[0mA\u001b[0m \u001b[0;34m=\u001b[0m \u001b[0mnp\u001b[0m\u001b[0;34m.\u001b[0m\u001b[0marange\u001b[0m\u001b[0;34m(\u001b[0m\u001b[0;36m24\u001b[0m\u001b[0;34m)\u001b[0m\u001b[0;34m.\u001b[0m\u001b[0mreshape\u001b[0m\u001b[0;34m(\u001b[0m\u001b[0;36m4\u001b[0m\u001b[0;34m,\u001b[0m\u001b[0;36m6\u001b[0m\u001b[0;34m)\u001b[0m\u001b[0;34m\u001b[0m\u001b[0m\n\u001b[0;32m----> 2\u001b[0;31m \u001b[0mnp\u001b[0m\u001b[0;34m.\u001b[0m\u001b[0mlinalg\u001b[0m\u001b[0;34m.\u001b[0m\u001b[0mdet\u001b[0m\u001b[0;34m(\u001b[0m\u001b[0mA\u001b[0m\u001b[0;34m)\u001b[0m\u001b[0;34m\u001b[0m\u001b[0m\n\u001b[0m",
      "\u001b[0;32m/Users/mosesboudourides/anaconda/lib/python2.7/site-packages/numpy/linalg/linalg.pyc\u001b[0m in \u001b[0;36mdet\u001b[0;34m(a)\u001b[0m\n\u001b[1;32m   1771\u001b[0m     \u001b[0m_assertNoEmpty2d\u001b[0m\u001b[0;34m(\u001b[0m\u001b[0ma\u001b[0m\u001b[0;34m)\u001b[0m\u001b[0;34m\u001b[0m\u001b[0m\n\u001b[1;32m   1772\u001b[0m     \u001b[0m_assertRankAtLeast2\u001b[0m\u001b[0;34m(\u001b[0m\u001b[0ma\u001b[0m\u001b[0;34m)\u001b[0m\u001b[0;34m\u001b[0m\u001b[0m\n\u001b[0;32m-> 1773\u001b[0;31m     \u001b[0m_assertNdSquareness\u001b[0m\u001b[0;34m(\u001b[0m\u001b[0ma\u001b[0m\u001b[0;34m)\u001b[0m\u001b[0;34m\u001b[0m\u001b[0m\n\u001b[0m\u001b[1;32m   1774\u001b[0m     \u001b[0mt\u001b[0m\u001b[0;34m,\u001b[0m \u001b[0mresult_t\u001b[0m \u001b[0;34m=\u001b[0m \u001b[0m_commonType\u001b[0m\u001b[0;34m(\u001b[0m\u001b[0ma\u001b[0m\u001b[0;34m)\u001b[0m\u001b[0;34m\u001b[0m\u001b[0m\n\u001b[1;32m   1775\u001b[0m     \u001b[0msignature\u001b[0m \u001b[0;34m=\u001b[0m \u001b[0;34m'D->D'\u001b[0m \u001b[0;32mif\u001b[0m \u001b[0misComplexType\u001b[0m\u001b[0;34m(\u001b[0m\u001b[0mt\u001b[0m\u001b[0;34m)\u001b[0m \u001b[0;32melse\u001b[0m \u001b[0;34m'd->d'\u001b[0m\u001b[0;34m\u001b[0m\u001b[0m\n",
      "\u001b[0;32m/Users/mosesboudourides/anaconda/lib/python2.7/site-packages/numpy/linalg/linalg.pyc\u001b[0m in \u001b[0;36m_assertNdSquareness\u001b[0;34m(*arrays)\u001b[0m\n\u001b[1;32m    210\u001b[0m     \u001b[0;32mfor\u001b[0m \u001b[0ma\u001b[0m \u001b[0;32min\u001b[0m \u001b[0marrays\u001b[0m\u001b[0;34m:\u001b[0m\u001b[0;34m\u001b[0m\u001b[0m\n\u001b[1;32m    211\u001b[0m         \u001b[0;32mif\u001b[0m \u001b[0mmax\u001b[0m\u001b[0;34m(\u001b[0m\u001b[0ma\u001b[0m\u001b[0;34m.\u001b[0m\u001b[0mshape\u001b[0m\u001b[0;34m[\u001b[0m\u001b[0;34m-\u001b[0m\u001b[0;36m2\u001b[0m\u001b[0;34m:\u001b[0m\u001b[0;34m]\u001b[0m\u001b[0;34m)\u001b[0m \u001b[0;34m!=\u001b[0m \u001b[0mmin\u001b[0m\u001b[0;34m(\u001b[0m\u001b[0ma\u001b[0m\u001b[0;34m.\u001b[0m\u001b[0mshape\u001b[0m\u001b[0;34m[\u001b[0m\u001b[0;34m-\u001b[0m\u001b[0;36m2\u001b[0m\u001b[0;34m:\u001b[0m\u001b[0;34m]\u001b[0m\u001b[0;34m)\u001b[0m\u001b[0;34m:\u001b[0m\u001b[0;34m\u001b[0m\u001b[0m\n\u001b[0;32m--> 212\u001b[0;31m             \u001b[0;32mraise\u001b[0m \u001b[0mLinAlgError\u001b[0m\u001b[0;34m(\u001b[0m\u001b[0;34m'Last 2 dimensions of the array must be square'\u001b[0m\u001b[0;34m)\u001b[0m\u001b[0;34m\u001b[0m\u001b[0m\n\u001b[0m\u001b[1;32m    213\u001b[0m \u001b[0;34m\u001b[0m\u001b[0m\n\u001b[1;32m    214\u001b[0m \u001b[0;32mdef\u001b[0m \u001b[0m_assertFinite\u001b[0m\u001b[0;34m(\u001b[0m\u001b[0;34m*\u001b[0m\u001b[0marrays\u001b[0m\u001b[0;34m)\u001b[0m\u001b[0;34m:\u001b[0m\u001b[0;34m\u001b[0m\u001b[0m\n",
      "\u001b[0;31mLinAlgError\u001b[0m: Last 2 dimensions of the array must be square"
     ]
    }
   ],
   "source": [
    "A = np.arange(24).reshape(4,6)\n",
    "np.linalg.det(A)"
   ]
  },
  {
   "cell_type": "markdown",
   "metadata": {},
   "source": [
    "## 8. Ίχνος Πίνακα"
   ]
  },
  {
   "cell_type": "code",
   "execution_count": 30,
   "metadata": {
    "collapsed": false
   },
   "outputs": [
    {
     "name": "stdout",
     "output_type": "stream",
     "text": [
      "traceA =\n",
      "-1.09403694175\n"
     ]
    }
   ],
   "source": [
    "A = np.random.randn(5,5)\n",
    "print 'traceA ='\n",
    "print np.trace(A)"
   ]
  },
  {
   "cell_type": "markdown",
   "metadata": {},
   "source": [
    "## 9. Αντιστροφή Πίνακα"
   ]
  },
  {
   "cell_type": "code",
   "execution_count": 31,
   "metadata": {
    "collapsed": false
   },
   "outputs": [
    {
     "name": "stdout",
     "output_type": "stream",
     "text": [
      "[[3 2 4 6]\n",
      " [3 4 2 5]\n",
      " [6 4 2 8]\n",
      " [7 3 5 0]]\n",
      "A-1 =\n",
      "[[-0.10769231 -0.25641026  0.24102564  0.09230769]\n",
      " [-0.18461538  0.51282051 -0.18205128  0.01538462]\n",
      " [ 0.26153846  0.05128205 -0.22820513  0.06153846]\n",
      " [ 0.10769231 -0.07692308  0.09230769 -0.09230769]]\n"
     ]
    }
   ],
   "source": [
    "A = np.array([random.sample(range(9),4) for i in range(4)])\n",
    "print A\n",
    "print 'A-1 ='\n",
    "print np.linalg.inv(A)"
   ]
  },
  {
   "cell_type": "markdown",
   "metadata": {},
   "source": [
    "## 10. Επίλυση Γραμμικού Συστήματος"
   ]
  },
  {
   "cell_type": "markdown",
   "metadata": {},
   "source": [
    "\\begin{equation}\n",
    "\\begin{bmatrix}\n",
    "1 & -2 & -3 & 4 \\\\\n",
    "-10 & -20 & 30 & 40 \\\\\n",
    "4 & -3 & 2 & -1 \\\\\n",
    "0.2 & 0.3 & -0.4 & 0.1\n",
    "\\end{bmatrix}\n",
    "\\begin{bmatrix}\n",
    "x \\\\\n",
    "y \\\\\n",
    "z \\\\\n",
    "w\n",
    "\\end{bmatrix}\n",
    "=\n",
    "\\begin{bmatrix}\n",
    "100 \\\\\n",
    "200 \\\\\n",
    "300 \\\\\n",
    "400\n",
    "\\end{bmatrix}\n",
    "\\end{equation}"
   ]
  },
  {
   "cell_type": "code",
   "execution_count": 32,
   "metadata": {
    "collapsed": false
   },
   "outputs": [
    {
     "name": "stdout",
     "output_type": "stream",
     "text": [
      "x = 801.25\n",
      "y = 970.714285714\n",
      "z = 253.75\n",
      "w = 500.357142857\n"
     ]
    }
   ],
   "source": [
    "r1 = [1,-2,-3,4]\n",
    "r2 = [-10,-20,30,40]\n",
    "r3 = [4,-3,2,-1]\n",
    "r4 = [0.2,0.3,-0.4,0.1]\n",
    "m = [r1,r2,r3,r4]\n",
    "A = np.array(m)\n",
    "\n",
    "x = np.array(['x','y','z','w'])\n",
    "b = np.array([100,200,300,400])\n",
    "\n",
    "sol = np.linalg.inv(A).dot(b)\n",
    "print 'x =', sol[0]\n",
    "print 'y =', sol[1]\n",
    "print 'z =', sol[2]\n",
    "print 'w =', sol[3]"
   ]
  },
  {
   "cell_type": "markdown",
   "metadata": {},
   "source": [
    "## 11. Ιδιοτιμές και Ιδιοδιανύσματα Πίνακα"
   ]
  },
  {
   "cell_type": "code",
   "execution_count": 33,
   "metadata": {
    "collapsed": false
   },
   "outputs": [
    {
     "name": "stdout",
     "output_type": "stream",
     "text": [
      "A =\n",
      "[[ 0.70102894 -0.53414482 -0.51884261 -1.70466229  0.379865   -1.05886919]\n",
      " [-0.05384654  1.15551949  0.31802627 -0.14451389  0.61520713  0.77278067]\n",
      " [-0.48749334  1.50549617 -1.10049178  0.11298644  0.95244408 -0.90172593]\n",
      " [-0.52124049  0.17911571 -0.24386242 -0.44459732 -0.79891981 -0.14855599]\n",
      " [-0.97592608  0.29624152  2.52800431  0.308031    0.28718781  0.03373886]\n",
      " [ 1.21477149  0.2224247   0.05862254 -0.37350476 -0.84691569  0.02090694]]\n",
      "Eigenvalues of A =\n",
      "[ 2.05105938+0.j          1.26293389+1.23698592j  1.26293389-1.23698592j\n",
      " -1.27137739+0.83525013j -1.27137739-0.83525013j -1.41461831+0.j        ]\n",
      "Eigenvectors of A =\n",
      "[[-0.12629509+0.j         -0.57319929+0.j         -0.57319929-0.j\n",
      "  -0.11238864+0.36858214j -0.11238864-0.36858214j -0.41276455+0.j        ]\n",
      " [-0.56412748+0.j         -0.05063179+0.13739583j -0.05063179-0.13739583j\n",
      "  -0.19560134-0.09167135j -0.19560134+0.09167135j  0.10172148+0.j        ]\n",
      " [-0.45396422+0.j         -0.03613594-0.27269474j -0.03613594+0.27269474j\n",
      "  -0.34102545+0.27046869j -0.34102545-0.27046869j  0.27681275+0.j        ]\n",
      " [ 0.22896869+0.j          0.27070048+0.05429799j  0.27070048-0.05429799j\n",
      "   0.04462364+0.3884984j   0.04462364-0.3884984j  -0.64584642+0.j        ]\n",
      " [-0.63413377+0.j         -0.09788313-0.50750452j -0.09788313+0.50750452j\n",
      "   0.50127781+0.j          0.50127781-0.j         -0.54539171+0.j        ]\n",
      " [ 0.07192999+0.j         -0.12348851+0.46445104j -0.12348851-0.46445104j\n",
      "   0.45515522+0.06350444j  0.45515522-0.06350444j -0.16758029+0.j        ]]\n",
      "\n",
      "A =\n",
      "[[1 0 1 0]\n",
      " [0 1 1 0]\n",
      " [1 1 0 0]\n",
      " [1 1 1 0]]\n",
      "Eigenvalues of A =\n",
      "[ 2.05105938+0.j          1.26293389+1.23698592j  1.26293389-1.23698592j\n",
      " -1.27137739+0.83525013j -1.27137739-0.83525013j -1.41461831+0.j        ]\n",
      "[ 0. -1.  1.  2.]\n",
      "Eigenvectors of A =\n",
      "[[  0.00000000e+00   4.08248290e-01  -7.07106781e-01   4.36435780e-01]\n",
      " [  0.00000000e+00   4.08248290e-01   7.07106781e-01   4.36435780e-01]\n",
      " [  0.00000000e+00  -8.16496581e-01   1.19365036e-17   4.36435780e-01]\n",
      " [  1.00000000e+00  -1.72983197e-16   1.40556327e-16   6.54653671e-01]]\n"
     ]
    }
   ],
   "source": [
    "A = np.random.randn(6,6)\n",
    "print 'A ='\n",
    "print A\n",
    "eigenvalues, eigenvectors = np.linalg.eig(A)\n",
    "print 'Eigenvalues of A ='\n",
    "print eigenvalues\n",
    "print 'Eigenvectors of A ='\n",
    "print eigenvectors\n",
    "print\n",
    "A = np.array([random.randrange(2) for i in range(16)]).reshape(4,4)\n",
    "print 'A ='\n",
    "print A\n",
    "print 'Eigenvalues of A ='\n",
    "print eigenvalues\n",
    "print np.linalg.eig(A)[0]\n",
    "print 'Eigenvectors of A ='\n",
    "print np.linalg.eig(A)[1]"
   ]
  },
  {
   "cell_type": "code",
   "execution_count": null,
   "metadata": {
    "collapsed": true
   },
   "outputs": [],
   "source": []
  }
 ],
 "metadata": {
  "kernelspec": {
   "display_name": "Python 2",
   "language": "python",
   "name": "python2"
  },
  "language_info": {
   "codemirror_mode": {
    "name": "ipython",
    "version": 2
   },
   "file_extension": ".py",
   "mimetype": "text/x-python",
   "name": "python",
   "nbconvert_exporter": "python",
   "pygments_lexer": "ipython2",
   "version": "2.7.11"
  }
 },
 "nbformat": 4,
 "nbformat_minor": 0
}
