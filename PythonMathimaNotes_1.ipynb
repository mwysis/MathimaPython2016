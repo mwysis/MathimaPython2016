{
 "cells": [
  {
   "cell_type": "markdown",
   "metadata": {},
   "source": [
    "## 1. ΛΙΣΤΕΣ (συνέχεια)"
   ]
  },
  {
   "cell_type": "code",
   "execution_count": 1,
   "metadata": {
    "collapsed": true
   },
   "outputs": [],
   "source": [
    "names = [\"Efi\", \"Evi\", \"Georgie\", \"Vaso\",\"Katy\", \"Chrissie\"]"
   ]
  },
  {
   "cell_type": "code",
   "execution_count": 2,
   "metadata": {
    "collapsed": false
   },
   "outputs": [
    {
     "data": {
      "text/plain": [
       "['Efi', 'Evi']"
      ]
     },
     "execution_count": 2,
     "metadata": {},
     "output_type": "execute_result"
    }
   ],
   "source": [
    "names[0:2]"
   ]
  },
  {
   "cell_type": "code",
   "execution_count": 3,
   "metadata": {
    "collapsed": false
   },
   "outputs": [
    {
     "data": {
      "text/plain": [
       "['Efi', 'Georgie', 'Katy']"
      ]
     },
     "execution_count": 3,
     "metadata": {},
     "output_type": "execute_result"
    }
   ],
   "source": [
    "names[::2]"
   ]
  },
  {
   "cell_type": "code",
   "execution_count": 4,
   "metadata": {
    "collapsed": false
   },
   "outputs": [
    {
     "data": {
      "text/plain": [
       "['Chrissie', 'Vaso', 'Evi']"
      ]
     },
     "execution_count": 4,
     "metadata": {},
     "output_type": "execute_result"
    }
   ],
   "source": [
    "names[::-2]"
   ]
  },
  {
   "cell_type": "code",
   "execution_count": 5,
   "metadata": {
    "collapsed": false
   },
   "outputs": [
    {
     "name": "stdout",
     "output_type": "stream",
     "text": [
      "[0, 1, 2, 3]\n",
      "[10, 11, 12, 13, 14]\n"
     ]
    }
   ],
   "source": [
    "l1 = range(4)\n",
    "l2 = range(10,15)\n",
    "print l1\n",
    "print l2"
   ]
  },
  {
   "cell_type": "code",
   "execution_count": 6,
   "metadata": {
    "collapsed": false
   },
   "outputs": [
    {
     "data": {
      "text/plain": [
       "[0, 1, 2, 3, 10, 11, 12, 13, 14]"
      ]
     },
     "execution_count": 6,
     "metadata": {},
     "output_type": "execute_result"
    }
   ],
   "source": [
    "l1 + l2"
   ]
  },
  {
   "cell_type": "code",
   "execution_count": 7,
   "metadata": {
    "collapsed": true
   },
   "outputs": [],
   "source": [
    "l3 = l1+l2"
   ]
  },
  {
   "cell_type": "code",
   "execution_count": 8,
   "metadata": {
    "collapsed": false
   },
   "outputs": [
    {
     "data": {
      "text/plain": [
       "[0, 1, 2, 3, 10, 11, 12, 13, 14, 20]"
      ]
     },
     "execution_count": 8,
     "metadata": {},
     "output_type": "execute_result"
    }
   ],
   "source": [
    "l3.append(20)\n",
    "l3"
   ]
  },
  {
   "cell_type": "code",
   "execution_count": 9,
   "metadata": {
    "collapsed": false
   },
   "outputs": [
    {
     "data": {
      "text/plain": [
       "[0, 1, 2, 3, 10, 11, 12, 13, 14, 20, 21, 22, 23]"
      ]
     },
     "execution_count": 9,
     "metadata": {},
     "output_type": "execute_result"
    }
   ],
   "source": [
    "l3.extend([21,22,23])\n",
    "l3"
   ]
  },
  {
   "cell_type": "code",
   "execution_count": 10,
   "metadata": {
    "collapsed": false
   },
   "outputs": [
    {
     "data": {
      "text/plain": [
       "['Efi', 'Evi', 'Georgie', 'Vaso', 'Katy', 'Chrissie']"
      ]
     },
     "execution_count": 10,
     "metadata": {},
     "output_type": "execute_result"
    }
   ],
   "source": [
    "names"
   ]
  },
  {
   "cell_type": "code",
   "execution_count": 11,
   "metadata": {
    "collapsed": false
   },
   "outputs": [
    {
     "data": {
      "text/plain": [
       "['Chrissie', 'Georgie']"
      ]
     },
     "execution_count": 11,
     "metadata": {},
     "output_type": "execute_result"
    }
   ],
   "source": [
    "names[6:1:-3]"
   ]
  },
  {
   "cell_type": "code",
   "execution_count": 12,
   "metadata": {
    "collapsed": false
   },
   "outputs": [
    {
     "data": {
      "text/plain": [
       "['Efi', 'Evi', 'Georgie', 'Vaso', 'Katy', 'Chrissie', 'Maria']"
      ]
     },
     "execution_count": 12,
     "metadata": {},
     "output_type": "execute_result"
    }
   ],
   "source": [
    "names + ['Maria']"
   ]
  },
  {
   "cell_type": "code",
   "execution_count": 13,
   "metadata": {
    "collapsed": true
   },
   "outputs": [],
   "source": [
    "names += ['Jane']"
   ]
  },
  {
   "cell_type": "code",
   "execution_count": 14,
   "metadata": {
    "collapsed": false
   },
   "outputs": [
    {
     "data": {
      "text/plain": [
       "['Efi', 'Evi', 'Georgie', 'Vaso', 'Katy', 'Chrissie', 'Jane']"
      ]
     },
     "execution_count": 14,
     "metadata": {},
     "output_type": "execute_result"
    }
   ],
   "source": [
    "names"
   ]
  },
  {
   "cell_type": "code",
   "execution_count": 15,
   "metadata": {
    "collapsed": false
   },
   "outputs": [
    {
     "data": {
      "text/plain": [
       "30"
      ]
     },
     "execution_count": 15,
     "metadata": {},
     "output_type": "execute_result"
    }
   ],
   "source": [
    "n = 5\n",
    "n *= 6\n",
    "n"
   ]
  },
  {
   "cell_type": "code",
   "execution_count": 16,
   "metadata": {
    "collapsed": false
   },
   "outputs": [
    {
     "data": {
      "text/plain": [
       "['Efi',\n",
       " 'Evi',\n",
       " 'Georgie',\n",
       " 'Vaso',\n",
       " 'Katy',\n",
       " 'Chrissie',\n",
       " 'Jane',\n",
       " 'Andy',\n",
       " 'Tom',\n",
       " 'John']"
      ]
     },
     "execution_count": 16,
     "metadata": {},
     "output_type": "execute_result"
    }
   ],
   "source": [
    "newnames = ['Andy', 'Tom','John']\n",
    "for name in newnames:\n",
    "    names.append(name)\n",
    "names"
   ]
  },
  {
   "cell_type": "markdown",
   "metadata": {},
   "source": [
    "Προσθήκη στοιχείου λίστας σε ΣΥΓΚΕΡΜΕΝΗ θέση μέσω της μεθόδου listname.insert(index, element)"
   ]
  },
  {
   "cell_type": "code",
   "execution_count": 17,
   "metadata": {
    "collapsed": false
   },
   "outputs": [
    {
     "data": {
      "text/plain": [
       "['Efi',\n",
       " 'Evi',\n",
       " 'Georgie',\n",
       " 'Vaso',\n",
       " 'Katy',\n",
       " 'Chrissie',\n",
       " 'Jane',\n",
       " 'Andy',\n",
       " 'Tom',\n",
       " 'John']"
      ]
     },
     "execution_count": 17,
     "metadata": {},
     "output_type": "execute_result"
    }
   ],
   "source": [
    "names"
   ]
  },
  {
   "cell_type": "code",
   "execution_count": 18,
   "metadata": {
    "collapsed": false
   },
   "outputs": [
    {
     "data": {
      "text/plain": [
       "['Efi',\n",
       " 'Evi',\n",
       " 'Georgie',\n",
       " 'Gus',\n",
       " 'Vaso',\n",
       " 'Katy',\n",
       " 'Chrissie',\n",
       " 'Jane',\n",
       " 'Andy',\n",
       " 'Tom',\n",
       " 'John']"
      ]
     },
     "execution_count": 18,
     "metadata": {},
     "output_type": "execute_result"
    }
   ],
   "source": [
    "names.insert(3,'Gus')\n",
    "names"
   ]
  },
  {
   "cell_type": "code",
   "execution_count": 19,
   "metadata": {
    "collapsed": false
   },
   "outputs": [
    {
     "data": {
      "text/plain": [
       "['Efi',\n",
       " 'Evi',\n",
       " 'Georgie',\n",
       " 'Gus',\n",
       " 'Gus',\n",
       " 'Vaso',\n",
       " 'Katy',\n",
       " 'Chrissie',\n",
       " 'Jane',\n",
       " 'Andy',\n",
       " 'Tom',\n",
       " 'John']"
      ]
     },
     "execution_count": 19,
     "metadata": {},
     "output_type": "execute_result"
    }
   ],
   "source": [
    "names.insert(3,'Gus')\n",
    "names"
   ]
  },
  {
   "cell_type": "code",
   "execution_count": 20,
   "metadata": {
    "collapsed": false
   },
   "outputs": [
    {
     "data": {
      "text/plain": [
       "['Efi',\n",
       " 'Evi',\n",
       " 'Georgie',\n",
       " 'Gus',\n",
       " 'Gus',\n",
       " 'Vaso',\n",
       " 'Katy',\n",
       " [100, 200],\n",
       " 'Chrissie',\n",
       " 'Jane',\n",
       " 'Andy',\n",
       " 'Tom',\n",
       " 'John']"
      ]
     },
     "execution_count": 20,
     "metadata": {},
     "output_type": "execute_result"
    }
   ],
   "source": [
    "names.insert(7,[100,200])\n",
    "names"
   ]
  },
  {
   "cell_type": "markdown",
   "metadata": {},
   "source": [
    "Αφαίρεση στοιχείου λίστας με \n",
    "* del listname[index]\n",
    "* listname.remove(element)\n",
    "* listname.pop(index), listname.pop()"
   ]
  },
  {
   "cell_type": "code",
   "execution_count": 21,
   "metadata": {
    "collapsed": false
   },
   "outputs": [
    {
     "data": {
      "text/plain": [
       "['Efi',\n",
       " 'Evi',\n",
       " 'Georgie',\n",
       " 'Gus',\n",
       " 'Gus',\n",
       " 'Gus',\n",
       " 'Vaso',\n",
       " 'Katy',\n",
       " 'Chrissie',\n",
       " 'Jane',\n",
       " 'Andy',\n",
       " 'Tom',\n",
       " 'John']"
      ]
     },
     "execution_count": 21,
     "metadata": {},
     "output_type": "execute_result"
    }
   ],
   "source": [
    "del names[7]\n",
    "names.insert(3,'Gus')\n",
    "names"
   ]
  },
  {
   "cell_type": "code",
   "execution_count": 22,
   "metadata": {
    "collapsed": false
   },
   "outputs": [],
   "source": [
    "# del names[7,9]"
   ]
  },
  {
   "cell_type": "code",
   "execution_count": 23,
   "metadata": {
    "collapsed": true
   },
   "outputs": [],
   "source": [
    "del names[7], names[9]"
   ]
  },
  {
   "cell_type": "code",
   "execution_count": 24,
   "metadata": {
    "collapsed": false
   },
   "outputs": [
    {
     "data": {
      "text/plain": [
       "['Efi',\n",
       " 'Evi',\n",
       " 'Georgie',\n",
       " 'Gus',\n",
       " 'Gus',\n",
       " 'Gus',\n",
       " 'Vaso',\n",
       " 'Chrissie',\n",
       " 'Jane',\n",
       " 'Tom',\n",
       " 'John']"
      ]
     },
     "execution_count": 24,
     "metadata": {},
     "output_type": "execute_result"
    }
   ],
   "source": [
    "names"
   ]
  },
  {
   "cell_type": "code",
   "execution_count": 25,
   "metadata": {
    "collapsed": false
   },
   "outputs": [
    {
     "data": {
      "text/plain": [
       "['Efi', 'Georgie', 'Gus', 'Gus', 'Gus', 'Chrissie', 'Jane', 'Tom', 'John']"
      ]
     },
     "execution_count": 25,
     "metadata": {},
     "output_type": "execute_result"
    }
   ],
   "source": [
    "del names[6], names[1]\n",
    "names"
   ]
  },
  {
   "cell_type": "code",
   "execution_count": 26,
   "metadata": {
    "collapsed": false
   },
   "outputs": [],
   "source": [
    "# names.remove(2)\n",
    "# names"
   ]
  },
  {
   "cell_type": "code",
   "execution_count": 27,
   "metadata": {
    "collapsed": false
   },
   "outputs": [
    {
     "data": {
      "text/plain": [
       "['Efi', 'Georgie', 'Gus', 'Gus', 'Chrissie', 'Jane', 'Tom', 'John']"
      ]
     },
     "execution_count": 27,
     "metadata": {},
     "output_type": "execute_result"
    }
   ],
   "source": [
    "names.remove('Gus')\n",
    "names"
   ]
  },
  {
   "cell_type": "code",
   "execution_count": 28,
   "metadata": {
    "collapsed": false
   },
   "outputs": [],
   "source": [
    "# names.remove('Gus','Andy')\n",
    "# names"
   ]
  },
  {
   "cell_type": "code",
   "execution_count": 29,
   "metadata": {
    "collapsed": false
   },
   "outputs": [
    {
     "data": {
      "text/plain": [
       "['Efi', 'Georgie', 'Gus', 'Gus', 'Chrissie', 'Jane', 'Tom', 'John']"
      ]
     },
     "execution_count": 29,
     "metadata": {},
     "output_type": "execute_result"
    }
   ],
   "source": [
    "names"
   ]
  },
  {
   "cell_type": "code",
   "execution_count": 30,
   "metadata": {
    "collapsed": false
   },
   "outputs": [
    {
     "data": {
      "text/plain": [
       "['Efi', 'Georgie', 'Gus', 'Chrissie', 'Tom', 'John']"
      ]
     },
     "execution_count": 30,
     "metadata": {},
     "output_type": "execute_result"
    }
   ],
   "source": [
    "excluded = ['Gus', 'Jane']\n",
    "for i in excluded:\n",
    "    names.remove(i)\n",
    "names"
   ]
  },
  {
   "cell_type": "code",
   "execution_count": 31,
   "metadata": {
    "collapsed": false
   },
   "outputs": [
    {
     "data": {
      "text/plain": [
       "'John'"
      ]
     },
     "execution_count": 31,
     "metadata": {},
     "output_type": "execute_result"
    }
   ],
   "source": [
    "names.pop() #me () xwris tipote mesa, (1) afairei to TELYTAIO stoixeio \n",
    "# kai (2) to typwnei"
   ]
  },
  {
   "cell_type": "code",
   "execution_count": 32,
   "metadata": {
    "collapsed": false
   },
   "outputs": [
    {
     "data": {
      "text/plain": [
       "['Efi', 'Georgie', 'Gus', 'Chrissie', 'Tom']"
      ]
     },
     "execution_count": 32,
     "metadata": {},
     "output_type": "execute_result"
    }
   ],
   "source": [
    "names"
   ]
  },
  {
   "cell_type": "code",
   "execution_count": 33,
   "metadata": {
    "collapsed": false
   },
   "outputs": [
    {
     "data": {
      "text/plain": [
       "'Gus'"
      ]
     },
     "execution_count": 33,
     "metadata": {},
     "output_type": "execute_result"
    }
   ],
   "source": [
    "names.pop(2) #opws prin gia to stoixeio stin thesi 2"
   ]
  },
  {
   "cell_type": "code",
   "execution_count": 34,
   "metadata": {
    "collapsed": false
   },
   "outputs": [
    {
     "data": {
      "text/plain": [
       "['Efi', 'Georgie', 'Chrissie', 'Tom']"
      ]
     },
     "execution_count": 34,
     "metadata": {},
     "output_type": "execute_result"
    }
   ],
   "source": [
    "names"
   ]
  },
  {
   "cell_type": "code",
   "execution_count": 35,
   "metadata": {
    "collapsed": true
   },
   "outputs": [],
   "source": [
    "nums = range(1000, 2001, 23)"
   ]
  },
  {
   "cell_type": "code",
   "execution_count": 36,
   "metadata": {
    "collapsed": false
   },
   "outputs": [
    {
     "data": {
      "text/plain": [
       "299"
      ]
     },
     "execution_count": 36,
     "metadata": {},
     "output_type": "execute_result"
    }
   ],
   "source": [
    "23*13"
   ]
  },
  {
   "cell_type": "code",
   "execution_count": 37,
   "metadata": {
    "collapsed": false
   },
   "outputs": [
    {
     "data": {
      "text/plain": [
       "13"
      ]
     },
     "execution_count": 37,
     "metadata": {},
     "output_type": "execute_result"
    }
   ],
   "source": [
    "nums.index(1299)"
   ]
  },
  {
   "cell_type": "code",
   "execution_count": 38,
   "metadata": {
    "collapsed": false
   },
   "outputs": [],
   "source": [
    "# nums.index(1800)"
   ]
  },
  {
   "cell_type": "code",
   "execution_count": 39,
   "metadata": {
    "collapsed": false
   },
   "outputs": [
    {
     "data": {
      "text/plain": [
       "False"
      ]
     },
     "execution_count": 39,
     "metadata": {},
     "output_type": "execute_result"
    }
   ],
   "source": [
    "1800 in nums"
   ]
  },
  {
   "cell_type": "code",
   "execution_count": 40,
   "metadata": {
    "collapsed": false
   },
   "outputs": [
    {
     "data": {
      "text/plain": [
       "True"
      ]
     },
     "execution_count": 40,
     "metadata": {},
     "output_type": "execute_result"
    }
   ],
   "source": [
    "1299 in nums"
   ]
  },
  {
   "cell_type": "code",
   "execution_count": 41,
   "metadata": {
    "collapsed": false
   },
   "outputs": [
    {
     "data": {
      "text/plain": [
       "['Efi',\n",
       " 'Georgie',\n",
       " 'Chrissie',\n",
       " 'Tom',\n",
       " 'Efi',\n",
       " 'Georgie',\n",
       " 'Chrissie',\n",
       " 'Tom',\n",
       " 'Efi',\n",
       " 'Georgie',\n",
       " 'Chrissie',\n",
       " 'Tom']"
      ]
     },
     "execution_count": 41,
     "metadata": {},
     "output_type": "execute_result"
    }
   ],
   "source": [
    "names1 = names*3\n",
    "names1"
   ]
  },
  {
   "cell_type": "code",
   "execution_count": 42,
   "metadata": {
    "collapsed": false
   },
   "outputs": [
    {
     "data": {
      "text/plain": [
       "3"
      ]
     },
     "execution_count": 42,
     "metadata": {},
     "output_type": "execute_result"
    }
   ],
   "source": [
    "names1.index('Tom')"
   ]
  },
  {
   "cell_type": "code",
   "execution_count": 43,
   "metadata": {
    "collapsed": false
   },
   "outputs": [
    {
     "data": {
      "text/plain": [
       "['Efi',\n",
       " 'Georgie',\n",
       " 'Chrissie',\n",
       " 'Efi',\n",
       " 'Georgie',\n",
       " 'Chrissie',\n",
       " 'Tom',\n",
       " 'Efi',\n",
       " 'Georgie',\n",
       " 'Chrissie',\n",
       " 'Tom']"
      ]
     },
     "execution_count": 43,
     "metadata": {},
     "output_type": "execute_result"
    }
   ],
   "source": [
    "names1.remove('Tom')\n",
    "names1"
   ]
  },
  {
   "cell_type": "code",
   "execution_count": 44,
   "metadata": {
    "collapsed": false
   },
   "outputs": [
    {
     "data": {
      "text/plain": [
       "2"
      ]
     },
     "execution_count": 44,
     "metadata": {},
     "output_type": "execute_result"
    }
   ],
   "source": [
    "names1.count('Tom')"
   ]
  },
  {
   "cell_type": "code",
   "execution_count": 45,
   "metadata": {
    "collapsed": false
   },
   "outputs": [
    {
     "data": {
      "text/plain": [
       "3"
      ]
     },
     "execution_count": 45,
     "metadata": {},
     "output_type": "execute_result"
    }
   ],
   "source": [
    "names1.count('Efi')"
   ]
  },
  {
   "cell_type": "code",
   "execution_count": 46,
   "metadata": {
    "collapsed": false
   },
   "outputs": [
    {
     "data": {
      "text/plain": [
       "['Efi', 'Georgie', 'Chrissie', 'Tom']"
      ]
     },
     "execution_count": 46,
     "metadata": {},
     "output_type": "execute_result"
    }
   ],
   "source": [
    "names"
   ]
  },
  {
   "cell_type": "code",
   "execution_count": 47,
   "metadata": {
    "collapsed": false
   },
   "outputs": [
    {
     "name": "stdout",
     "output_type": "stream",
     "text": [
      "Element Efi appears 3 times\n",
      "Element Georgie appears 3 times\n",
      "Element Chrissie appears 3 times\n",
      "Element Efi appears 3 times\n",
      "Element Georgie appears 3 times\n",
      "Element Chrissie appears 3 times\n",
      "Element Tom appears 2 times\n",
      "Element Efi appears 3 times\n",
      "Element Georgie appears 3 times\n",
      "Element Chrissie appears 3 times\n",
      "Element Tom appears 2 times\n"
     ]
    }
   ],
   "source": [
    "for i in range(len(names1)):\n",
    "    print 'Element', names1[i], 'appears', names1.count(names1[i]), 'times'"
   ]
  },
  {
   "cell_type": "code",
   "execution_count": 48,
   "metadata": {
    "collapsed": false
   },
   "outputs": [
    {
     "data": {
      "text/plain": [
       "{'Chrissie', 'Efi', 'Georgie', 'Tom'}"
      ]
     },
     "execution_count": 48,
     "metadata": {},
     "output_type": "execute_result"
    }
   ],
   "source": [
    "namesunique=set(names1)\n",
    "namesunique"
   ]
  },
  {
   "cell_type": "code",
   "execution_count": 49,
   "metadata": {
    "collapsed": false
   },
   "outputs": [
    {
     "name": "stdout",
     "output_type": "stream",
     "text": [
      "Efi appears 3 times\n",
      "Chrissie appears 3 times\n",
      "Tom appears 2 times\n",
      "Georgie appears 3 times\n"
     ]
    }
   ],
   "source": [
    "for name in namesunique:\n",
    "    print name, 'appears', names1.count(name), 'times'"
   ]
  },
  {
   "cell_type": "code",
   "execution_count": 50,
   "metadata": {
    "collapsed": false
   },
   "outputs": [
    {
     "data": {
      "text/plain": [
       "'Efi,Georgie,Chrissie,Efi,Georgie,Chrissie,Tom,Efi,Georgie,Chrissie,Tom'"
      ]
     },
     "execution_count": 50,
     "metadata": {},
     "output_type": "execute_result"
    }
   ],
   "source": [
    "','.join(names1)"
   ]
  },
  {
   "cell_type": "code",
   "execution_count": 51,
   "metadata": {
    "collapsed": false
   },
   "outputs": [
    {
     "data": {
      "text/plain": [
       "'Efi, Georgie, Chrissie, Efi, Georgie, Chrissie, Tom, Efi, Georgie, Chrissie, Tom'"
      ]
     },
     "execution_count": 51,
     "metadata": {},
     "output_type": "execute_result"
    }
   ],
   "source": [
    "', '.join(names1)"
   ]
  },
  {
   "cell_type": "code",
   "execution_count": 52,
   "metadata": {
    "collapsed": false
   },
   "outputs": [
    {
     "data": {
      "text/plain": [
       "'Efi * Georgie * Chrissie * Efi * Georgie * Chrissie * Tom * Efi * Georgie * Chrissie * Tom'"
      ]
     },
     "execution_count": 52,
     "metadata": {},
     "output_type": "execute_result"
    }
   ],
   "source": [
    "' * '.join(names1)"
   ]
  },
  {
   "cell_type": "code",
   "execution_count": 53,
   "metadata": {
    "collapsed": true
   },
   "outputs": [],
   "source": [
    "sent = 'Xthes epaizan PAOK kai OSFP'"
   ]
  },
  {
   "cell_type": "code",
   "execution_count": 54,
   "metadata": {
    "collapsed": false
   },
   "outputs": [
    {
     "data": {
      "text/plain": [
       "['Xthes', 'epaizan', 'PAOK', 'kai', 'OSFP']"
      ]
     },
     "execution_count": 54,
     "metadata": {},
     "output_type": "execute_result"
    }
   ],
   "source": [
    "lista = sent.split(' ')\n",
    "lista"
   ]
  },
  {
   "cell_type": "code",
   "execution_count": 55,
   "metadata": {
    "collapsed": false
   },
   "outputs": [
    {
     "data": {
      "text/plain": [
       "'Xthes epaizan PAOK kai OSFP'"
      ]
     },
     "execution_count": 55,
     "metadata": {},
     "output_type": "execute_result"
    }
   ],
   "source": [
    "der = ' '.join(lista)\n",
    "der"
   ]
  },
  {
   "cell_type": "code",
   "execution_count": 56,
   "metadata": {
    "collapsed": false
   },
   "outputs": [
    {
     "data": {
      "text/plain": [
       "True"
      ]
     },
     "execution_count": 56,
     "metadata": {},
     "output_type": "execute_result"
    }
   ],
   "source": [
    "der == sent"
   ]
  },
  {
   "cell_type": "code",
   "execution_count": 57,
   "metadata": {
    "collapsed": false
   },
   "outputs": [
    {
     "data": {
      "text/plain": [
       "['Efi', 'Georgie', 'Chrissie', 'Tom']"
      ]
     },
     "execution_count": 57,
     "metadata": {},
     "output_type": "execute_result"
    }
   ],
   "source": [
    "names"
   ]
  },
  {
   "cell_type": "code",
   "execution_count": 58,
   "metadata": {
    "collapsed": false
   },
   "outputs": [
    {
     "data": {
      "text/plain": [
       "['Chrissie', 'Efi', 'Georgie', 'Tom']"
      ]
     },
     "execution_count": 58,
     "metadata": {},
     "output_type": "execute_result"
    }
   ],
   "source": [
    "names.sort()\n",
    "names"
   ]
  },
  {
   "cell_type": "code",
   "execution_count": 59,
   "metadata": {
    "collapsed": false
   },
   "outputs": [
    {
     "data": {
      "text/plain": [
       "['Chrissie', 'Georgie', 'Tom', 'efi']"
      ]
     },
     "execution_count": 59,
     "metadata": {},
     "output_type": "execute_result"
    }
   ],
   "source": [
    "nm1=['efi', 'Georgie', 'Chrissie', 'Tom']\n",
    "nm1.sort()\n",
    "nm1"
   ]
  },
  {
   "cell_type": "code",
   "execution_count": 60,
   "metadata": {
    "collapsed": false
   },
   "outputs": [
    {
     "data": {
      "text/plain": [
       "['Chrissie', 'Georgie', 'Tom', 'efi']"
      ]
     },
     "execution_count": 60,
     "metadata": {},
     "output_type": "execute_result"
    }
   ],
   "source": [
    "nm1=['efi', 'Georgie', 'Chrissie', 'Tom']\n",
    "nm2 = sorted(nm1)\n",
    "nm2"
   ]
  },
  {
   "cell_type": "code",
   "execution_count": 61,
   "metadata": {
    "collapsed": false
   },
   "outputs": [
    {
     "data": {
      "text/plain": [
       "False"
      ]
     },
     "execution_count": 61,
     "metadata": {},
     "output_type": "execute_result"
    }
   ],
   "source": [
    "nm1 == nm2"
   ]
  },
  {
   "cell_type": "code",
   "execution_count": 62,
   "metadata": {
    "collapsed": false
   },
   "outputs": [
    {
     "data": {
      "text/plain": [
       "[1, 2, 3]"
      ]
     },
     "execution_count": 62,
     "metadata": {},
     "output_type": "execute_result"
    }
   ],
   "source": [
    "a=[1,2,3]\n",
    "b = a\n",
    "b"
   ]
  },
  {
   "cell_type": "code",
   "execution_count": 63,
   "metadata": {
    "collapsed": false
   },
   "outputs": [
    {
     "name": "stdout",
     "output_type": "stream",
     "text": [
      "[1, 2000, 3]\n"
     ]
    },
    {
     "data": {
      "text/plain": [
       "[1, 2000, 3]"
      ]
     },
     "execution_count": 63,
     "metadata": {},
     "output_type": "execute_result"
    }
   ],
   "source": [
    "b[1]=2000\n",
    "print b\n",
    "a"
   ]
  },
  {
   "cell_type": "code",
   "execution_count": 64,
   "metadata": {
    "collapsed": false
   },
   "outputs": [
    {
     "name": "stdout",
     "output_type": "stream",
     "text": [
      "[1, 2, 3] [1, 2, 3]\n"
     ]
    }
   ],
   "source": [
    "from copy import deepcopy\n",
    "a=[1,2,3]\n",
    "b = deepcopy(a)\n",
    "print a, b"
   ]
  },
  {
   "cell_type": "code",
   "execution_count": 65,
   "metadata": {
    "collapsed": false
   },
   "outputs": [
    {
     "name": "stdout",
     "output_type": "stream",
     "text": [
      "[1, 2000, 3]\n"
     ]
    },
    {
     "data": {
      "text/plain": [
       "[1, 2, 3]"
      ]
     },
     "execution_count": 65,
     "metadata": {},
     "output_type": "execute_result"
    }
   ],
   "source": [
    "b[1]=2000\n",
    "print b\n",
    "a"
   ]
  },
  {
   "cell_type": "markdown",
   "metadata": {
    "collapsed": true
   },
   "source": [
    "# 2. ΣΥΜΒΟΛΟΣΕΙΡΕΣ"
   ]
  },
  {
   "cell_type": "code",
   "execution_count": 66,
   "metadata": {
    "collapsed": false
   },
   "outputs": [
    {
     "name": "stdout",
     "output_type": "stream",
     "text": [
      "HelloWorld\n",
      "Hello World!\n",
      "Hello World!Hello World!\n",
      "Hello World!Hello World!\n",
      "Hello World! Hello World! \n"
     ]
    }
   ],
   "source": [
    "# Συνένωση (+) και επανάληψη (*)\n",
    "s, t = 'Hello', 'World'\n",
    "print s + t\n",
    "print s + ' ' + t + '!'\n",
    "st = s + ' ' + t + '!'\n",
    "st1 = st + ' '\n",
    "print 2*st\n",
    "print st*2\n",
    "print st1*2"
   ]
  },
  {
   "cell_type": "code",
   "execution_count": 67,
   "metadata": {
    "collapsed": false
   },
   "outputs": [
    {
     "name": "stdout",
     "output_type": "stream",
     "text": [
      "s\n",
      "?\n",
      " \n",
      "12\n",
      "s se l\n",
      "s se lene? Pws se l\n",
      "Pws se lene?\n",
      "wsl\n",
      "P  n\n",
      "ene?\n",
      " len\n",
      "see\n",
      "els\n",
      "?enel es swP\n",
      "?enel es swP\n",
      "uoluopokannaiG aigrweG\n"
     ]
    }
   ],
   "source": [
    "# Τεμαχισμοί (Slicing): [ ]\n",
    "salut = \"Pws se lene?\"\n",
    "print salut[4]\n",
    "print salut[-1]\n",
    "print salut[-6]\n",
    "print len(salut)\n",
    "print salut[2:8]\n",
    "print salut[2:], salut[:8]\n",
    "print salut[:]\n",
    "#print salut[16], salut[6:20]\n",
    "print salut[1:10:3]\n",
    "print salut[::3]\n",
    "\n",
    "print salut[-4:]\n",
    "print salut[-6:-2]\n",
    "\n",
    "print salut[-10:-1:3]\n",
    "print salut[10:1:-3]\n",
    "\n",
    "print salut[-1::-1] # Αντιστροφή\n",
    "print salut[::-1] #Άλλος τρόπος αντιστροφής\n",
    "\n",
    "print 'Gewrgia Giannakopoulou'[-1::-1]"
   ]
  },
  {
   "cell_type": "code",
   "execution_count": 68,
   "metadata": {
    "collapsed": false
   },
   "outputs": [
    {
     "name": "stdout",
     "output_type": "stream",
     "text": [
      "['Pws', 'se', 'lene?']\n",
      "['Pws s', ' l', 'n', '?']\n",
      "To plithos twn leksewn tis frasis einai 14\n"
     ]
    }
   ],
   "source": [
    "# Χωρισμοί (Splitting) συμβολοσειράς σε λίστα με string.split()\n",
    "print salut.split()\n",
    "print salut.split('e')\n",
    "\n",
    "frasi = \"O kairos einai kalos alla oi Lakers exasan enw ksekina to karnabali stin Patra.\"\n",
    "#Metrisi leksewn stin \"frasi\" (opou \"leksi\" einai otidipote metaksy kenwn)\n",
    "print 'To plithos twn leksewn tis frasis einai', len(frasi.split())"
   ]
  },
  {
   "cell_type": "code",
   "execution_count": 69,
   "metadata": {
    "collapsed": false
   },
   "outputs": [
    {
     "name": "stdout",
     "output_type": "stream",
     "text": [
      "Pws se lene?\n"
     ]
    },
    {
     "data": {
      "text/plain": [
       "True"
      ]
     },
     "execution_count": 69,
     "metadata": {},
     "output_type": "execute_result"
    }
   ],
   "source": [
    "# Σχηματισμός συμβολοσειράς από λίστα με join\n",
    "lista = salut.split()\n",
    "symboloseira = ' '.join(lista)\n",
    "print symboloseira\n",
    "salut == symboloseira"
   ]
  },
  {
   "cell_type": "code",
   "execution_count": 70,
   "metadata": {
    "collapsed": false
   },
   "outputs": [
    {
     "name": "stdout",
     "output_type": "stream",
     "text": [
      "Pws se lene?\n",
      "*Hello World! Hello World! *\n",
      "Hello World! Hello World! \n",
      "*Hello World! Hello World!*\n",
      "Pws se lene?\n",
      "   Pws se lene?    \n",
      "Pws se lene\n",
      "Pws se lene?\n",
      "PWS SE LENE?\n",
      "pws se lene?\n",
      "pWS SE LENE?\n"
     ]
    }
   ],
   "source": [
    "# Απομάκρυνση αρχικών ή τελικών κενών ή κλπ. με το strip\n",
    "salut1 = \"   Pws se lene?    \"\n",
    "print salut1.strip()\n",
    "print '*' + st1*2 + '*'\n",
    "st2 = st1*2\n",
    "print st2\n",
    "print '*' + st2.strip() + '*'\n",
    "salut2 = \"...   Pws se lene?    .....\"\n",
    "print salut2.strip('.').strip()\n",
    "print salut2.strip().strip('.')\n",
    "print salut.strip('?')\n",
    "print salut.strip('X')\n",
    "#upper, lower\n",
    "print salut.upper()\n",
    "print salut.lower()\n",
    "print salut.swapcase()"
   ]
  },
  {
   "cell_type": "code",
   "execution_count": 71,
   "metadata": {
    "collapsed": true
   },
   "outputs": [],
   "source": [
    "# Εύρεση συμβόλου (ή υποσυμβολοσειράς) μέσα σε δοθείσα συμβολοσειρά με string.find('s')"
   ]
  },
  {
   "cell_type": "code",
   "execution_count": 72,
   "metadata": {
    "collapsed": false
   },
   "outputs": [
    {
     "name": "stdout",
     "output_type": "stream",
     "text": [
      "11\n"
     ]
    },
    {
     "data": {
      "text/plain": [
       "-1"
      ]
     },
     "execution_count": 72,
     "metadata": {},
     "output_type": "execute_result"
    }
   ],
   "source": [
    "str = \"Mississippi\"\n",
    "str.find('s') #βρίσκει την πρώτη θέση από αριστερά που συναντά το 's'\n",
    "str.find('i')\n",
    "str.rfind('s') #βρίσκει την πρώτη θέση από δεξιά που συναντά το 's'\n",
    "print len(str)\n",
    "str.rfind('i')\n",
    "str.find('a') #Επιστρέφει -1 όταν δεν υπάρχει μέσα στη συμβολοσειρά η αναζήτηση\n",
    "str.find('sip')\n",
    "str.find('ipi')\n",
    "# str.find('i','p')"
   ]
  },
  {
   "cell_type": "code",
   "execution_count": 73,
   "metadata": {
    "collapsed": false
   },
   "outputs": [
    {
     "name": "stdout",
     "output_type": "stream",
     "text": [
      "Mississippi Massassappa\n",
      "Mississippi Miaxhaxhiaxhaxhippi\n",
      "Simera brexei kai den mporoume na pame stin ekdromi\n",
      "Mixsissippi Mixxissippi Mixxixsippi Mixxixxippi Mixxixxippi\n"
     ]
    }
   ],
   "source": [
    "str = \"Mississippi\"\n",
    "str1 = str.replace('i','a') #Αντικαθιστά σε αντίγραφο (η αρχική συμβολοσειρά μένει ίδια)\n",
    "print str, str1\n",
    "str2 = str.replace('s','axh')\n",
    "print str, str2\n",
    "str.replace('q','axh') #Επειδή δεν υπάρχει το q βγάζει το αρχικό χωρίς καμία αλλαγή\n",
    "protasi = \"Simera brexei kai den mporoume na pame sto karnabali\"\n",
    "protasi_ana = protasi.replace('sto karnabali','stin ekdromi')\n",
    "print protasi_ana\n",
    "protasi_ana.replace('Simera brexei kai d','D')\n",
    "print str.replace('s','x',1), str.replace('s','x',2), str.replace('s','x',3), str.replace('s','x',4), str.replace('s','x',5)"
   ]
  },
  {
   "cell_type": "markdown",
   "metadata": {},
   "source": [
    "# 3. ΠΛΕΙΑΔΕΣ "
   ]
  },
  {
   "cell_type": "code",
   "execution_count": 74,
   "metadata": {
    "collapsed": false
   },
   "outputs": [
    {
     "name": "stdout",
     "output_type": "stream",
     "text": [
      "[0, 1, 2, 3, 4] <type 'list'>\n",
      "(0, 1, 2, 3, 4) <type 'tuple'>\n",
      "[0, 1, 2, 3, 4] <type 'list'>\n",
      "2 <type 'int'>\n",
      "(1, 2, 3) <type 'tuple'>\n",
      "(0, 1, 2, 3, 4)\n",
      "[0, 1, 2, 3, 4] <type 'list'>\n"
     ]
    },
    {
     "data": {
      "text/plain": [
       "True"
      ]
     },
     "execution_count": 74,
     "metadata": {},
     "output_type": "execute_result"
    }
   ],
   "source": [
    "lista = range(5)\n",
    "tuplea = tuple(lista) #1 tuple\n",
    "tuple1 = (lista)      #2 list!!!!!\n",
    "print lista, type(lista)\n",
    "print tuplea, type(tuplea) #1 tuple\n",
    "print tuple1, type(tuple1) #2 list!!!!!\n",
    "print tuplea[2], type(tuplea[2]) #Η εξαγωγή με [ενός στοιχείου] δίνει το στοιχείο\n",
    "print tuplea[1:4], type(tuplea[1:4]) #Η εξαγωγή με [α:β] δίνει tuple\n",
    "print tuplea[:]\n",
    "lista1 = list(tuplea)\n",
    "print lista1, type(lista1)\n",
    "lista1 == lista"
   ]
  },
  {
   "cell_type": "code",
   "execution_count": 75,
   "metadata": {
    "collapsed": false
   },
   "outputs": [
    {
     "name": "stdout",
     "output_type": "stream",
     "text": [
      "<type 'str'> <type 'tuple'> <type 'tuple'>\n",
      "False\n",
      "True\n",
      "('a', 'b') <type 'tuple'>\n",
      "<type 'float'> <type 'str'> <type 'int'> <type 'tuple'>\n",
      "<type 'tuple'> <type 'tuple'>\n",
      "(3, 4, 3) <type 'tuple'>\n"
     ]
    }
   ],
   "source": [
    "#Πλειάδα με μόνο ένα στοιχείο (μήκους 1)\n",
    "monot = ('a') #ΔΕΝ ΕΙΝΑ TUPLE OTAN EXEI ENA STOIXEIO\n",
    "monot0 = tuple('a')\n",
    "monot1 = 'a',\n",
    "print type(monot), type(monot1), type(monot0)\n",
    "print monot == monot1\n",
    "print monot1 == monot0\n",
    "tuplex = ('a','b') #Είναι tuple με τουλάχιστον 2 στοιχεία\n",
    "print tuplex, type(tuplex)\n",
    "d1 = 3.\n",
    "d1a = '3.'\n",
    "d2 = (3)\n",
    "d4 = 3,\n",
    "print type(d1), type(d1a), type(d2), type(d4)\n",
    "dd = 3,4,\n",
    "ddd = 3,4\n",
    "print type(dd), type(ddd)\n",
    "dd == ddd\n",
    "tt = dd + d4\n",
    "print tt, type(tt)"
   ]
  },
  {
   "cell_type": "markdown",
   "metadata": {
    "collapsed": true
   },
   "source": [
    "* Όσοι τελεστές δεν μεταβάλουν τα στοιχεία μιας λίστας ισχύουν και πάνω σε πλειάδες\n",
    "* Οι συνενώσεις πλειάδων και ο τεμαχισμός (slicing) δουλεύουν όπως στις λίστες\n",
    "* Τα append, extend, del, remove, pop, insert, αντικαταστάσεις στοιχείων ΔΕΝ δουλεύουν για πλειάδες!"
   ]
  },
  {
   "cell_type": "markdown",
   "metadata": {},
   "source": [
    "# 4. ΛΕΞΙΚΑ"
   ]
  },
  {
   "cell_type": "markdown",
   "metadata": {
    "collapsed": true
   },
   "source": [
    "* **Λεξικό** είναι ο τύπος μιας διατεταγμένης συλλογής στοιχείων, τα οποία είναι δομημένα ως ζευγάρια **κλειδιών**-**τιμών**, τέτοια ώστε κάθε κλειδί να αντιστοιχεί σε μια τιμή και: \n",
    "* Τα κλειδιά πρέπει να είναι μόνο δεδομένα αμετάβλητου τύπου (όπως συμβολοσειρές, αριθμοί ή πλειάδες), αλλά οι τιμές μπορεί να είναι δεδομένα οποιουδήποτε τύπου. \n",
    "* Ένα λεξικό συμβολίζεται ως **{key_1: value_1, key_2: value_2, ...}**.\n",
    "* Το κενό λεξικό είναι το **null_dictionary = {}** ή **dict()** και συνήθως χρησιμοποιείται για την κατασκευή ενός λεξικού με διαδοχικές προσθήκες στοιχείων (μέσω dictionary[key] = value).\n",
    "* Το **μήκος** ενός λεξικού **len(dictionary)** είναι το πλήθος των στοιχείων του. (Προφανώς, len({}) = 0.)"
   ]
  },
  {
   "cell_type": "code",
   "execution_count": 76,
   "metadata": {
    "collapsed": false
   },
   "outputs": [
    {
     "name": "stdout",
     "output_type": "stream",
     "text": [
      "{'Katerina': 'Vitina', 'Giwrgos': 'Tinos', 'G2': 'Lamia', 'Nikos': 'Agio'} 4\n",
      "{}\n"
     ]
    }
   ],
   "source": [
    "#Etoimo gemmato lexiko:\n",
    "d = {'Giwrgos':'Tinos','G2':'Lamia','Katerina':'Vitina','Nikos':'Agio'}\n",
    "print d, len(d)\n",
    "d1 = dict()\n",
    "print d1"
   ]
  },
  {
   "cell_type": "code",
   "execution_count": 77,
   "metadata": {
    "collapsed": false
   },
   "outputs": [
    {
     "name": "stdout",
     "output_type": "stream",
     "text": [
      "Lamia Agio\n"
     ]
    }
   ],
   "source": [
    "#Prosdiorismos stoixeiwn me indices - slicing []\n",
    "# d[key_i] = value_i\n",
    "print d['G2'], d['Nikos']"
   ]
  },
  {
   "cell_type": "code",
   "execution_count": 78,
   "metadata": {
    "collapsed": false
   },
   "outputs": [
    {
     "name": "stdout",
     "output_type": "stream",
     "text": [
      "{'C': 1.9, 'J': 1.8, 'M': 1.78}\n",
      "{'C': 1.9, 'J': 1.8, 'M': 1.7}\n"
     ]
    }
   ],
   "source": [
    "#Ktisimo lexikou apo tipote (adeio, arxika)\n",
    "d0 = {}\n",
    "# d0 = dict()\n",
    "d0['J'] = 1.80\n",
    "d0['M'] = 1.78\n",
    "d0['C'] = 1.90\n",
    "print d0\n",
    "#Allagi timwn sto idio kleidi\n",
    "d0['M'] = 1.70\n",
    "print d0"
   ]
  },
  {
   "cell_type": "markdown",
   "metadata": {},
   "source": [
    "* Πρόσβαση στη λίστα όλων των κλειδιών με **dictionary.keys()**\n",
    "* Πρόσβαση στη λίστα όλων των τιμών με **dictionary.values()**\n",
    "* Πρόσβαση στην πλειάδα όλων των κλειδιών-τιμών με **dictionary.items()**"
   ]
  },
  {
   "cell_type": "code",
   "execution_count": 79,
   "metadata": {
    "collapsed": false
   },
   "outputs": [
    {
     "name": "stdout",
     "output_type": "stream",
     "text": [
      "['Katerina', 'Giwrgos', 'G2', 'Nikos']\n",
      "['Vitina', 'Tinos', 'Lamia', 'Agio']\n",
      "[('Katerina', 'Vitina'), ('Giwrgos', 'Tinos'), ('G2', 'Lamia'), ('Nikos', 'Agio')]\n"
     ]
    }
   ],
   "source": [
    "print d.keys()   #epistrefei ti lista twn kleidiwn\n",
    "print d.values() #epistrefei ti lista twn timwnwn\n",
    "print d.items() #epistrefei tin pleiada twn (kleidiwn,timwn)"
   ]
  },
  {
   "cell_type": "code",
   "execution_count": 80,
   "metadata": {
    "collapsed": false
   },
   "outputs": [
    {
     "name": "stdout",
     "output_type": "stream",
     "text": [
      "{'Katerina': 'Vitina', 'Giwrgos': 'Tinos', 'G2': 'Lamia', 'Nikos': 'Agio'}\n",
      "{'Katerina': 'Vitina', 'Giwrgos': 'Tinos', 'Nikos': 'Agio'}\n",
      "{'Katerina': 'Vitina', 'GiwrgosK': 'Lamia', 'Giwrgos': 'Tinos', 'Nikos': 'Agio'}\n",
      "{'Katerina': 'Vitina', 'Giwrgos': 'Tinos', 'Ulrik': 'Germany', 'Juan': 'Spain', 'Nikos': 'Agio', 'GiwrgosK': 'Lamia'}\n",
      "{'Katerina': 'Vitina', 'Giwrgos': 'Tinos', 'Juan': 'Spain', 'Nikos': 'Agio', 'GiwrgosK': 'Lamia'}\n",
      "{'Katerina': 'Vitina', 'Giwrgos': 'Tinos', 'Ulrik': 'Germany', 'Juan': 'Spain', 'Nikos': 'Agio', 'GiwrgosK': 'Lamia'}\n",
      "{'Katerina': 'Vitina', 'Giwrgos': 'Tinos', 'Ulrik': 'Germany', 'Juan': 'Spain', 'Nikos': 'Agio', 'GiwrgosK': 'Lamia'}\n",
      "{'Katerina': 'Vitina', 'Giwrgos': 'Tinos', 'Ulrik': 'Germany', 'Juan': 'Spain', 'Nikos': 'Agio', 'GiwrgosK': 'Lamia'}\n",
      "{'Katerina': 'Vitina', 'Giwrgos': 'Tinos', 'Ulrik': 'Germany', 'Juan': 'Spain', 'Nikos': 'Agio', 'GiwrgosK': 'Lamia SE'}\n"
     ]
    }
   ],
   "source": [
    "#Allagi kleidiwn me afairesi paliou kai prosthiki neou\n",
    "d = {'Giwrgos':'Tinos','G2':'Lamia','Katerina':'Vitina','Nikos':'Agio'}\n",
    "print d\n",
    "#1 Afairesi me pop\n",
    "d.pop('G2')\n",
    "print d\n",
    "#2 Prosthiki enos kleidiou\n",
    "d['GiwrgosK'] ='Lamia'\n",
    "print d\n",
    "\n",
    "#Prosthiki enos ;h perissoterwn stoixeiwn se lexiko\n",
    "d.update({'Ulrik':'Germany','Juan':'Spain'})\n",
    "print d\n",
    "\n",
    "#Afairesi me del (1 stoixeiou)\n",
    "del d['Ulrik']\n",
    "print d\n",
    "\n",
    "d.update({'Ulrik':'Germany'})\n",
    "print d\n",
    "\n",
    "#PROSTHIKH TOY IDIOY STOIXEIOY  D E N  TO EPANALAMBANEI\n",
    "d.update({'Ulrik':'Germany'})\n",
    "print d\n",
    "\n",
    "d['GiwrgosK'] ='Lamia'\n",
    "print d\n",
    "\n",
    "d['GiwrgosK'] ='Lamia SE'\n",
    "print d\n",
    "\n",
    "#H AFAIRESH (eite me pop 'h me del) \n",
    "#STOIXEIOY POY DEN YPARXEI DINEI E R R O R"
   ]
  },
  {
   "cell_type": "code",
   "execution_count": null,
   "metadata": {
    "collapsed": true
   },
   "outputs": [],
   "source": [
    "# Genikws se ena lexiko i antistoixisi kleidwin timwn \n",
    "# prepei na einai 1-1\n",
    "\n",
    "# Ara to mono pou MPOROYME na exoume einai\n",
    "# tin idia timi se polla kleidia\n",
    "\n",
    "# Alla D E N  mporoume na exoume:\n",
    "# ta idia (pollapla) kleidia me diaforetikes 'h idies times\n",
    "# diladi \n",
    "# OXI polles fores ta idia kleidia me tis idies times\n",
    "# OXI polles fores ta idia kleidia me diaforetikes times"
   ]
  },
  {
   "cell_type": "code",
   "execution_count": 81,
   "metadata": {
    "collapsed": false
   },
   "outputs": [
    {
     "name": "stdout",
     "output_type": "stream",
     "text": [
      "{'Katerina': 'Vitina', 'Giwrgos': 'Tinos', 'Ulrik': 'Germany', 'Juan': 'Spain', 'Maria': 'Vitina', 'Nikos': 'Agio', 'GiwrgosK': 'Lamia SE'}\n",
      "['Katerina', 'Maria']\n",
      "['Nikos']\n"
     ]
    }
   ],
   "source": [
    "# Evresi kleidiwn pou antistoixoun se mia dedomeni timi\n",
    "# Epeidi tin idia timi mporei na tin exoun polla kleidia, genikws, ta kleidia pou antistoixoun \n",
    "# se mia dedomeni timi tha sximatizoun mia LISTA\n",
    "\n",
    "d['Maria'] = 'Vitina'\n",
    "print d\n",
    "\n",
    "searched_value = 'Vitina'\n",
    "found_keys = []\n",
    "for key, value in d.items():\n",
    "    if d[key] == searched_value:\n",
    "        found_keys.append(key)\n",
    "print found_keys\n",
    "\n",
    "searched_value = 'Agio'\n",
    "found_keys = []\n",
    "for key, value in d.items():\n",
    "    if d[key] == searched_value:\n",
    "        found_keys.append(key)\n",
    "print found_keys"
   ]
  },
  {
   "cell_type": "code",
   "execution_count": 82,
   "metadata": {
    "collapsed": false
   },
   "outputs": [
    {
     "name": "stdout",
     "output_type": "stream",
     "text": [
      "['a', 'c']\n"
     ]
    }
   ],
   "source": [
    "# O broxos (loop) pou ylopoiei tin evresi kleidiwn pou antistoixoun se mia dedomeni timi:\n",
    "\n",
    "lex={'a':10,'b':5,'c':10,'b':15}\n",
    "#Na brethoun ta kleidia pou antistoixoun stin timi 10\n",
    "searched_value = 10\n",
    "found_keys = []\n",
    "for key, value in lex.items():\n",
    "    if lex[key] == searched_value:\n",
    "        found_keys.append(key)\n",
    "print found_keys"
   ]
  },
  {
   "cell_type": "code",
   "execution_count": 83,
   "metadata": {
    "collapsed": false
   },
   "outputs": [
    {
     "name": "stdout",
     "output_type": "stream",
     "text": [
      "[('a', 10), ('c', 10), ('b', 15)]\n",
      "15\n"
     ]
    }
   ],
   "source": [
    "# lex={'a':10,'b':5,'c':10,'b':15}\n",
    "\n",
    "# print lex\n",
    "# searched_value = 'b'\n",
    "# found_values = []\n",
    "print lex.items()\n",
    "for key, value in lex.items():\n",
    "    if key == 'b':\n",
    "#         found_values.append(value)\n",
    "        print value"
   ]
  },
  {
   "cell_type": "code",
   "execution_count": 84,
   "metadata": {
    "collapsed": true
   },
   "outputs": [],
   "source": [
    "# Genikws se ena lexiko i antistoixisi kleidwin timwn \n",
    "# prepei na einai 1-1\n",
    "\n",
    "# TI MPOROYME NA KANOYME gia Idia (pollapla) kleidia me diaforetikes times???\n",
    "# H kalyteri apantisi einai na BALOYME tis pollaples times enos kleidiou \n",
    "# eite mesa se mia pleiada (Case 1) \n",
    "# 'h na baloume oles tis times twn kleidiwn tou lexikou mesa se listes (Case 2)\n",
    "# kai na ANTISTREPSOYME kleidia-times, opws parakatw:"
   ]
  },
  {
   "cell_type": "code",
   "execution_count": 94,
   "metadata": {
    "collapsed": false
   },
   "outputs": [
    {
     "data": {
      "text/plain": [
       "dict"
      ]
     },
     "execution_count": 94,
     "metadata": {},
     "output_type": "execute_result"
    }
   ],
   "source": [
    "mlex={'a':10,'b':5,'c':10,'b':15}\n",
    "# DEN EINAI LEXIKO\n",
    "type(mlex)"
   ]
  },
  {
   "cell_type": "code",
   "execution_count": 101,
   "metadata": {
    "collapsed": false
   },
   "outputs": [
    {
     "name": "stdout",
     "output_type": "stream",
     "text": [
      "mlex = {'a': 10, 'c': 5, 'b': (5, 15)}\n",
      "rmlex = {10: 'a', (5, 15): 'b', 5: 'c'}\n"
     ]
    }
   ],
   "source": [
    "# Case 1. Kapoies times ws PLEIADES\n",
    "\n",
    "# Estw oti theloume sto kleidi 'b' na dwsoume 2 times, 5 kai 15.\n",
    "# Tote anti gia lex={'a':10,'b':5,'c':10,'b':15} grafoume\n",
    "mlex={'a':10,'b':(5,15),'c':5}\n",
    "print 'mlex =', mlex\n",
    "# Antistrofi kleidiwn-timwn\n",
    "rmlex = dict()\n",
    "for key, value in mlex.items():\n",
    "    rmlex[value] = key\n",
    "print 'rmlex =', rmlex"
   ]
  },
  {
   "cell_type": "code",
   "execution_count": 102,
   "metadata": {
    "collapsed": false
   },
   "outputs": [
    {
     "name": "stdout",
     "output_type": "stream",
     "text": [
      "rmlex = {10: 'a', (5, 15): 'b', 5: 'c'}\n"
     ]
    }
   ],
   "source": [
    "# Alliws me COMPREHENSION\n",
    "\n",
    "rmlex = dict((value, key) for key, value in mlex.iteritems())\n",
    "print 'rmlex =', rmlex"
   ]
  },
  {
   "cell_type": "code",
   "execution_count": 90,
   "metadata": {
    "collapsed": false
   },
   "outputs": [
    {
     "name": "stdout",
     "output_type": "stream",
     "text": [
      "{10: ['a'], 5: ['c', 'b'], 15: ['b']}\n"
     ]
    }
   ],
   "source": [
    "# Case 2. Oles oi times ws LISTES\n",
    "\n",
    "# Tote grafoume\n",
    "mlexl={'a':[10],'b':[5,15],'c':[5]}\n",
    "rmlexl={}\n",
    "for i,k in mlexl.items():\n",
    "    for j in k:\n",
    "        if j not in rmlexl:\n",
    "            rmlexl[j]=[i]\n",
    "        else:\n",
    "            rmlexl[j].append(i)\n",
    "print rmlexl"
   ]
  },
  {
   "cell_type": "code",
   "execution_count": 92,
   "metadata": {
    "collapsed": false
   },
   "outputs": [],
   "source": [
    "# PROSOXH: i periptwsi na baloume mono kapoies times se lista DEN DOYLEYEI!\n",
    "#  G I A T I  ? ? ? ? ?\n",
    "\n",
    "# mlex={'a':10,'b':[5,15],'c':10}\n",
    "# print mlex\n",
    "# # Antistrofi kleidiwn-timwn\n",
    "# rmlex = dict((value, key) for key, value in mlex.iteritems())\n",
    "# print rmlex"
   ]
  },
  {
   "cell_type": "markdown",
   "metadata": {},
   "source": [
    "# 5. ΣΥΝΟΛΑ"
   ]
  },
  {
   "cell_type": "markdown",
   "metadata": {
    "collapsed": false
   },
   "source": [
    "* **Σύνολο** είναι ο τύπος μιας **ΜΗ διατεταγμένης** συλλογής (ή ακολουθίας) **διακριτών** στοιχείων τέτοιας ώστε: \n",
    "* Τα στοιχεία αυτά μπορούν να είναι δεδομένα οποιουδήποτε τύπου, που **μπορούν να μεταβληθούν** (από την δράση διάφορων τελεστών).\n",
    "* Ένα σύνολο συμβολίζεται ως **set([a, b, c, d, ...])**.\n",
    "* Το κενό σύνολο είναι η **null_set = set()** και συνήθως χρησιμοποιείται για την κατασκευή ενός λεξικού με διαδοχικές προσθήκες στοιχείων (μέσω add ή update).\n",
    "* Το **μήκος** ενός συνόλου **len(list)** είναι το πλήθος των στοιχείων του. (Προφανώς, len(set() = 0.)"
   ]
  },
  {
   "cell_type": "code",
   "execution_count": 107,
   "metadata": {
    "collapsed": false
   },
   "outputs": [
    {
     "name": "stdout",
     "output_type": "stream",
     "text": [
      "list1 = [0, 1, 2, 3, 4, 3, 4] <type 'list'>\n",
      "set(list1) = set([0, 1, 2, 3, 4]) <type 'set'>\n",
      "[10, 11, 12] <type 'set'> <type 'list'>\n"
     ]
    }
   ],
   "source": [
    "list1 = range(5) + [3,4]\n",
    "print 'list1 =', list1, type(list1)\n",
    "ss = set(list1)\n",
    "print 'set(list1) =', ss, type(ss)\n",
    "sss = set([10,11,12])\n",
    "print list(sss), type(sss), type(list(sss))"
   ]
  },
  {
   "cell_type": "code",
   "execution_count": 116,
   "metadata": {
    "collapsed": false
   },
   "outputs": [
    {
     "name": "stdout",
     "output_type": "stream",
     "text": [
      "11\n",
      "[10, 101, 12]\n",
      "set([10, 12, 101])\n"
     ]
    }
   ],
   "source": [
    "# Τα σύνολα ΔΕΝ υποστηρίζουν δείκτες \n",
    "# (πρόσβαση στα στοιχεία τους με [ ])!\n",
    "\n",
    "# sss[1]\n",
    "\n",
    "# Ara i prosbasi sta stoixeia tou synolou ginetai mesw\n",
    "# tis antistoixis listas\n",
    "\n",
    "# Pws allazoume stoixeia se synola (mesw tis antistoixis lista)\n",
    "\n",
    "print list(sss)[1]\n",
    "lst = list(sss)\n",
    "lst[1] = 101\n",
    "print lst\n",
    "sss1 = set(lst)\n",
    "print sss1"
   ]
  },
  {
   "cell_type": "markdown",
   "metadata": {
    "collapsed": false
   },
   "source": [
    "* Αλλαγές στα στοιχεία συνόλου με:\n",
    " - Προσθήκη **ενός** στοιχείου με **set.add**\n",
    " - Προσθήκη **πολλών** στοιχείων με **set.update**\n",
    " - Αφαίρεση στοιχείων με **set.discard**, **set.remove** και **set.clear**"
   ]
  },
  {
   "cell_type": "code",
   "execution_count": 16,
   "metadata": {
    "collapsed": false
   },
   "outputs": [
    {
     "name": "stdout",
     "output_type": "stream",
     "text": [
      "set(['x'])\n",
      "set(['a', 'x', 'm', 'n'])\n",
      "set(['a', 'x', 'n'])\n",
      "set(['a', 'x'])\n",
      "set([])\n"
     ]
    }
   ],
   "source": [
    "syn = set()\n",
    "syn.add(\"x\")\n",
    "print syn\n",
    "syn.update(['a','m','n'])\n",
    "print syn\n",
    "syn.discard('m')\n",
    "print syn\n",
    "syn.remove('n')\n",
    "print syn\n",
    "syn.clear()\n",
    "print syn\n",
    "syn1 = set(['a','m','n'])\n",
    "syn1.discard('b')\n",
    "#  syn1.remove('b')"
   ]
  },
  {
   "cell_type": "markdown",
   "metadata": {
    "collapsed": true
   },
   "source": [
    "### Συνδυασμοί Συνόλων"
   ]
  },
  {
   "cell_type": "markdown",
   "metadata": {},
   "source": [
    "#### Ένωση"
   ]
  },
  {
   "cell_type": "code",
   "execution_count": 15,
   "metadata": {
    "collapsed": false
   },
   "outputs": [
    {
     "name": "stdout",
     "output_type": "stream",
     "text": [
      "set([1, 2, 3, 4, 5])\n",
      "True\n",
      "set(['a', 1, 2, 'b', 5, 'c'])\n",
      "set(['a', 'aa'])\n"
     ]
    },
    {
     "data": {
      "text/plain": [
       "False"
      ]
     },
     "execution_count": 15,
     "metadata": {},
     "output_type": "execute_result"
    }
   ],
   "source": [
    "s1 = set([1,2,5])\n",
    "s2 = set([1,2,3,4])\n",
    "s3 = set(['a','b','c'])\n",
    "\n",
    "s1unions2 = s1.union(s2)\n",
    "print s1unions2\n",
    "s2unions1 = s2.union(s1)\n",
    "print s1unions2 == s2unions1\n",
    "print s1.union(s3)\n",
    "\n",
    "# Enas allos symbolismos tis enwsis einai\n",
    "s12 = s1 | s2\n",
    "s12 == s1unions2\n",
    "print set(['a']).union(set(['aa']))\n",
    "'a' == 'aa'"
   ]
  },
  {
   "cell_type": "markdown",
   "metadata": {},
   "source": [
    "#### Τομή\n"
   ]
  },
  {
   "cell_type": "code",
   "execution_count": 17,
   "metadata": {
    "collapsed": false
   },
   "outputs": [
    {
     "name": "stdout",
     "output_type": "stream",
     "text": [
      "set([1, 2])\n",
      "True\n",
      "set([])\n",
      "set([1, 2])\n"
     ]
    },
    {
     "data": {
      "text/plain": [
       "True"
      ]
     },
     "execution_count": 17,
     "metadata": {},
     "output_type": "execute_result"
    }
   ],
   "source": [
    "print s1.intersection(s2)\n",
    "print s1.intersection(s2) == s2.intersection(s1)\n",
    "print s1.intersection(s3)\n",
    "\n",
    "# Enas allos symbolismos tis tomis einai\n",
    "s12 = s1 & s2\n",
    "print s12\n",
    "s12 == s2.intersection(s1)"
   ]
  },
  {
   "cell_type": "markdown",
   "metadata": {},
   "source": [
    "#### Διαφορά"
   ]
  },
  {
   "cell_type": "code",
   "execution_count": 20,
   "metadata": {
    "collapsed": false
   },
   "outputs": [
    {
     "name": "stdout",
     "output_type": "stream",
     "text": [
      "set([5])\n",
      "True\n",
      "set([1, 2, 5])\n",
      "True\n",
      "set([5])\n"
     ]
    },
    {
     "data": {
      "text/plain": [
       "False"
      ]
     },
     "execution_count": 20,
     "metadata": {},
     "output_type": "execute_result"
    }
   ],
   "source": [
    "print s1.difference(s2)\n",
    "print s1.difference(s2) == s1.difference(s2)\n",
    "print s1.difference(s3) \n",
    "print s1.difference(s3) == s1\n",
    "\n",
    "# Enas allos symbolismos tis diaforas einai\n",
    "s12 = s1 - s2\n",
    "print s12\n",
    "s12 == s2.difference(s1)"
   ]
  },
  {
   "cell_type": "markdown",
   "metadata": {},
   "source": [
    "#### Συμμετρική Διαφορά"
   ]
  },
  {
   "cell_type": "code",
   "execution_count": 24,
   "metadata": {
    "collapsed": false
   },
   "outputs": [
    {
     "name": "stdout",
     "output_type": "stream",
     "text": [
      "set([3, 4, 5])\n",
      "True\n",
      "set(['a', 1, 'c', 'b', 5, 2])\n",
      "True\n",
      "set([3, 4, 5])\n"
     ]
    },
    {
     "data": {
      "text/plain": [
       "True"
      ]
     },
     "execution_count": 24,
     "metadata": {},
     "output_type": "execute_result"
    }
   ],
   "source": [
    "print s1.symmetric_difference(s2)\n",
    "print s1.symmetric_difference(s2) == s1.symmetric_difference(s2)\n",
    "print s1.symmetric_difference(s3) \n",
    "print s1.symmetric_difference(s3) == s1.union(s3)\n",
    "\n",
    "# Enas allos symbolismos tis symmetrikis diaforas einai\n",
    "s12 = s1 ^ s2\n",
    "print s12\n",
    "s12 == s2.symmetric_difference(s1)"
   ]
  },
  {
   "cell_type": "markdown",
   "metadata": {},
   "source": [
    "## 6. Συμπληρωματικά"
   ]
  },
  {
   "cell_type": "markdown",
   "metadata": {},
   "source": [
    "#### Σχόλια με '#'"
   ]
  },
  {
   "cell_type": "code",
   "execution_count": 29,
   "metadata": {
    "collapsed": false
   },
   "outputs": [
    {
     "data": {
      "text/plain": [
       "\"\\nAn se kapoio simeio mias grammis-input yparxei to # \\nden ekteleitai tipote dexia tou #\\nAra an mia grammi arxizei me # den ekteleitai: \\neinai sxolio (sxoliasmos) 'h epeksigisi 'h odigia\\n\""
      ]
     },
     "execution_count": 29,
     "metadata": {},
     "output_type": "execute_result"
    }
   ],
   "source": [
    "# An se kapoio simeio mias grammis-input yparxei to # \n",
    "# den ekteleitai tipote dexia tou #\n",
    "# Ara an mia grammi arxizei me # den ekteleitai: \n",
    "# einai sxolio (sxoliasmos) 'h epeksigisi 'h odigia\n",
    "\n",
    "s1.intersection(s2) # einai i tomi twn s1 kai s2\n",
    "\n",
    "# Enalaktika: xrisi tou docstring '''....''' typwnei!\n",
    "# '\\n' = ALLAGI GRAMMIS stin ektypwsi\n",
    "\n",
    "'''\n",
    "An se kapoio simeio mias grammis-input yparxei to # \n",
    "den ekteleitai tipote dexia tou #\n",
    "Ara an mia grammi arxizei me # den ekteleitai: \n",
    "einai sxolio (sxoliasmos) 'h epeksigisi 'h odigia\n",
    "'''"
   ]
  },
  {
   "cell_type": "markdown",
   "metadata": {},
   "source": [
    "#### zip δυο ισομηκών λιστών σε μια λίστα από ζεύγη-πλειάδες αντίστοιχων στοιχείων"
   ]
  },
  {
   "cell_type": "code",
   "execution_count": 53,
   "metadata": {
    "collapsed": false
   },
   "outputs": [
    {
     "name": "stdout",
     "output_type": "stream",
     "text": [
      "[(1, 10), (2, 8), (5, 34), (3, -7)]\n"
     ]
    },
    {
     "data": {
      "text/plain": [
       "[(1, 10), (2, 8), (5, 34), (3, -7), (300, 4)]"
      ]
     },
     "execution_count": 53,
     "metadata": {},
     "output_type": "execute_result"
    }
   ],
   "source": [
    "xaxis = [1,2,5,3]\n",
    "yaxis = [10,8,34,-7]\n",
    "print zip(xaxis,yaxis)\n",
    "\n",
    "# An oi listes DEN einai isomikis, to zip doulevei gia\n",
    "# ta PRWTA isomiki stoixeia\n",
    "xaxis = [1,2,5,3,300]\n",
    "yaxis = [10,8,34,-7,4,5,6]\n",
    "zip(xaxis,yaxis)"
   ]
  },
  {
   "cell_type": "code",
   "execution_count": null,
   "metadata": {
    "collapsed": true
   },
   "outputs": [],
   "source": []
  }
 ],
 "metadata": {
  "kernelspec": {
   "display_name": "Python 2",
   "language": "python",
   "name": "python2"
  },
  "language_info": {
   "codemirror_mode": {
    "name": "ipython",
    "version": 2
   },
   "file_extension": ".py",
   "mimetype": "text/x-python",
   "name": "python",
   "nbconvert_exporter": "python",
   "pygments_lexer": "ipython2",
   "version": "2.7.11"
  }
 },
 "nbformat": 4,
 "nbformat_minor": 0
}
