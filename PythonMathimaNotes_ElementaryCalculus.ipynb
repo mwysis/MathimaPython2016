{
 "cells": [
  {
   "cell_type": "markdown",
   "metadata": {},
   "source": [
    "# Στοιχειώδης Μαθηματικός Λογισμός με sympy"
   ]
  },
  {
   "cell_type": "code",
   "execution_count": 1,
   "metadata": {
    "collapsed": true
   },
   "outputs": [],
   "source": [
    "from sympy import *"
   ]
  },
  {
   "cell_type": "markdown",
   "metadata": {},
   "source": [
    "## 1. Απλές Αλγεβρικές Πράξεις"
   ]
  },
  {
   "cell_type": "code",
   "execution_count": 2,
   "metadata": {
    "collapsed": false
   },
   "outputs": [
    {
     "data": {
      "text/plain": [
       "x**35 + 35*x**34*y + 595*x**33*y**2 + 6545*x**32*y**3 + 52360*x**31*y**4 + 324632*x**30*y**5 + 1623160*x**29*y**6 + 6724520*x**28*y**7 + 23535820*x**27*y**8 + 70607460*x**26*y**9 + 183579396*x**25*y**10 + 417225900*x**24*y**11 + 834451800*x**23*y**12 + 1476337800*x**22*y**13 + 2319959400*x**21*y**14 + 3247943160*x**20*y**15 + 4059928950*x**19*y**16 + 4537567650*x**18*y**17 + 4537567650*x**17*y**18 + 4059928950*x**16*y**19 + 3247943160*x**15*y**20 + 2319959400*x**14*y**21 + 1476337800*x**13*y**22 + 834451800*x**12*y**23 + 417225900*x**11*y**24 + 183579396*x**10*y**25 + 70607460*x**9*y**26 + 23535820*x**8*y**27 + 6724520*x**7*y**28 + 1623160*x**6*y**29 + 324632*x**5*y**30 + 52360*x**4*y**31 + 6545*x**3*y**32 + 595*x**2*y**33 + 35*x*y**34 + y**35"
      ]
     },
     "execution_count": 2,
     "metadata": {},
     "output_type": "execute_result"
    }
   ],
   "source": [
    "x, y = symbols('x y') # Orismos metablitwn-symbolwn  '), Symbol('\n",
    "expand((x+y)**35)"
   ]
  },
  {
   "cell_type": "code",
   "execution_count": 3,
   "metadata": {
    "collapsed": false
   },
   "outputs": [
    {
     "name": "stdout",
     "output_type": "stream",
     "text": [
      "35*a + (a - 1)**35 + 35*(a - 1)**34 + 595*(a - 1)**33 + 6545*(a - 1)**32 + 52360*(a - 1)**31 + 324632*(a - 1)**30 + 1623160*(a - 1)**29 + 6724520*(a - 1)**28 + 23535820*(a - 1)**27 + 70607460*(a - 1)**26 + 183579396*(a - 1)**25 + 417225900*(a - 1)**24 + 834451800*(a - 1)**23 + 1476337800*(a - 1)**22 + 2319959400*(a - 1)**21 + 3247943160*(a - 1)**20 + 4059928950*(a - 1)**19 + 4537567650*(a - 1)**18 + 4537567650*(a - 1)**17 + 4059928950*(a - 1)**16 + 3247943160*(a - 1)**15 + 2319959400*(a - 1)**14 + 1476337800*(a - 1)**13 + 834451800*(a - 1)**12 + 417225900*(a - 1)**11 + 183579396*(a - 1)**10 + 70607460*(a - 1)**9 + 23535820*(a - 1)**8 + 6724520*(a - 1)**7 + 1623160*(a - 1)**6 + 324632*(a - 1)**5 + 52360*(a - 1)**4 + 6545*(a - 1)**3 + 595*(a - 1)**2 - 34\n",
      "f(a) = a**35\n"
     ]
    }
   ],
   "source": [
    "a = Symbol('a')\n",
    "f = expand((x+y)**35).subs(x,1).subs(y,a-1)  #subs({x:1}).subs({y:a-1})\n",
    "print f\n",
    "print 'f(a) =', simplify(f)"
   ]
  },
  {
   "cell_type": "code",
   "execution_count": 4,
   "metadata": {
    "collapsed": false
   },
   "outputs": [
    {
     "name": "stdout",
     "output_type": "stream",
     "text": [
      "re(x)**4 + 4*re(x)**3*re(y) + 4*I*re(x)**3*im(x) + 4*I*re(x)**3*im(y) + 6*re(x)**2*re(y)**2 + 12*I*re(x)**2*re(y)*im(x) + 12*I*re(x)**2*re(y)*im(y) - 6*re(x)**2*im(x)**2 - 12*re(x)**2*im(x)*im(y) - 6*re(x)**2*im(y)**2 + 4*re(x)*re(y)**3 + 12*I*re(x)*re(y)**2*im(x) + 12*I*re(x)*re(y)**2*im(y) - 12*re(x)*re(y)*im(x)**2 - 24*re(x)*re(y)*im(x)*im(y) - 12*re(x)*re(y)*im(y)**2 - 4*I*re(x)*im(x)**3 - 12*I*re(x)*im(x)**2*im(y) - 12*I*re(x)*im(x)*im(y)**2 - 4*I*re(x)*im(y)**3 + re(y)**4 + 4*I*re(y)**3*im(x) + 4*I*re(y)**3*im(y) - 6*re(y)**2*im(x)**2 - 12*re(y)**2*im(x)*im(y) - 6*re(y)**2*im(y)**2 - 4*I*re(y)*im(x)**3 - 12*I*re(y)*im(x)**2*im(y) - 12*I*re(y)*im(x)*im(y)**2 - 4*I*re(y)*im(y)**3 + im(x)**4 + 4*im(x)**3*im(y) + 6*im(x)**2*im(y)**2 + 4*im(x)*im(y)**3 + im(y)**4\n"
     ]
    }
   ],
   "source": [
    "f = expand((x+y)**4, complex=True)\n",
    "print simplify(f)\n",
    "\n",
    "# PROSOXH: To i twn migadikwn arithmwn symbolizetai ws (kefalaio) I"
   ]
  },
  {
   "cell_type": "code",
   "execution_count": 5,
   "metadata": {
    "collapsed": false
   },
   "outputs": [
    {
     "name": "stdout",
     "output_type": "stream",
     "text": [
      "2048*sin(x)**5*sin(y)**7*cos(y) - 3072*sin(x)**5*sin(y)**5*cos(y) + 1280*sin(x)**5*sin(y)**3*cos(y) - 128*sin(x)**5*sin(y)*cos(y) - 2560*sin(x)**3*sin(y)**7*cos(y) + 3840*sin(x)**3*sin(y)**5*cos(y) - 1600*sin(x)**3*sin(y)**3*cos(y) + 160*sin(x)**3*sin(y)*cos(y) + 640*sin(x)*sin(y)**7*cos(y) - 960*sin(x)*sin(y)**5*cos(y) + 400*sin(x)*sin(y)**3*cos(y) - 40*sin(x)*sin(y)*cos(y) + 2048*cos(x)**5*cos(y)**8 - 4096*cos(x)**5*cos(y)**6 + 2560*cos(x)**5*cos(y)**4 - 512*cos(x)**5*cos(y)**2 + 16*cos(x)**5 - 2560*cos(x)**3*cos(y)**8 + 5120*cos(x)**3*cos(y)**6 - 3200*cos(x)**3*cos(y)**4 + 640*cos(x)**3*cos(y)**2 - 20*cos(x)**3 + 640*cos(x)*cos(y)**8 - 1280*cos(x)*cos(y)**6 + 800*cos(x)*cos(y)**4 - 160*cos(x)*cos(y)**2 + 5*cos(x)\n",
      "\n"
     ]
    },
    {
     "data": {
      "text/plain": [
       "2048*sin(x)**5*sin(y)**7*cos(y) - 3072*sin(x)**5*sin(y)**5*cos(y) + 1280*sin(x)**5*sin(y)**3*cos(y) - 128*sin(x)**5*sin(y)*cos(y) - 2560*sin(x)**3*sin(y)**7*cos(y) + 3840*sin(x)**3*sin(y)**5*cos(y) - 1600*sin(x)**3*sin(y)**3*cos(y) + 160*sin(x)**3*sin(y)*cos(y) + 640*sin(x)*sin(y)**7*cos(y) - 960*sin(x)*sin(y)**5*cos(y) + 400*sin(x)*sin(y)**3*cos(y) + 2048*cos(x)**5*cos(y)**8 - 4096*cos(x)**5*cos(y)**6 + 2560*cos(x)**5*cos(y)**4 - 512*cos(x)**5*cos(y)**2 + 16*cos(x)**5 - 2560*cos(x)**3*cos(y)**8 + 5120*cos(x)**3*cos(y)**6 - 3200*cos(x)**3*cos(y)**4 + 640*cos(x)**3*cos(y)**2 - 20*cos(x)**3 + 640*cos(x)*cos(y)**8 - 1280*cos(x)*cos(y)**6 + 800*cos(x)*cos(y)**4 - 160*cos(x)*cos(y)**2 + 5*cos(x) - 10*cos(x - 2*y) + 10*cos(x + 2*y)"
      ]
     },
     "execution_count": 5,
     "metadata": {},
     "output_type": "execute_result"
    }
   ],
   "source": [
    "t = expand(cos(5*x+8*y), trig=True)\n",
    "print t\n",
    "print\n",
    "simplify(t)"
   ]
  },
  {
   "cell_type": "code",
   "execution_count": 6,
   "metadata": {
    "collapsed": false
   },
   "outputs": [
    {
     "data": {
      "text/plain": [
       "x*y + y**2 + 2*y + y/x"
      ]
     },
     "execution_count": 6,
     "metadata": {},
     "output_type": "execute_result"
    }
   ],
   "source": [
    "simplify((x**2 +2*x+x*y+1)/x*y)"
   ]
  },
  {
   "cell_type": "code",
   "execution_count": 7,
   "metadata": {
    "collapsed": false
   },
   "outputs": [
    {
     "data": {
      "text/plain": [
       "-2**a + 2**(b + 1) - 2*a**3 + 3*a**2 - a + 2*b**3 + 3*b**2 + b"
      ]
     },
     "execution_count": 7,
     "metadata": {},
     "output_type": "execute_result"
    }
   ],
   "source": [
    "# Ypologismos Athroismatos\n",
    "\n",
    "a, b, n = symbols('a b n')\n",
    "\n",
    "s = Sum(6*n**2 + 2**n, (n, a, b))\n",
    "s.doit()"
   ]
  },
  {
   "cell_type": "code",
   "execution_count": 8,
   "metadata": {
    "collapsed": false
   },
   "outputs": [
    {
     "data": {
      "text/plain": [
       "RisingFactorial(2, b)*factorial(b)"
      ]
     },
     "execution_count": 8,
     "metadata": {},
     "output_type": "execute_result"
    }
   ],
   "source": [
    "# Ypologismos Ginomenou\n",
    "\n",
    "product(n*(n+1), (n, 1, b))"
   ]
  },
  {
   "cell_type": "markdown",
   "metadata": {},
   "source": [
    "## 2. Αλγεβρικές και Συναρτησιακές Εξισώσεις"
   ]
  },
  {
   "cell_type": "code",
   "execution_count": 9,
   "metadata": {
    "collapsed": false
   },
   "outputs": [
    {
     "name": "stdout",
     "output_type": "stream",
     "text": [
      "[-1, 1, -I, I]\n"
     ]
    },
    {
     "data": {
      "text/plain": [
       "[-2, -2*I, 2*I]"
      ]
     },
     "execution_count": 9,
     "metadata": {},
     "output_type": "execute_result"
    }
   ],
   "source": [
    "# Polywnymikes exiswseis\n",
    "\n",
    "print solve(x**4 - 1, x)\n",
    "solve(x**3 + 2*x**2 + 4*x + 8, x)   "
   ]
  },
  {
   "cell_type": "code",
   "execution_count": 10,
   "metadata": {
    "collapsed": false
   },
   "outputs": [
    {
     "data": {
      "text/plain": [
       "{x: -3, y: 1}"
      ]
     },
     "execution_count": 10,
     "metadata": {},
     "output_type": "execute_result"
    }
   ],
   "source": [
    "# Systima grammikwn eksiswsewn\n",
    "\n",
    "solve([x + 5*y - 2, -3*x + 6*y - 15], [x, y])"
   ]
  },
  {
   "cell_type": "code",
   "execution_count": 11,
   "metadata": {
    "collapsed": false
   },
   "outputs": [
    {
     "data": {
      "text/plain": [
       "(1/2 + sqrt(6)/4)*(1 + sqrt(6))**n + (-sqrt(6) + 1)**n*(-sqrt(6)/4 + 1/2)"
      ]
     },
     "execution_count": 11,
     "metadata": {},
     "output_type": "execute_result"
    }
   ],
   "source": [
    "# Anadromikes Exiswseis\n",
    "\n",
    "f=Function('f')\n",
    "var('y')\n",
    "var('n',integer=True)\n",
    "\n",
    "f=y(n)-2*y(n-1)-5*y(n-2)\n",
    "\n",
    "rsolve(f,y(n),[1,4])"
   ]
  },
  {
   "cell_type": "code",
   "execution_count": 12,
   "metadata": {
    "collapsed": false
   },
   "outputs": [
    {
     "name": "stdout",
     "output_type": "stream",
     "text": [
      "f(1/2) - 3*f(2) == 2\n",
      "-3*f(1/2) + f(2) == 1/2\n"
     ]
    },
    {
     "data": {
      "text/plain": [
       "[{f(2): -13/16, f(1/2): -7/16}]"
      ]
     },
     "execution_count": 12,
     "metadata": {},
     "output_type": "execute_result"
    }
   ],
   "source": [
    "# Synartisiakes Exiswseis\n",
    "\n",
    "f=Function('f')\n",
    "ex=Eq(f(1/x)-3*f(x),x)\n",
    "\n",
    "print ex.subs(x,2)\n",
    "print ex.subs(x,Rational(1,2))\n",
    "solve([f(Rational(1,2))-3*f(2)-2,-3*f(Rational(1,2))+f(2)-Rational(1,2)])"
   ]
  },
  {
   "cell_type": "markdown",
   "metadata": {},
   "source": [
    "## 3. Παραγοντοποίηση Πολυωνύμων"
   ]
  },
  {
   "cell_type": "code",
   "execution_count": 13,
   "metadata": {
    "collapsed": false
   },
   "outputs": [
    {
     "name": "stdout",
     "output_type": "stream",
     "text": [
      "(x**2 + 1)*(x**4 - x**2 + 1)\n"
     ]
    },
    {
     "data": {
      "text/plain": [
       "(x - I)*(x + I)*(x**2 - I*x - 1)*(x**2 + I*x - 1)"
      ]
     },
     "execution_count": 13,
     "metadata": {},
     "output_type": "execute_result"
    }
   ],
   "source": [
    "f = x**6 + 1\n",
    "\n",
    "print factor(f)\n",
    "factor(f, extension=[I])"
   ]
  },
  {
   "cell_type": "code",
   "execution_count": 14,
   "metadata": {
    "collapsed": false
   },
   "outputs": [
    {
     "name": "stdout",
     "output_type": "stream",
     "text": [
      "(x**2 - x - 1)*(x**2 + x - 1)\n"
     ]
    },
    {
     "data": {
      "text/plain": [
       "(x - 2)**2*(x + 2)**2"
      ]
     },
     "execution_count": 14,
     "metadata": {},
     "output_type": "execute_result"
    }
   ],
   "source": [
    "f = x**4 - 3*x**2 + 1\n",
    "\n",
    "print factor(f)\n",
    "factor(f, modulus=5)"
   ]
  },
  {
   "cell_type": "code",
   "execution_count": 15,
   "metadata": {
    "collapsed": false
   },
   "outputs": [
    {
     "data": {
      "text/plain": [
       "(x - I)*(x + I)"
      ]
     },
     "execution_count": 15,
     "metadata": {},
     "output_type": "execute_result"
    }
   ],
   "source": [
    "factor(x**2 + 1, extension=[I])"
   ]
  },
  {
   "cell_type": "markdown",
   "metadata": {},
   "source": [
    "## 4. Όρια"
   ]
  },
  {
   "cell_type": "code",
   "execution_count": 16,
   "metadata": {
    "collapsed": false
   },
   "outputs": [
    {
     "data": {
      "text/plain": [
       "0"
      ]
     },
     "execution_count": 16,
     "metadata": {},
     "output_type": "execute_result"
    }
   ],
   "source": [
    "n = Symbol('n') # Orismos metablitis-symbolou\n",
    "l1 = limit(1/n, n, S.Infinity)\n",
    "l1.doit()"
   ]
  },
  {
   "cell_type": "code",
   "execution_count": 17,
   "metadata": {
    "collapsed": false
   },
   "outputs": [
    {
     "data": {
      "text/plain": [
       "-oo"
      ]
     },
     "execution_count": 17,
     "metadata": {},
     "output_type": "execute_result"
    }
   ],
   "source": [
    "l2 = limit(2*n/(5-n), n, 5)\n",
    "l2 # l2.doit()"
   ]
  },
  {
   "cell_type": "code",
   "execution_count": 18,
   "metadata": {
    "collapsed": false
   },
   "outputs": [
    {
     "name": "stdout",
     "output_type": "stream",
     "text": [
      "121/9 13.4444444444\n"
     ]
    }
   ],
   "source": [
    "l3 = limit((n**2 + 2*n + 1)/(n - 1), n, 10)\n",
    "a = l3  #.doit()\n",
    "print a, float(a)"
   ]
  },
  {
   "cell_type": "code",
   "execution_count": 19,
   "metadata": {
    "collapsed": false
   },
   "outputs": [
    {
     "data": {
      "text/plain": [
       "1"
      ]
     },
     "execution_count": 19,
     "metadata": {},
     "output_type": "execute_result"
    }
   ],
   "source": [
    "l4 = limit(sin(n)/n, n, 0)\n",
    "l4  #.doit()"
   ]
  },
  {
   "cell_type": "code",
   "execution_count": 20,
   "metadata": {
    "collapsed": false
   },
   "outputs": [
    {
     "name": "stdout",
     "output_type": "stream",
     "text": [
      "E 2.71828182846\n"
     ]
    }
   ],
   "source": [
    "k = limit((1+1/n)**n, n, S.Infinity)  #.doit()\n",
    "print k, float(k)"
   ]
  },
  {
   "cell_type": "markdown",
   "metadata": {},
   "source": [
    "## 5. Πράγωγοι"
   ]
  },
  {
   "cell_type": "code",
   "execution_count": 21,
   "metadata": {
    "collapsed": false
   },
   "outputs": [
    {
     "name": "stdout",
     "output_type": "stream",
     "text": [
      "(2*x - 2)/x - (x - 1)**2/x**2\n"
     ]
    }
   ],
   "source": [
    "x = Symbol('x') # Orismos metablitis-symbolou\n",
    "y = (x - 1)**2/x\n",
    "print diff((x - 1)**2/x)  #Derivative(y,x).doit()"
   ]
  },
  {
   "cell_type": "code",
   "execution_count": 22,
   "metadata": {
    "collapsed": false
   },
   "outputs": [
    {
     "name": "stdout",
     "output_type": "stream",
     "text": [
      "0\n",
      "3/4 0.75 0.750000000000000 0.75000\n"
     ]
    }
   ],
   "source": [
    "print diff((x - 1)**2/x).subs(x,1)   #subs({x:1})\n",
    "k = diff((x - 1)**2/x).subs(x,2)     #subs({x:2})\n",
    "print k, float(k), k.evalf(), k.evalf(5)"
   ]
  },
  {
   "cell_type": "code",
   "execution_count": 23,
   "metadata": {
    "collapsed": false
   },
   "outputs": [
    {
     "name": "stdout",
     "output_type": "stream",
     "text": [
      "2*cos(2*x)\n",
      "-4*sin(2*x)\n"
     ]
    },
    {
     "data": {
      "text/plain": [
       "-8*cos(2*x)"
      ]
     },
     "execution_count": 23,
     "metadata": {},
     "output_type": "execute_result"
    }
   ],
   "source": [
    "print diff(sin(2*x), x, 1)\n",
    "print diff(sin(2*x), x, 2)\n",
    "diff(sin(2*x), x, 3)"
   ]
  },
  {
   "cell_type": "code",
   "execution_count": 24,
   "metadata": {
    "collapsed": false
   },
   "outputs": [
    {
     "name": "stdout",
     "output_type": "stream",
     "text": [
      "3/4 0.75\n"
     ]
    }
   ],
   "source": [
    "k = Derivative(y,x).doit().subs({x:2})\n",
    "print k, float(k)"
   ]
  },
  {
   "cell_type": "code",
   "execution_count": 25,
   "metadata": {
    "collapsed": false
   },
   "outputs": [
    {
     "data": {
      "text/plain": [
       "-f(x)*Derivative(g(x), x)/g(x)**2 + Derivative(f(x), x)/g(x)"
      ]
     },
     "execution_count": 25,
     "metadata": {},
     "output_type": "execute_result"
    }
   ],
   "source": [
    "# Paragwgisi pilikou synartisewn\n",
    "\n",
    "x = Symbol(\"x\")\n",
    "f = Function(\"f\")\n",
    "g = Function(\"g\")\n",
    "\n",
    "y = f(x) / g(x)\n",
    "\n",
    "y.diff(x)"
   ]
  },
  {
   "cell_type": "code",
   "execution_count": 26,
   "metadata": {
    "collapsed": false
   },
   "outputs": [
    {
     "data": {
      "text/plain": [
       "-(-f(x)*Derivative(g(x), x)/g(x)**2 + Derivative(f(x), x)/g(x))*f(x)**2*Subs(Derivative(g(_xi_1), _xi_1), (_xi_1,), (f(x)/g(x),))/g(f(x)/g(x))**2 + 2*(-f(x)*Derivative(g(x), x)/g(x)**2 + Derivative(f(x), x)/g(x))*Subs(Derivative(g(_xi_1), _xi_1), (_xi_1,), (f(x)/g(x),)) + 2*f(x)*Derivative(f(x), x)/g(f(x)/g(x)) - 3*Derivative(f(x), x)"
      ]
     },
     "execution_count": 26,
     "metadata": {},
     "output_type": "execute_result"
    }
   ],
   "source": [
    "# Paragwgisi peplegmenis synartisis\n",
    "\n",
    "f = Function(\"f\")(x)\n",
    "g = Function(\"g\")(y)\n",
    "\n",
    "expr = (f**2)*(g**(-1))-3*f+2*g\n",
    "\n",
    "diff(expr, x)"
   ]
  },
  {
   "cell_type": "markdown",
   "metadata": {},
   "source": [
    "## 6. Ανάλυση σε Σειρές Taylor"
   ]
  },
  {
   "cell_type": "code",
   "execution_count": 27,
   "metadata": {
    "collapsed": false
   },
   "outputs": [
    {
     "data": {
      "text/plain": [
       "cos(1)**3 + 9*x*sin(1)*cos(1)**2 + x**2*(-27*cos(1)**3/2 + 27*sin(1)**2*cos(1)) + x**3*(-189*sin(1)*cos(1)**2/2 + 27*sin(1)**3) + x**4*(-405*sin(1)**2*cos(1)/2 + 567*cos(1)**3/8) + x**5*(-243*sin(1)**3/2 + 14823*sin(1)*cos(1)**2/40) + O(x**6)"
      ]
     },
     "execution_count": 27,
     "metadata": {},
     "output_type": "execute_result"
    }
   ],
   "source": [
    "series(cos(3*x-1)**3,x)"
   ]
  },
  {
   "cell_type": "code",
   "execution_count": 28,
   "metadata": {
    "collapsed": false
   },
   "outputs": [
    {
     "data": {
      "text/plain": [
       "cos(1)**3 + 9*x*sin(1)*cos(1)**2 + x**2*(-27*cos(1)**3/2 + 27*sin(1)**2*cos(1)) + x**3*(-189*sin(1)*cos(1)**2/2 + 27*sin(1)**3) + x**4*(-405*sin(1)**2*cos(1)/2 + 567*cos(1)**3/8) + x**5*(-243*sin(1)**3/2 + 14823*sin(1)*cos(1)**2/40) + x**6*(-14823*cos(1)**3/80 + 22113*sin(1)**2*cos(1)/40) + x**7*(-398763*sin(1)*cos(1)**2/560 + 9477*sin(1)**3/40) + O(x**8)"
      ]
     },
     "execution_count": 28,
     "metadata": {},
     "output_type": "execute_result"
    }
   ],
   "source": [
    "expr = cos(3*x-1)**3\n",
    "expr.series(x,0,8)"
   ]
  },
  {
   "cell_type": "code",
   "execution_count": 29,
   "metadata": {
    "collapsed": false
   },
   "outputs": [
    {
     "data": {
      "text/plain": [
       "1 - x**2/2 + x**4/24 + O(x**6)"
      ]
     },
     "execution_count": 29,
     "metadata": {},
     "output_type": "execute_result"
    }
   ],
   "source": [
    "series(cos(x), x)"
   ]
  },
  {
   "cell_type": "code",
   "execution_count": 30,
   "metadata": {
    "collapsed": false
   },
   "outputs": [
    {
     "data": {
      "text/plain": [
       "1 - x**2/2 + x**4/24 - x**6/720 + x**8/40320 + O(x**10)"
      ]
     },
     "execution_count": 30,
     "metadata": {},
     "output_type": "execute_result"
    }
   ],
   "source": [
    "expr = cos(x)\n",
    "expr.series(x,0,10)"
   ]
  },
  {
   "cell_type": "code",
   "execution_count": 31,
   "metadata": {
    "collapsed": false
   },
   "outputs": [
    {
     "data": {
      "text/plain": [
       "cos(4)**(-2) + 2*x*sin(4)/cos(4)**3 + x**2*(cos(4)**(-2) + 3*sin(4)**2/cos(4)**4) + x**3*(8*sin(4)/(3*cos(4)**3) + 4*sin(4)**3/cos(4)**5) + x**4*(2/(3*cos(4)**2) + 5*sin(4)**2/cos(4)**4 + 5*sin(4)**4/cos(4)**6) + x**5*(34*sin(4)/(15*cos(4)**3) + 8*sin(4)**3/cos(4)**5 + 6*sin(4)**5/cos(4)**7) + O(x**6)"
      ]
     },
     "execution_count": 31,
     "metadata": {},
     "output_type": "execute_result"
    }
   ],
   "source": [
    " series(1/cos(x+4)**2, x)"
   ]
  },
  {
   "cell_type": "markdown",
   "metadata": {},
   "source": [
    "## 7. Ολοκληρώματα"
   ]
  },
  {
   "cell_type": "markdown",
   "metadata": {},
   "source": [
    "#### Αόριστα Ολοκληρώματα"
   ]
  },
  {
   "cell_type": "code",
   "execution_count": 32,
   "metadata": {
    "collapsed": false
   },
   "outputs": [
    {
     "data": {
      "text/plain": [
       "-1/(2*x**2 + 8*x + 8)"
      ]
     },
     "execution_count": 32,
     "metadata": {},
     "output_type": "execute_result"
    }
   ],
   "source": [
    "integrate(1/(2+x)**3,x)"
   ]
  },
  {
   "cell_type": "code",
   "execution_count": 33,
   "metadata": {
    "collapsed": false
   },
   "outputs": [
    {
     "data": {
      "text/plain": [
       "-x**5*cos(x) + 5*x**4*sin(x) + 20*x**3*cos(x) - 60*x**2*sin(x) - 120*x*cos(x) + 120*sin(x)"
      ]
     },
     "execution_count": 33,
     "metadata": {},
     "output_type": "execute_result"
    }
   ],
   "source": [
    "integrate((x**5)*sin(x),x)"
   ]
  },
  {
   "cell_type": "code",
   "execution_count": 34,
   "metadata": {
    "collapsed": false
   },
   "outputs": [
    {
     "data": {
      "text/plain": [
       "x**2*sin(x) + 2*x*cos(x) - 2*sin(x)"
      ]
     },
     "execution_count": 34,
     "metadata": {},
     "output_type": "execute_result"
    }
   ],
   "source": [
    "integrate(x**2 * cos(x), x)"
   ]
  },
  {
   "cell_type": "markdown",
   "metadata": {},
   "source": [
    "#### Ορισμένα Ολοκληρώματα"
   ]
  },
  {
   "cell_type": "code",
   "execution_count": 35,
   "metadata": {
    "collapsed": false
   },
   "outputs": [
    {
     "data": {
      "text/plain": [
       "15/32"
      ]
     },
     "execution_count": 35,
     "metadata": {},
     "output_type": "execute_result"
    }
   ],
   "source": [
    "integrate(1/(2+x)**3,(x,-1,2))"
   ]
  },
  {
   "cell_type": "code",
   "execution_count": 36,
   "metadata": {
    "collapsed": false
   },
   "outputs": [
    {
     "data": {
      "text/plain": [
       "-7*pi**3 + 6*pi"
      ]
     },
     "execution_count": 36,
     "metadata": {},
     "output_type": "execute_result"
    }
   ],
   "source": [
    "integrate((x**3)*sin(x),(x,-pi,2*pi))"
   ]
  },
  {
   "cell_type": "code",
   "execution_count": 37,
   "metadata": {
    "collapsed": false
   },
   "outputs": [
    {
     "data": {
      "text/plain": [
       "-2 + pi**2/4"
      ]
     },
     "execution_count": 37,
     "metadata": {},
     "output_type": "execute_result"
    }
   ],
   "source": [
    "integrate(x**2 * cos(x), (x, 0, pi/2))"
   ]
  },
  {
   "cell_type": "markdown",
   "metadata": {},
   "source": [
    "#### Γενικευμένα Ολοκληρώματα"
   ]
  },
  {
   "cell_type": "code",
   "execution_count": 38,
   "metadata": {
    "collapsed": false
   },
   "outputs": [
    {
     "data": {
      "text/plain": [
       "1"
      ]
     },
     "execution_count": 38,
     "metadata": {},
     "output_type": "execute_result"
    }
   ],
   "source": [
    "integrate(exp(-x), (x, 0, oo))"
   ]
  },
  {
   "cell_type": "code",
   "execution_count": 39,
   "metadata": {
    "collapsed": false
   },
   "outputs": [
    {
     "data": {
      "text/plain": [
       "sqrt(pi)"
      ]
     },
     "execution_count": 39,
     "metadata": {},
     "output_type": "execute_result"
    }
   ],
   "source": [
    "integrate(exp(-x**2), (x, -oo, oo))"
   ]
  },
  {
   "cell_type": "markdown",
   "metadata": {},
   "source": [
    "## 8. Γραμμική Άλγεβρα"
   ]
  },
  {
   "cell_type": "code",
   "execution_count": 40,
   "metadata": {
    "collapsed": false
   },
   "outputs": [
    {
     "name": "stdout",
     "output_type": "stream",
     "text": [
      "Matrix([[4*x*y*(x*y + 1) + 4*x*y + (x*y + 1)**2, 4*x*(x*y + 1) + x*(4*x*y + (x*y + 1)**2)], [4*y*(x*y + 1) + y*(4*x*y + (x*y + 1)**2), 4*x*y*(x*y + 1) + 4*x*y + (x*y + 1)**2]])\n",
      "\n",
      "Matrix([[x*y/(-x*y + 1) + 1, -x/(-x*y + 1)], [-y/(-x*y + 1), 1/(-x*y + 1)]])\n",
      "-x*y + 1\n"
     ]
    },
    {
     "data": {
      "text/plain": [
       "{-sqrt(x*y) + 1: 1, sqrt(x*y) + 1: 1}"
      ]
     },
     "execution_count": 40,
     "metadata": {},
     "output_type": "execute_result"
    }
   ],
   "source": [
    "x, y = symbols('x y')\n",
    "A = Matrix([[1,x], [y,1]])\n",
    "\n",
    "print A**5\n",
    "print\n",
    "print A.inv()\n",
    "print A.det()\n",
    "A.eigenvals()"
   ]
  },
  {
   "cell_type": "markdown",
   "metadata": {},
   "source": [
    "## 9. Σύνηθεις Διαφορικές Εξισώσεις"
   ]
  },
  {
   "cell_type": "code",
   "execution_count": 41,
   "metadata": {
    "collapsed": false
   },
   "outputs": [
    {
     "data": {
      "text/plain": [
       "y(x) == C1*exp(-9*x)/9 + 1/9"
      ]
     },
     "execution_count": 41,
     "metadata": {},
     "output_type": "execute_result"
    }
   ],
   "source": [
    "# Grammiki prwtis taxis\n",
    "# y'(x) = 1 - 9 y(x)\n",
    "\n",
    "y = Function('y')\n",
    "\n",
    "dsolve(diff(y(x),x) + 9*y(x) - 1, y(x))"
   ]
  },
  {
   "cell_type": "code",
   "execution_count": 42,
   "metadata": {
    "collapsed": false
   },
   "outputs": [
    {
     "name": "stdout",
     "output_type": "stream",
     "text": [
      "y(x) == C1*exp(-x**2/2)\n"
     ]
    },
    {
     "data": {
      "text/plain": [
       "y(x) == -4/(C1 + x**4)"
      ]
     },
     "execution_count": 42,
     "metadata": {},
     "output_type": "execute_result"
    }
   ],
   "source": [
    "# Prwtis taxis xwrismenwn metablitwn\n",
    "# y'(x) = - x y(x)\n",
    "\n",
    "print dsolve(diff(y(x),x) + x*y(x), y(x))\n",
    "\n",
    "# y'(x) = x^3 y(x)^2\n",
    "\n",
    "dsolve(diff(y(x),x) - (x**3)*(y(x)**2), y(x))"
   ]
  },
  {
   "cell_type": "code",
   "execution_count": 43,
   "metadata": {
    "collapsed": false
   },
   "outputs": [
    {
     "data": {
      "text/plain": [
       "y(x) == C1/sqrt(x**2 - 9) + x/2 + 9*acosh(x/3)/(2*sqrt(x**2 - 9))"
      ]
     },
     "execution_count": 43,
     "metadata": {},
     "output_type": "execute_result"
    }
   ],
   "source": [
    "# (x^2 - ) y'(x) + xy = x^2\n",
    "\n",
    "\n",
    "dsolve((x**2 - 9)*diff(y(x),x) + x *y(x) - x**2, y(x))"
   ]
  },
  {
   "cell_type": "code",
   "execution_count": 44,
   "metadata": {
    "collapsed": false
   },
   "outputs": [
    {
     "data": {
      "text/plain": [
       "y(x) == C1*sin(3*x) + C2*cos(3*x) + 1/9"
      ]
     },
     "execution_count": 44,
     "metadata": {},
     "output_type": "execute_result"
    }
   ],
   "source": [
    "# Grammiki diaforikis exiswsis devteris taxis me stath. syntel.: \n",
    "# y''(x) + 9 y(x) = 1\n",
    "\n",
    "dsolve(diff(y(x),x,2) + 9*y(x) - 1, y(x))"
   ]
  },
  {
   "cell_type": "code",
   "execution_count": null,
   "metadata": {
    "collapsed": true
   },
   "outputs": [],
   "source": []
  }
 ],
 "metadata": {
  "kernelspec": {
   "display_name": "Python 2",
   "language": "python",
   "name": "python2"
  },
  "language_info": {
   "codemirror_mode": {
    "name": "ipython",
    "version": 2
   },
   "file_extension": ".py",
   "mimetype": "text/x-python",
   "name": "python",
   "nbconvert_exporter": "python",
   "pygments_lexer": "ipython2",
   "version": "2.7.11"
  }
 },
 "nbformat": 4,
 "nbformat_minor": 0
}
